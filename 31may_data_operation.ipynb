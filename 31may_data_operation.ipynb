{
 "cells": [
  {
   "cell_type": "code",
   "execution_count": null,
   "id": "a20509da",
   "metadata": {},
   "outputs": [],
   "source": [
    "s={}"
   ]
  },
  {
   "cell_type": "code",
   "execution_count": null,
   "id": "a300005e",
   "metadata": {},
   "outputs": [],
   "source": [
    "type(s)"
   ]
  },
  {
   "cell_type": "code",
   "execution_count": null,
   "id": "059960b9",
   "metadata": {},
   "outputs": [],
   "source": [
    "s1={2,3,4,5,6}"
   ]
  },
  {
   "cell_type": "code",
   "execution_count": null,
   "id": "d7e809b5",
   "metadata": {},
   "outputs": [],
   "source": [
    "type(s1)"
   ]
  },
  {
   "cell_type": "code",
   "execution_count": null,
   "id": "25c779e6",
   "metadata": {},
   "outputs": [],
   "source": [
    "s2={2,3,4,545.67,\"summon\", True, 76+58j}"
   ]
  },
  {
   "cell_type": "code",
   "execution_count": null,
   "id": "a09b77dd",
   "metadata": {},
   "outputs": [],
   "source": [
    "s2"
   ]
  },
  {
   "cell_type": "code",
   "execution_count": null,
   "id": "74315320",
   "metadata": {},
   "outputs": [],
   "source": [
    "s3={6,6,6,67,44,44,78,4}"
   ]
  },
  {
   "cell_type": "code",
   "execution_count": null,
   "id": "f4e63968",
   "metadata": {},
   "outputs": [],
   "source": [
    "s3"
   ]
  },
  {
   "cell_type": "code",
   "execution_count": null,
   "id": "046794a9",
   "metadata": {},
   "outputs": [],
   "source": [
    "type(s3)"
   ]
  },
  {
   "cell_type": "code",
   "execution_count": null,
   "id": "17ec702b",
   "metadata": {},
   "outputs": [],
   "source": [
    "s4 = list(s3)"
   ]
  },
  {
   "cell_type": "code",
   "execution_count": null,
   "id": "50faa6a3",
   "metadata": {},
   "outputs": [],
   "source": [
    "s4"
   ]
  },
  {
   "cell_type": "code",
   "execution_count": null,
   "id": "74b6c939",
   "metadata": {},
   "outputs": [],
   "source": [
    "l3=[4,4,4,5,33,33,2,3,4,4,7,7,7,9,0]"
   ]
  },
  {
   "cell_type": "code",
   "execution_count": null,
   "id": "7697856d",
   "metadata": {},
   "outputs": [],
   "source": [
    "l4 = set(l3)"
   ]
  },
  {
   "cell_type": "code",
   "execution_count": null,
   "id": "7b6c93ef",
   "metadata": {},
   "outputs": [],
   "source": [
    "l4"
   ]
  },
  {
   "cell_type": "code",
   "execution_count": null,
   "id": "5c6f152f",
   "metadata": {},
   "outputs": [],
   "source": [
    "tuple(s3)"
   ]
  },
  {
   "cell_type": "code",
   "execution_count": null,
   "id": "8a79d6d3",
   "metadata": {},
   "outputs": [],
   "source": [
    "s5={\"sudh\",\"Sudh\"}"
   ]
  },
  {
   "cell_type": "code",
   "execution_count": null,
   "id": "e202199a",
   "metadata": {},
   "outputs": [],
   "source": [
    "s5"
   ]
  },
  {
   "cell_type": "code",
   "execution_count": null,
   "id": "5a6b4893",
   "metadata": {},
   "outputs": [],
   "source": [
    "d = {\"name\",\"harry\",\"home\", \"barachatti gaya bihar\"}"
   ]
  },
  {
   "cell_type": "code",
   "execution_count": null,
   "id": "47b8aacd",
   "metadata": {},
   "outputs": [],
   "source": [
    "d"
   ]
  },
  {
   "cell_type": "code",
   "execution_count": null,
   "id": "2603faa4",
   "metadata": {},
   "outputs": [],
   "source": [
    "d= {\"name\":\"charvi\", \"home\": \"barachatti\"}"
   ]
  },
  {
   "cell_type": "code",
   "execution_count": null,
   "id": "7a5d6308",
   "metadata": {},
   "outputs": [],
   "source": [
    "d"
   ]
  },
  {
   "cell_type": "code",
   "execution_count": null,
   "id": "83086fd9",
   "metadata": {},
   "outputs": [],
   "source": [
    "d[\"name\"]"
   ]
  },
  {
   "cell_type": "code",
   "execution_count": null,
   "id": "95226083",
   "metadata": {},
   "outputs": [],
   "source": [
    "d[\"home\"]"
   ]
  },
  {
   "cell_type": "code",
   "execution_count": null,
   "id": "2e3f4564",
   "metadata": {},
   "outputs": [],
   "source": [
    "d2={\"name\":\"chitranjan\", \"home\":\"barachatti\", \"district\":\"gaya\", \"state\":\"bihar\", \"family\":(\"two children and wife\"), \"family history\":\"[8 members including 3 goat]\", \"job\": \"private\"}"
   ]
  },
  {
   "cell_type": "code",
   "execution_count": null,
   "id": "c7f98c66",
   "metadata": {},
   "outputs": [],
   "source": [
    "d2"
   ]
  },
  {
   "cell_type": "code",
   "execution_count": null,
   "id": "74fc6b4b",
   "metadata": {},
   "outputs": [],
   "source": [
    "d2[\"home\"]"
   ]
  },
  {
   "cell_type": "code",
   "execution_count": null,
   "id": "bae0328d",
   "metadata": {},
   "outputs": [],
   "source": [
    "d2[\"state\"]"
   ]
  },
  {
   "cell_type": "code",
   "execution_count": null,
   "id": "35881eba",
   "metadata": {},
   "outputs": [],
   "source": [
    "d2[\"job\"]"
   ]
  },
  {
   "cell_type": "code",
   "execution_count": null,
   "id": "54ed1496",
   "metadata": {},
   "outputs": [],
   "source": [
    "d2[\"family history\"]"
   ]
  },
  {
   "cell_type": "code",
   "execution_count": null,
   "id": "14b85cbd",
   "metadata": {},
   "outputs": [],
   "source": [
    "d2[\"state\"]=\"jharkhand\""
   ]
  },
  {
   "cell_type": "code",
   "execution_count": null,
   "id": "a3cd73cd",
   "metadata": {},
   "outputs": [],
   "source": [
    "d2"
   ]
  },
  {
   "cell_type": "code",
   "execution_count": null,
   "id": "ced85e8c",
   "metadata": {},
   "outputs": [],
   "source": [
    "s=\"monty\""
   ]
  },
  {
   "cell_type": "code",
   "execution_count": null,
   "id": "8258983c",
   "metadata": {},
   "outputs": [],
   "source": [
    "s.capitalize()"
   ]
  },
  {
   "cell_type": "code",
   "execution_count": null,
   "id": "c6210128",
   "metadata": {},
   "outputs": [],
   "source": [
    "s.center(10)"
   ]
  },
  {
   "cell_type": "code",
   "execution_count": null,
   "id": "d62529f3",
   "metadata": {},
   "outputs": [],
   "source": [
    "s.center(10,\"&\")"
   ]
  },
  {
   "cell_type": "code",
   "execution_count": null,
   "id": "0abbd8d9",
   "metadata": {},
   "outputs": [],
   "source": [
    "s= \"chitranjan kumar charvi\""
   ]
  },
  {
   "cell_type": "code",
   "execution_count": null,
   "id": "a4ffc444",
   "metadata": {},
   "outputs": [],
   "source": [
    "s"
   ]
  },
  {
   "cell_type": "code",
   "execution_count": null,
   "id": "12320a8e",
   "metadata": {},
   "outputs": [],
   "source": [
    "s.capitalize()"
   ]
  },
  {
   "cell_type": "code",
   "execution_count": null,
   "id": "fe5cfb82",
   "metadata": {},
   "outputs": [],
   "source": [
    "s.title()"
   ]
  },
  {
   "cell_type": "code",
   "execution_count": null,
   "id": "e4a879d2",
   "metadata": {},
   "outputs": [],
   "source": [
    "s.isalnum()"
   ]
  },
  {
   "cell_type": "code",
   "execution_count": null,
   "id": "0211a30a",
   "metadata": {},
   "outputs": [],
   "source": [
    "l=[1,2,3,4,5,\"home\", \"bagi\"]"
   ]
  },
  {
   "cell_type": "code",
   "execution_count": null,
   "id": "c5d759eb",
   "metadata": {},
   "outputs": [],
   "source": [
    "l.append([2,3,4])"
   ]
  },
  {
   "cell_type": "code",
   "execution_count": null,
   "id": "ffe6da1e",
   "metadata": {},
   "outputs": [],
   "source": [
    "l"
   ]
  },
  {
   "cell_type": "code",
   "execution_count": null,
   "id": "919535bf",
   "metadata": {},
   "outputs": [],
   "source": [
    "l.clear()"
   ]
  },
  {
   "cell_type": "code",
   "execution_count": null,
   "id": "1fe3889c",
   "metadata": {},
   "outputs": [],
   "source": [
    "l=[1, 2, 3, 4, 5, 'home', 'bagi', [2, 3, 4],]"
   ]
  },
  {
   "cell_type": "code",
   "execution_count": null,
   "id": "d1637528",
   "metadata": {},
   "outputs": [],
   "source": [
    "l"
   ]
  },
  {
   "cell_type": "code",
   "execution_count": null,
   "id": "5b69c488",
   "metadata": {},
   "outputs": [],
   "source": [
    "l1=l"
   ]
  },
  {
   "cell_type": "code",
   "execution_count": null,
   "id": "9317a7ec",
   "metadata": {},
   "outputs": [],
   "source": [
    "l1"
   ]
  },
  {
   "cell_type": "code",
   "execution_count": null,
   "id": "693c38d5",
   "metadata": {},
   "outputs": [],
   "source": [
    "l1.copy()"
   ]
  },
  {
   "cell_type": "code",
   "execution_count": null,
   "id": "b457c155",
   "metadata": {},
   "outputs": [],
   "source": [
    "l2=l.copy()"
   ]
  },
  {
   "cell_type": "code",
   "execution_count": null,
   "id": "43d630c3",
   "metadata": {},
   "outputs": [],
   "source": [
    "l2"
   ]
  },
  {
   "cell_type": "code",
   "execution_count": null,
   "id": "a28cb0da",
   "metadata": {},
   "outputs": [],
   "source": [
    "l"
   ]
  },
  {
   "cell_type": "code",
   "execution_count": null,
   "id": "e6c863a1",
   "metadata": {},
   "outputs": [],
   "source": [
    "l1"
   ]
  },
  {
   "cell_type": "code",
   "execution_count": null,
   "id": "828a8125",
   "metadata": {},
   "outputs": [],
   "source": [
    "l2"
   ]
  },
  {
   "cell_type": "code",
   "execution_count": null,
   "id": "0d5ca640",
   "metadata": {},
   "outputs": [],
   "source": [
    "l1[0]=\"lovely\""
   ]
  },
  {
   "cell_type": "code",
   "execution_count": null,
   "id": "981475f6",
   "metadata": {},
   "outputs": [],
   "source": [
    "l1"
   ]
  },
  {
   "cell_type": "code",
   "execution_count": null,
   "id": "66cfdcc9",
   "metadata": {},
   "outputs": [],
   "source": [
    "l"
   ]
  },
  {
   "cell_type": "code",
   "execution_count": null,
   "id": "7863cbd6",
   "metadata": {},
   "outputs": [],
   "source": [
    "l2"
   ]
  },
  {
   "cell_type": "code",
   "execution_count": null,
   "id": "099aca18",
   "metadata": {},
   "outputs": [],
   "source": [
    "l.count(5)"
   ]
  },
  {
   "cell_type": "code",
   "execution_count": null,
   "id": "77c4507c",
   "metadata": {},
   "outputs": [],
   "source": [
    "l.append(\"aoshgoi\")"
   ]
  },
  {
   "cell_type": "code",
   "execution_count": null,
   "id": "7a7fb5b0",
   "metadata": {},
   "outputs": [],
   "source": [
    "l"
   ]
  },
  {
   "cell_type": "code",
   "execution_count": null,
   "id": "0e3797ed",
   "metadata": {},
   "outputs": [],
   "source": [
    "l.extend([1,5,6,7])"
   ]
  },
  {
   "cell_type": "code",
   "execution_count": null,
   "id": "98ccb2db",
   "metadata": {},
   "outputs": [],
   "source": [
    "l"
   ]
  },
  {
   "cell_type": "code",
   "execution_count": null,
   "id": "c4a4f5fe",
   "metadata": {},
   "outputs": [],
   "source": [
    "l.extend('honey')"
   ]
  },
  {
   "cell_type": "code",
   "execution_count": null,
   "id": "fb75b9c4",
   "metadata": {},
   "outputs": [],
   "source": [
    "l"
   ]
  },
  {
   "cell_type": "code",
   "execution_count": null,
   "id": "b972bd9c",
   "metadata": {},
   "outputs": [],
   "source": [
    "l.pop()"
   ]
  },
  {
   "cell_type": "code",
   "execution_count": null,
   "id": "70ece262",
   "metadata": {},
   "outputs": [],
   "source": [
    "l"
   ]
  },
  {
   "cell_type": "code",
   "execution_count": null,
   "id": "e11c8fc8",
   "metadata": {},
   "outputs": [],
   "source": [
    "l.pop(7)"
   ]
  },
  {
   "cell_type": "code",
   "execution_count": null,
   "id": "6c82bc00",
   "metadata": {},
   "outputs": [],
   "source": [
    "l"
   ]
  },
  {
   "cell_type": "code",
   "execution_count": null,
   "id": "39da3446",
   "metadata": {},
   "outputs": [],
   "source": [
    "l.remove(\"home\")"
   ]
  },
  {
   "cell_type": "code",
   "execution_count": null,
   "id": "c7e7c143",
   "metadata": {},
   "outputs": [],
   "source": [
    "l"
   ]
  },
  {
   "cell_type": "code",
   "execution_count": null,
   "id": "cae0e09a",
   "metadata": {},
   "outputs": [],
   "source": [
    "l.insert(1,[\"Jai jagdambe\"])"
   ]
  },
  {
   "cell_type": "code",
   "execution_count": null,
   "id": "3f373aba",
   "metadata": {},
   "outputs": [],
   "source": [
    "l"
   ]
  },
  {
   "cell_type": "code",
   "execution_count": null,
   "id": "ecde7b52",
   "metadata": {},
   "outputs": [],
   "source": [
    "l.reverse()"
   ]
  },
  {
   "cell_type": "code",
   "execution_count": null,
   "id": "e5a11240",
   "metadata": {},
   "outputs": [],
   "source": [
    "l "
   ]
  },
  {
   "cell_type": "code",
   "execution_count": null,
   "id": "7c3d2b37",
   "metadata": {},
   "outputs": [],
   "source": [
    "l[: : -1]"
   ]
  },
  {
   "cell_type": "code",
   "execution_count": null,
   "id": "803f3705",
   "metadata": {},
   "outputs": [],
   "source": [
    "t=(2,44,4,5,8,8,9,9,9,0)"
   ]
  },
  {
   "cell_type": "code",
   "execution_count": null,
   "id": "3ca5d546",
   "metadata": {},
   "outputs": [],
   "source": [
    "t"
   ]
  },
  {
   "cell_type": "code",
   "execution_count": null,
   "id": "848f46c3",
   "metadata": {},
   "outputs": [],
   "source": [
    "t.index(5)"
   ]
  },
  {
   "cell_type": "code",
   "execution_count": null,
   "id": "59e277b9",
   "metadata": {},
   "outputs": [],
   "source": [
    "s2"
   ]
  },
  {
   "cell_type": "code",
   "execution_count": null,
   "id": "d6fa1b51",
   "metadata": {},
   "outputs": [],
   "source": [
    "s2.add(56)"
   ]
  },
  {
   "cell_type": "code",
   "execution_count": null,
   "id": "388e3b47",
   "metadata": {},
   "outputs": [],
   "source": [
    "s2"
   ]
  },
  {
   "cell_type": "code",
   "execution_count": null,
   "id": "8f10e6da",
   "metadata": {},
   "outputs": [],
   "source": [
    "d"
   ]
  },
  {
   "cell_type": "code",
   "execution_count": null,
   "id": "cd962247",
   "metadata": {},
   "outputs": [],
   "source": [
    "d.keys()"
   ]
  },
  {
   "cell_type": "code",
   "execution_count": null,
   "id": "e586b6bd",
   "metadata": {},
   "outputs": [],
   "source": [
    "list(d.keys())"
   ]
  },
  {
   "cell_type": "code",
   "execution_count": null,
   "id": "f3964dfc",
   "metadata": {},
   "outputs": [],
   "source": [
    "d.values()"
   ]
  },
  {
   "cell_type": "code",
   "execution_count": null,
   "id": "8125bd60",
   "metadata": {},
   "outputs": [],
   "source": [
    "d.items()"
   ]
  },
  {
   "cell_type": "code",
   "execution_count": null,
   "id": "018c5ebf",
   "metadata": {},
   "outputs": [],
   "source": [
    "d.update({\"hakuna\":\"matata\"})"
   ]
  },
  {
   "cell_type": "code",
   "execution_count": null,
   "id": "b3de5ce3",
   "metadata": {},
   "outputs": [],
   "source": [
    "d"
   ]
  },
  {
   "cell_type": "code",
   "execution_count": null,
   "id": "7b7880e9",
   "metadata": {},
   "outputs": [],
   "source": [
    "s=\"comma\""
   ]
  },
  {
   "cell_type": "code",
   "execution_count": null,
   "id": "ca5dd0b9",
   "metadata": {},
   "outputs": [],
   "source": [
    "s"
   ]
  },
  {
   "cell_type": "code",
   "execution_count": null,
   "id": "ff49fa48",
   "metadata": {},
   "outputs": [],
   "source": [
    "s[0:3]"
   ]
  },
  {
   "cell_type": "code",
   "execution_count": null,
   "id": "f77f4a59",
   "metadata": {},
   "outputs": [],
   "source": [
    "s=\"namaste india\""
   ]
  },
  {
   "cell_type": "code",
   "execution_count": null,
   "id": "fe02dac8",
   "metadata": {},
   "outputs": [],
   "source": [
    "s"
   ]
  },
  {
   "cell_type": "code",
   "execution_count": null,
   "id": "6cb353c6",
   "metadata": {},
   "outputs": [],
   "source": [
    "s[: 9]"
   ]
  },
  {
   "cell_type": "code",
   "execution_count": null,
   "id": "4b9fec1c",
   "metadata": {},
   "outputs": [],
   "source": [
    "s=\"i am learning python\""
   ]
  },
  {
   "cell_type": "code",
   "execution_count": null,
   "id": "47e9b269",
   "metadata": {},
   "outputs": [],
   "source": [
    "s"
   ]
  },
  {
   "cell_type": "code",
   "execution_count": null,
   "id": "9581c5fc",
   "metadata": {},
   "outputs": [],
   "source": [
    "s[13: ]"
   ]
  },
  {
   "cell_type": "code",
   "execution_count": null,
   "id": "cee5415a",
   "metadata": {},
   "outputs": [],
   "source": [
    "s=\"hello world\""
   ]
  },
  {
   "cell_type": "code",
   "execution_count": null,
   "id": "5d2fa65a",
   "metadata": {},
   "outputs": [],
   "source": [
    "s.upper()"
   ]
  },
  {
   "cell_type": "code",
   "execution_count": null,
   "id": "06d49157",
   "metadata": {},
   "outputs": [],
   "source": [
    "s1=\"banana\""
   ]
  },
  {
   "cell_type": "code",
   "execution_count": null,
   "id": "d7ba2213",
   "metadata": {},
   "outputs": [],
   "source": [
    "s1"
   ]
  },
  {
   "cell_type": "code",
   "execution_count": null,
   "id": "c310f9b3",
   "metadata": {},
   "outputs": [],
   "source": [
    "s1.count(\"a\")\n"
   ]
  },
  {
   "cell_type": "code",
   "execution_count": null,
   "id": "36585920",
   "metadata": {},
   "outputs": [],
   "source": [
    "s2= \"The cat sat on the cat mat\""
   ]
  },
  {
   "cell_type": "code",
   "execution_count": null,
   "id": "89540809",
   "metadata": {},
   "outputs": [],
   "source": [
    "s2"
   ]
  },
  {
   "cell_type": "code",
   "execution_count": null,
   "id": "37be211f",
   "metadata": {},
   "outputs": [],
   "source": [
    "s2.replace(\"cat\",\"dog\")"
   ]
  },
  {
   "cell_type": "code",
   "execution_count": null,
   "id": "17c58972",
   "metadata": {},
   "outputs": [],
   "source": [
    "s"
   ]
  },
  {
   "cell_type": "code",
   "execution_count": null,
   "id": "ffc8d278",
   "metadata": {},
   "outputs": [],
   "source": [
    "s3='hello world'"
   ]
  },
  {
   "cell_type": "code",
   "execution_count": null,
   "id": "a7d0b5ca",
   "metadata": {},
   "outputs": [],
   "source": [
    "s3"
   ]
  },
  {
   "cell_type": "code",
   "execution_count": null,
   "id": "3ee34242",
   "metadata": {},
   "outputs": [],
   "source": [
    "s.__add__(\"helloworld\")"
   ]
  },
  {
   "cell_type": "code",
   "execution_count": null,
   "id": "b15a2006",
   "metadata": {},
   "outputs": [],
   "source": [
    "s3[6: ]"
   ]
  },
  {
   "cell_type": "code",
   "execution_count": null,
   "id": "c7da5404",
   "metadata": {},
   "outputs": [],
   "source": [
    "s='python'"
   ]
  },
  {
   "cell_type": "code",
   "execution_count": null,
   "id": "e86bde17",
   "metadata": {},
   "outputs": [],
   "source": [
    "s"
   ]
  },
  {
   "cell_type": "code",
   "execution_count": null,
   "id": "39ba89d6",
   "metadata": {},
   "outputs": [],
   "source": [
    "s[: :-1]"
   ]
  },
  {
   "cell_type": "code",
   "execution_count": null,
   "id": "f9436f06",
   "metadata": {},
   "outputs": [],
   "source": [
    "ss='hello world'"
   ]
  },
  {
   "cell_type": "code",
   "execution_count": null,
   "id": "f4905ba2",
   "metadata": {},
   "outputs": [],
   "source": [
    "ss.__add__(\"helloworld\")"
   ]
  },
  {
   "cell_type": "code",
   "execution_count": null,
   "id": "f0878fa9",
   "metadata": {},
   "outputs": [],
   "source": [
    "s6=\" Hello World \""
   ]
  },
  {
   "cell_type": "code",
   "execution_count": null,
   "id": "7ac97c38",
   "metadata": {},
   "outputs": [],
   "source": [
    "s6.strip()"
   ]
  },
  {
   "cell_type": "code",
   "execution_count": null,
   "id": "eb4367a3",
   "metadata": {},
   "outputs": [],
   "source": [
    "ss=\"abc123\""
   ]
  },
  {
   "cell_type": "code",
   "execution_count": null,
   "id": "936ab529",
   "metadata": {},
   "outputs": [],
   "source": [
    "ss"
   ]
  },
  {
   "cell_type": "code",
   "execution_count": null,
   "id": "772b1a1c",
   "metadata": {},
   "outputs": [],
   "source": [
    "ss.isalnum()"
   ]
  },
  {
   "cell_type": "code",
   "execution_count": null,
   "id": "8587bdce",
   "metadata": {},
   "outputs": [],
   "source": [
    "s=\"apple,banana,cherry\" "
   ]
  },
  {
   "cell_type": "code",
   "execution_count": null,
   "id": "b28e66f3",
   "metadata": {},
   "outputs": [],
   "source": [
    "s"
   ]
  },
  {
   "cell_type": "code",
   "execution_count": null,
   "id": "2f5dcced",
   "metadata": {},
   "outputs": [],
   "source": [
    "s.split()"
   ]
  },
  {
   "cell_type": "code",
   "execution_count": null,
   "id": "02c71fd0",
   "metadata": {},
   "outputs": [],
   "source": [
    "s.split(',')"
   ]
  },
  {
   "cell_type": "code",
   "execution_count": null,
   "id": "83dc220c",
   "metadata": {},
   "outputs": [],
   "source": [
    "s.encode()"
   ]
  },
  {
   "cell_type": "code",
   "execution_count": null,
   "id": "00bedbde",
   "metadata": {},
   "outputs": [],
   "source": [
    "l=[1, 2, 3, 4] "
   ]
  },
  {
   "cell_type": "code",
   "execution_count": null,
   "id": "a53ee8f3",
   "metadata": {},
   "outputs": [],
   "source": [
    "l"
   ]
  },
  {
   "cell_type": "code",
   "execution_count": null,
   "id": "2f730a5a",
   "metadata": {},
   "outputs": [],
   "source": [
    "l.append(5)"
   ]
  },
  {
   "cell_type": "code",
   "execution_count": null,
   "id": "e9234efb",
   "metadata": {},
   "outputs": [],
   "source": [
    "l"
   ]
  },
  {
   "cell_type": "code",
   "execution_count": null,
   "id": "2f67d284",
   "metadata": {},
   "outputs": [],
   "source": [
    "l1=[\"apple\", \"banana\", \"cherry\"]"
   ]
  },
  {
   "cell_type": "code",
   "execution_count": null,
   "id": "3e57641a",
   "metadata": {},
   "outputs": [],
   "source": [
    "l1.remove(\"banana\")"
   ]
  },
  {
   "cell_type": "code",
   "execution_count": null,
   "id": "31626ffb",
   "metadata": {},
   "outputs": [],
   "source": [
    "l1"
   ]
  },
  {
   "cell_type": "code",
   "execution_count": null,
   "id": "3e35171a",
   "metadata": {},
   "outputs": [],
   "source": [
    "l2=[\"apple\", \"cherry\"]"
   ]
  },
  {
   "cell_type": "code",
   "execution_count": null,
   "id": "a9ac8667",
   "metadata": {},
   "outputs": [],
   "source": [
    "l2"
   ]
  },
  {
   "cell_type": "code",
   "execution_count": null,
   "id": "6fa32e95",
   "metadata": {},
   "outputs": [],
   "source": [
    "l2.append(\"orange\")"
   ]
  },
  {
   "cell_type": "code",
   "execution_count": null,
   "id": "52380cf1",
   "metadata": {},
   "outputs": [],
   "source": [
    "l2"
   ]
  },
  {
   "cell_type": "code",
   "execution_count": null,
   "id": "8b19c2e9",
   "metadata": {},
   "outputs": [],
   "source": [
    "l2.insert(1,\"orange\")"
   ]
  },
  {
   "cell_type": "code",
   "execution_count": null,
   "id": "e810ce37",
   "metadata": {},
   "outputs": [],
   "source": [
    "l2"
   ]
  },
  {
   "cell_type": "code",
   "execution_count": null,
   "id": "7e50c4a2",
   "metadata": {},
   "outputs": [],
   "source": [
    "l1=[1, 2, 3, 4, 5]"
   ]
  },
  {
   "cell_type": "code",
   "execution_count": null,
   "id": "be7ab388",
   "metadata": {},
   "outputs": [],
   "source": [
    "l1"
   ]
  },
  {
   "cell_type": "code",
   "execution_count": null,
   "id": "f0632e65",
   "metadata": {},
   "outputs": [],
   "source": [
    "l1.index(3)"
   ]
  },
  {
   "cell_type": "code",
   "execution_count": null,
   "id": "5329f021",
   "metadata": {},
   "outputs": [],
   "source": [
    "l1.reverse()"
   ]
  },
  {
   "cell_type": "code",
   "execution_count": null,
   "id": "f9af3580",
   "metadata": {},
   "outputs": [],
   "source": [
    "l1"
   ]
  },
  {
   "cell_type": "code",
   "execution_count": null,
   "id": "5f2c2739",
   "metadata": {},
   "outputs": [],
   "source": [
    "l=[10, 20, 30, 40, 50]"
   ]
  },
  {
   "cell_type": "code",
   "execution_count": null,
   "id": "afd4320a",
   "metadata": {},
   "outputs": [],
   "source": [
    "l[0:3]"
   ]
  },
  {
   "cell_type": "code",
   "execution_count": null,
   "id": "f3e71950",
   "metadata": {},
   "outputs": [],
   "source": [
    "l4=[5, 2, 9, 1, 5] "
   ]
  },
  {
   "cell_type": "code",
   "execution_count": null,
   "id": "e32b8390",
   "metadata": {},
   "outputs": [],
   "source": [
    "l4"
   ]
  },
  {
   "cell_type": "code",
   "execution_count": null,
   "id": "7bd565e7",
   "metadata": {},
   "outputs": [],
   "source": [
    "l4.sort()"
   ]
  },
  {
   "cell_type": "code",
   "execution_count": null,
   "id": "47071c87",
   "metadata": {},
   "outputs": [],
   "source": [
    "l4"
   ]
  },
  {
   "cell_type": "code",
   "execution_count": null,
   "id": "aa7a2ab0",
   "metadata": {},
   "outputs": [],
   "source": [
    "l2=[5, 1, 5, 2, 5, 3]"
   ]
  },
  {
   "cell_type": "code",
   "execution_count": null,
   "id": "6c28d63c",
   "metadata": {},
   "outputs": [],
   "source": [
    "l2"
   ]
  },
  {
   "cell_type": "code",
   "execution_count": null,
   "id": "7a1ab920",
   "metadata": {},
   "outputs": [],
   "source": [
    "l2.count(5)"
   ]
  },
  {
   "cell_type": "code",
   "execution_count": null,
   "id": "0b1e7852",
   "metadata": {},
   "outputs": [],
   "source": [
    "l1=[1,2]"
   ]
  },
  {
   "cell_type": "code",
   "execution_count": null,
   "id": "26834b0a",
   "metadata": {},
   "outputs": [],
   "source": [
    "l2=[3,4]"
   ]
  },
  {
   "cell_type": "code",
   "execution_count": null,
   "id": "357fae6f",
   "metadata": {},
   "outputs": [],
   "source": [
    "l1.append(34)"
   ]
  },
  {
   "cell_type": "code",
   "execution_count": null,
   "id": "39b9995f",
   "metadata": {},
   "outputs": [],
   "source": [
    "l1"
   ]
  },
  {
   "cell_type": "code",
   "execution_count": null,
   "id": "c48258a9",
   "metadata": {},
   "outputs": [],
   "source": [
    "l1=[1,2]"
   ]
  },
  {
   "cell_type": "code",
   "execution_count": null,
   "id": "71ef4f9e",
   "metadata": {},
   "outputs": [],
   "source": [
    "l1"
   ]
  },
  {
   "cell_type": "code",
   "execution_count": null,
   "id": "a7025db2",
   "metadata": {},
   "outputs": [],
   "source": [
    "l2=[2,3]"
   ]
  },
  {
   "cell_type": "code",
   "execution_count": null,
   "id": "db2a934d",
   "metadata": {},
   "outputs": [],
   "source": [
    "l2"
   ]
  },
  {
   "cell_type": "code",
   "execution_count": null,
   "id": "b7a3bb36",
   "metadata": {},
   "outputs": [],
   "source": [
    "l1.extend(l2)"
   ]
  },
  {
   "cell_type": "code",
   "execution_count": null,
   "id": "4bf8381e",
   "metadata": {},
   "outputs": [],
   "source": [
    "l1"
   ]
  },
  {
   "cell_type": "code",
   "execution_count": null,
   "id": "d26a50fc",
   "metadata": {},
   "outputs": [],
   "source": [
    "l3=[\"apple\", \"banana\", \"cherry\"] "
   ]
  },
  {
   "cell_type": "code",
   "execution_count": null,
   "id": "baee8620",
   "metadata": {},
   "outputs": [],
   "source": [
    "l3.count(\"banana\")"
   ]
  },
  {
   "cell_type": "code",
   "execution_count": null,
   "id": "53abdd89",
   "metadata": {},
   "outputs": [],
   "source": [
    "d={\"name\": \"John\"}"
   ]
  },
  {
   "cell_type": "code",
   "execution_count": null,
   "id": "62edc263",
   "metadata": {},
   "outputs": [],
   "source": [
    "d"
   ]
  },
  {
   "cell_type": "code",
   "execution_count": null,
   "id": "5562cee3",
   "metadata": {},
   "outputs": [],
   "source": [
    "d.update({\"age\":\"25\"})"
   ]
  },
  {
   "cell_type": "code",
   "execution_count": null,
   "id": "e8f71a51",
   "metadata": {},
   "outputs": [],
   "source": [
    "d"
   ]
  },
  {
   "cell_type": "code",
   "execution_count": null,
   "id": "873183b5",
   "metadata": {},
   "outputs": [],
   "source": [
    "d1={\"name\": \"Alice\", \"age\": 30}"
   ]
  },
  {
   "cell_type": "code",
   "execution_count": null,
   "id": "eebf5bd2",
   "metadata": {},
   "outputs": [],
   "source": [
    "d1.values()"
   ]
  },
  {
   "cell_type": "code",
   "execution_count": null,
   "id": "e5f02663",
   "metadata": {},
   "outputs": [],
   "source": [
    "d1={\"name\": \"Bob\", \"age\": 45}"
   ]
  },
  {
   "cell_type": "code",
   "execution_count": null,
   "id": "42b46984",
   "metadata": {},
   "outputs": [],
   "source": [
    "d1.pop(\"age\")"
   ]
  },
  {
   "cell_type": "code",
   "execution_count": null,
   "id": "69d2ffcb",
   "metadata": {},
   "outputs": [],
   "source": [
    "d1"
   ]
  },
  {
   "cell_type": "code",
   "execution_count": null,
   "id": "a588c201",
   "metadata": {},
   "outputs": [],
   "source": [
    "d3={\"name\": \"Emma\", \"age\": 28, \"city\": \"New York\"}"
   ]
  },
  {
   "cell_type": "code",
   "execution_count": null,
   "id": "bd0e9eb0",
   "metadata": {},
   "outputs": [],
   "source": [
    "d3.keys()"
   ]
  },
  {
   "cell_type": "code",
   "execution_count": null,
   "id": "75bb745c",
   "metadata": {},
   "outputs": [],
   "source": [
    "d5={\"name\": \"Mia\", \"age\": 35}"
   ]
  },
  {
   "cell_type": "code",
   "execution_count": null,
   "id": "207ba298",
   "metadata": {},
   "outputs": [],
   "source": [
    "d5"
   ]
  },
  {
   "cell_type": "code",
   "execution_count": null,
   "id": "66b62279",
   "metadata": {},
   "outputs": [],
   "source": [
    "d5.get(\"city\")"
   ]
  },
  {
   "cell_type": "code",
   "execution_count": null,
   "id": "4950a9dd",
   "metadata": {},
   "outputs": [],
   "source": [
    "d5"
   ]
  },
  {
   "cell_type": "code",
   "execution_count": null,
   "id": "ac23a1a2",
   "metadata": {},
   "outputs": [],
   "source": [
    "da={\"a\": 10, \"b\": 20, \"c\": 30}"
   ]
  },
  {
   "cell_type": "code",
   "execution_count": null,
   "id": "b595e6ac",
   "metadata": {},
   "outputs": [],
   "source": [
    "da"
   ]
  },
  {
   "cell_type": "code",
   "execution_count": null,
   "id": "2b87d6df",
   "metadata": {},
   "outputs": [],
   "source": [
    "da.values()"
   ]
  },
  {
   "cell_type": "code",
   "execution_count": null,
   "id": "3dc7e6d1",
   "metadata": {},
   "outputs": [],
   "source": [
    "d1={\"name\": \"Liam\"} "
   ]
  },
  {
   "cell_type": "code",
   "execution_count": null,
   "id": "694e924c",
   "metadata": {},
   "outputs": [],
   "source": [
    "d1"
   ]
  },
  {
   "cell_type": "code",
   "execution_count": null,
   "id": "5d4b7da3",
   "metadata": {},
   "outputs": [],
   "source": [
    "d1.update({\"age\":\"40\"})"
   ]
  },
  {
   "cell_type": "code",
   "execution_count": null,
   "id": "e95ba467",
   "metadata": {},
   "outputs": [],
   "source": [
    "d1"
   ]
  },
  {
   "cell_type": "code",
   "execution_count": null,
   "id": "40470a95",
   "metadata": {},
   "outputs": [],
   "source": [
    "dd={\"x\": 1, \"y\": 2, \"z\": 3}"
   ]
  },
  {
   "cell_type": "code",
   "execution_count": null,
   "id": "f212fe9e",
   "metadata": {},
   "outputs": [],
   "source": [
    "dd.__len__()"
   ]
  },
  {
   "cell_type": "code",
   "execution_count": null,
   "id": "5d4fb7b1",
   "metadata": {},
   "outputs": [],
   "source": []
  },
  {
   "cell_type": "code",
   "execution_count": null,
   "metadata": {},
   "outputs": [],
   "source": [
    "d1={\"fruit\": \"apple\", \"color\": \"red\"}"
   ]
  },
  {
   "cell_type": "code",
   "execution_count": null,
   "id": "dcbdbc82",
   "metadata": {},
   "outputs": [],
   "source": [
    "d1"
   ]
  },
  {
   "cell_type": "code",
   "execution_count": null,
   "id": "b4279227",
   "metadata": {},
   "outputs": [],
   "source": [
    "d1.clear()"
   ]
  },
  {
   "cell_type": "code",
   "execution_count": null,
   "id": "bbece361",
   "metadata": {},
   "outputs": [],
   "source": [
    "d1"
   ]
  },
  {
   "cell_type": "code",
   "execution_count": null,
   "id": "32c2c5d7",
   "metadata": {},
   "outputs": [],
   "source": [
    "d=[\"name\", \"age\"]"
   ]
  },
  {
   "cell_type": "code",
   "execution_count": null,
   "id": "063b2684",
   "metadata": {},
   "outputs": [],
   "source": [
    "d1=[\"John\", 30]"
   ]
  },
  {
   "cell_type": "code",
   "execution_count": null,
   "id": "49f98719",
   "metadata": {},
   "outputs": [],
   "source": [
    "d"
   ]
  },
  {
   "cell_type": "code",
   "execution_count": null,
   "id": "be48a9d8",
   "metadata": {},
   "outputs": [],
   "source": [
    "d=zip((\"john\",\"30\"))"
   ]
  },
  {
   "cell_type": "code",
   "execution_count": null,
   "id": "d1ee206f",
   "metadata": {},
   "outputs": [],
   "source": [
    "dict()"
   ]
  },
  {
   "cell_type": "code",
   "execution_count": null,
   "id": "221fd8d6",
   "metadata": {},
   "outputs": [],
   "source": [
    "t=(10, 20, 30, 40)"
   ]
  },
  {
   "cell_type": "code",
   "execution_count": null,
   "id": "4575eaa5",
   "metadata": {},
   "outputs": [],
   "source": [
    "t"
   ]
  },
  {
   "cell_type": "code",
   "execution_count": null,
   "id": "a59b2f9a",
   "metadata": {},
   "outputs": [],
   "source": [
    "t.index(1)"
   ]
  },
  {
   "cell_type": "code",
   "execution_count": null,
   "id": "aded5210",
   "metadata": {},
   "outputs": [],
   "source": [
    "t=[5]"
   ]
  },
  {
   "cell_type": "code",
   "execution_count": null,
   "id": "5ccc335e",
   "metadata": {},
   "outputs": [],
   "source": [
    "type(t)"
   ]
  },
  {
   "cell_type": "code",
   "execution_count": null,
   "id": "cd1fb92c",
   "metadata": {},
   "outputs": [],
   "source": [
    "t=(11,12,13,14,15)"
   ]
  },
  {
   "cell_type": "code",
   "execution_count": null,
   "id": "0c4fac76",
   "metadata": {},
   "outputs": [],
   "source": [
    "type(t)"
   ]
  },
  {
   "cell_type": "code",
   "execution_count": null,
   "id": "76b78079",
   "metadata": {},
   "outputs": [],
   "source": [
    "t[1]"
   ]
  },
  {
   "cell_type": "code",
   "execution_count": null,
   "id": "cec3ca37",
   "metadata": {},
   "outputs": [],
   "source": [
    "m=(5,5,5,5,5)"
   ]
  },
  {
   "cell_type": "code",
   "execution_count": null,
   "id": "955ae5fe",
   "metadata": {},
   "outputs": [],
   "source": [
    "m"
   ]
  },
  {
   "cell_type": "code",
   "execution_count": null,
   "id": "713f3889",
   "metadata": {},
   "outputs": [],
   "source": [
    "type(m)"
   ]
  },
  {
   "cell_type": "code",
   "execution_count": null,
   "id": "518c49e9",
   "metadata": {},
   "outputs": [],
   "source": [
    "t=(5,)"
   ]
  },
  {
   "cell_type": "code",
   "execution_count": null,
   "id": "978f3fc3",
   "metadata": {},
   "outputs": [],
   "source": [
    "t"
   ]
  },
  {
   "cell_type": "code",
   "execution_count": null,
   "id": "60578d3e",
   "metadata": {},
   "outputs": [],
   "source": [
    "type(t)"
   ]
  },
  {
   "cell_type": "code",
   "execution_count": null,
   "id": "818443f7",
   "metadata": {},
   "outputs": [],
   "source": [
    "t1=(1, 2, 3, 4, 5, 6)"
   ]
  },
  {
   "cell_type": "code",
   "execution_count": null,
   "id": "97f2a6cb",
   "metadata": {},
   "outputs": [],
   "source": [
    "t1"
   ]
  },
  {
   "cell_type": "code",
   "execution_count": null,
   "id": "356ccc27",
   "metadata": {},
   "outputs": [],
   "source": [
    "t1[3: ]"
   ]
  },
  {
   "cell_type": "code",
   "execution_count": null,
   "id": "cce4daab",
   "metadata": {},
   "outputs": [],
   "source": [
    "t=({2,3,4,5}, \"home\", \"4+8j\", \"nanu sarkar\")"
   ]
  },
  {
   "cell_type": "code",
   "execution_count": null,
   "id": "91dd13e1",
   "metadata": {},
   "outputs": [],
   "source": [
    "type(t)"
   ]
  },
  {
   "cell_type": "code",
   "execution_count": null,
   "id": "8558a090",
   "metadata": {},
   "outputs": [],
   "source": [
    "t1=(10, 20, 30, 50, 40)"
   ]
  },
  {
   "cell_type": "code",
   "execution_count": null,
   "id": "f6e07d10",
   "metadata": {},
   "outputs": [],
   "source": [
    "t1"
   ]
  },
  {
   "cell_type": "code",
   "execution_count": null,
   "id": "7fbe4042",
   "metadata": {},
   "outputs": [],
   "source": [
    "t1.index(50)"
   ]
  },
  {
   "cell_type": "code",
   "execution_count": null,
   "id": "721ee3bc",
   "metadata": {},
   "outputs": [],
   "source": [
    "t2=(10, 20, 10, 40, 10)"
   ]
  },
  {
   "cell_type": "code",
   "execution_count": null,
   "id": "eead73f4",
   "metadata": {},
   "outputs": [],
   "source": [
    "t2.count(10)"
   ]
  },
  {
   "cell_type": "code",
   "execution_count": null,
   "id": "2bb6825e",
   "metadata": {},
   "outputs": [],
   "source": [
    "t3=(15, 25, 35)"
   ]
  },
  {
   "cell_type": "code",
   "execution_count": null,
   "id": "d047d9d1",
   "metadata": {},
   "outputs": [],
   "source": [
    "t3"
   ]
  },
  {
   "cell_type": "code",
   "execution_count": null,
   "id": "0660d423",
   "metadata": {},
   "outputs": [],
   "source": [
    "l1=(1, 2, 3)"
   ]
  },
  {
   "cell_type": "code",
   "execution_count": null,
   "id": "a378da9f",
   "metadata": {},
   "outputs": [],
   "source": [
    "l1"
   ]
  },
  {
   "cell_type": "code",
   "execution_count": null,
   "id": "d62ddd88",
   "metadata": {},
   "outputs": [],
   "source": [
    "l2=list(l1)"
   ]
  },
  {
   "cell_type": "code",
   "execution_count": null,
   "id": "637b2bb3",
   "metadata": {},
   "outputs": [],
   "source": [
    "l2"
   ]
  },
  {
   "cell_type": "code",
   "execution_count": null,
   "id": "9da7a58a",
   "metadata": {},
   "outputs": [],
   "source": [
    "type(l2)"
   ]
  },
  {
   "cell_type": "code",
   "execution_count": null,
   "id": "a2105307",
   "metadata": {},
   "outputs": [],
   "source": [
    "l1=(5, 1, 3, 2, 4)"
   ]
  },
  {
   "cell_type": "code",
   "execution_count": null,
   "id": "08e32f5d",
   "metadata": {},
   "outputs": [],
   "source": [
    "l1"
   ]
  },
  {
   "cell_type": "code",
   "execution_count": null,
   "id": "a7c38fe1",
   "metadata": {},
   "outputs": [],
   "source": [
    "type(l1)"
   ]
  },
  {
   "cell_type": "code",
   "execution_count": null,
   "id": "ed68eeff",
   "metadata": {},
   "outputs": [],
   "source": [
    "l1=sorted(l1)"
   ]
  },
  {
   "cell_type": "code",
   "execution_count": null,
   "id": "d89aa5ea",
   "metadata": {},
   "outputs": [],
   "source": [
    "l1"
   ]
  },
  {
   "cell_type": "code",
   "execution_count": null,
   "id": "7751a7cb",
   "metadata": {},
   "outputs": [],
   "source": [
    "t5=(5, 1, 3, 2, 4)"
   ]
  },
  {
   "cell_type": "code",
   "execution_count": null,
   "id": "57fc4240",
   "metadata": {},
   "outputs": [],
   "source": [
    "t6=sorted(t5)"
   ]
  },
  {
   "cell_type": "code",
   "execution_count": null,
   "id": "ac220894",
   "metadata": {},
   "outputs": [],
   "source": [
    "t6"
   ]
  },
  {
   "cell_type": "code",
   "execution_count": null,
   "id": "2db84269",
   "metadata": {},
   "outputs": [],
   "source": [
    "t2=(1,2)"
   ]
  },
  {
   "cell_type": "code",
   "execution_count": null,
   "id": "e302de7b",
   "metadata": {},
   "outputs": [],
   "source": [
    "t2*3"
   ]
  },
  {
   "cell_type": "code",
   "execution_count": null,
   "id": "0c66c988",
   "metadata": {},
   "outputs": [],
   "source": [
    "s3 = {4,5,5,5,55,5,5,55,5,5,5}"
   ]
  },
  {
   "cell_type": "code",
   "execution_count": null,
   "id": "332b2d91",
   "metadata": {},
   "outputs": [],
   "source": [
    "type(s3)"
   ]
  },
  {
   "cell_type": "code",
   "execution_count": null,
   "id": "8620a3e4",
   "metadata": {},
   "outputs": [],
   "source": [
    "s3"
   ]
  },
  {
   "cell_type": "code",
   "execution_count": null,
   "id": "4c8b4394",
   "metadata": {},
   "outputs": [],
   "source": [
    "l3=list(s3)"
   ]
  },
  {
   "cell_type": "code",
   "execution_count": null,
   "id": "9a98468f",
   "metadata": {},
   "outputs": [],
   "source": [
    "l3"
   ]
  },
  {
   "cell_type": "code",
   "execution_count": null,
   "id": "b0318b07",
   "metadata": {},
   "outputs": [],
   "source": [
    "type(l3)"
   ]
  },
  {
   "cell_type": "code",
   "execution_count": null,
   "id": "a34812ec",
   "metadata": {},
   "outputs": [],
   "source": [
    "l4=(4,4,6,4,3,5,6,3,44,5,67,3)"
   ]
  },
  {
   "cell_type": "code",
   "execution_count": null,
   "id": "34be3c3b",
   "metadata": {},
   "outputs": [],
   "source": [
    "l4"
   ]
  },
  {
   "cell_type": "code",
   "execution_count": null,
   "id": "a78f4ffd",
   "metadata": {},
   "outputs": [],
   "source": [
    "s1=set(l4)"
   ]
  },
  {
   "cell_type": "code",
   "execution_count": null,
   "id": "1334bb11",
   "metadata": {},
   "outputs": [],
   "source": [
    "s1"
   ]
  },
  {
   "cell_type": "code",
   "execution_count": null,
   "id": "2bce575c",
   "metadata": {},
   "outputs": [],
   "source": [
    "list(l1)"
   ]
  },
  {
   "cell_type": "code",
   "execution_count": null,
   "id": "4c6cba87",
   "metadata": {},
   "outputs": [],
   "source": [
    "tuple(l1)"
   ]
  },
  {
   "cell_type": "code",
   "execution_count": null,
   "id": "de75fbbe",
   "metadata": {},
   "outputs": [],
   "source": [
    "type(l1)"
   ]
  },
  {
   "cell_type": "code",
   "execution_count": null,
   "id": "61a0f05b",
   "metadata": {},
   "outputs": [],
   "source": [
    "s6={34.67,3,5,4,5,7,9,1,5,6,\"kavit\",\"omhcarvi\", True, False}"
   ]
  },
  {
   "cell_type": "code",
   "execution_count": null,
   "id": "a10c96fb",
   "metadata": {},
   "outputs": [],
   "source": [
    "s6"
   ]
  },
  {
   "cell_type": "code",
   "execution_count": null,
   "id": "b4132bee",
   "metadata": {},
   "outputs": [],
   "source": [
    "d={\"name\":\"chitranjan\", \"age\":\"35\", \"sex\":\"male\"}"
   ]
  },
  {
   "cell_type": "code",
   "execution_count": null,
   "id": "ccc3ab6e",
   "metadata": {},
   "outputs": [],
   "source": [
    "d"
   ]
  },
  {
   "cell_type": "code",
   "execution_count": null,
   "id": "a4e39571",
   "metadata": {},
   "outputs": [],
   "source": [
    "d[0]"
   ]
  },
  {
   "cell_type": "code",
   "execution_count": null,
   "id": "c246f762",
   "metadata": {},
   "outputs": [],
   "source": [
    "d[\"name\"]"
   ]
  },
  {
   "cell_type": "code",
   "execution_count": null,
   "id": "cade3bd7",
   "metadata": {},
   "outputs": [],
   "source": [
    "d[\"sex\"]"
   ]
  },
  {
   "cell_type": "code",
   "execution_count": null,
   "id": "3abf33b4",
   "metadata": {},
   "outputs": [],
   "source": [
    "d[\"age\"]"
   ]
  },
  {
   "cell_type": "code",
   "execution_count": null,
   "id": "b9f785b0",
   "metadata": {},
   "outputs": [],
   "source": [
    "d1={\"0\":\"pahlamgam\",\"mahila\":[0,4,5,6,4], \"gumnam\":\"hathiyaar\", \"class\":\"python english 15 may 25\", \"learn\":\"comlete lern\"}"
   ]
  },
  {
   "cell_type": "code",
   "execution_count": null,
   "id": "2f877aca",
   "metadata": {},
   "outputs": [],
   "source": [
    "d1"
   ]
  },
  {
   "cell_type": "code",
   "execution_count": null,
   "id": "fa13e828",
   "metadata": {},
   "outputs": [],
   "source": [
    "d1[\"0\"]"
   ]
  },
  {
   "cell_type": "code",
   "execution_count": null,
   "id": "299fa7de",
   "metadata": {},
   "outputs": [],
   "source": [
    "d1[\"class\"]"
   ]
  },
  {
   "cell_type": "code",
   "execution_count": null,
   "id": "f307d7b8",
   "metadata": {},
   "outputs": [],
   "source": [
    "d1[\"class\"]=\"hindi batch 20 may\""
   ]
  },
  {
   "cell_type": "code",
   "execution_count": null,
   "id": "85fc263c",
   "metadata": {},
   "outputs": [],
   "source": [
    "d1"
   ]
  },
  {
   "cell_type": "code",
   "execution_count": null,
   "id": "acd4183c",
   "metadata": {},
   "outputs": [],
   "source": [
    "s=\"soiwenasleiie\""
   ]
  },
  {
   "cell_type": "code",
   "execution_count": null,
   "id": "9b21e687",
   "metadata": {},
   "outputs": [],
   "source": [
    "s.capitalize()"
   ]
  },
  {
   "cell_type": "code",
   "execution_count": null,
   "id": "d121eefe",
   "metadata": {},
   "outputs": [],
   "source": [
    "s.center(70,\"$\")"
   ]
  },
  {
   "cell_type": "code",
   "execution_count": null,
   "id": "ae316b83",
   "metadata": {},
   "outputs": [],
   "source": [
    "s.capitalize(),s.center(70,\"$\")"
   ]
  },
  {
   "cell_type": "code",
   "execution_count": null,
   "id": "3d2c3e1e",
   "metadata": {},
   "outputs": [],
   "source": [
    "s.count(\"so\")"
   ]
  },
  {
   "cell_type": "code",
   "execution_count": null,
   "id": "9c77a985",
   "metadata": {},
   "outputs": [],
   "source": [
    "s.find(\"w\")"
   ]
  },
  {
   "cell_type": "code",
   "execution_count": null,
   "id": "8f9a8d65",
   "metadata": {},
   "outputs": [],
   "source": [
    "s=\"codiingforfun\""
   ]
  },
  {
   "cell_type": "code",
   "execution_count": null,
   "id": "2c988ea9",
   "metadata": {},
   "outputs": [],
   "source": [
    "s.isupper()"
   ]
  },
  {
   "cell_type": "code",
   "execution_count": null,
   "id": "38c51c86",
   "metadata": {},
   "outputs": [],
   "source": [
    "l=[22,3,5,6,8,1,0,\"pyton\", \"omchravi\",\"barachatti gaya bihar\"]"
   ]
  },
  {
   "cell_type": "code",
   "execution_count": null,
   "id": "07afbcf9",
   "metadata": {},
   "outputs": [],
   "source": [
    "l"
   ]
  },
  {
   "cell_type": "code",
   "execution_count": null,
   "id": "b88e4513",
   "metadata": {},
   "outputs": [],
   "source": [
    "l.append([4,5,6])"
   ]
  },
  {
   "cell_type": "code",
   "execution_count": null,
   "id": "f3f195bf",
   "metadata": {},
   "outputs": [],
   "source": [
    "l"
   ]
  },
  {
   "cell_type": "code",
   "execution_count": null,
   "id": "e7040cfd",
   "metadata": {},
   "outputs": [],
   "source": [
    "l.append(\"bottle\")"
   ]
  },
  {
   "cell_type": "code",
   "execution_count": null,
   "id": "a64181f9",
   "metadata": {},
   "outputs": [],
   "source": [
    "l"
   ]
  },
  {
   "cell_type": "code",
   "execution_count": null,
   "id": "cb54e3df",
   "metadata": {},
   "outputs": [],
   "source": [
    "l"
   ]
  },
  {
   "cell_type": "code",
   "execution_count": null,
   "id": "dc426aca",
   "metadata": {},
   "outputs": [],
   "source": [
    "l=[22, 3, 5, 6, 8, 1, 0, 'pyton', 'omchravi', 'barachatti gaya bihar']"
   ]
  },
  {
   "cell_type": "code",
   "execution_count": null,
   "id": "14d2b745",
   "metadata": {},
   "outputs": [],
   "source": [
    "l"
   ]
  },
  {
   "cell_type": "code",
   "execution_count": null,
   "id": "ff195bd7",
   "metadata": {},
   "outputs": [],
   "source": [
    "l1 = l"
   ]
  },
  {
   "cell_type": "code",
   "execution_count": null,
   "id": "ab81d653",
   "metadata": {},
   "outputs": [],
   "source": [
    "l"
   ]
  },
  {
   "cell_type": "code",
   "execution_count": null,
   "id": "d9930a3a",
   "metadata": {},
   "outputs": [],
   "source": [
    "l.clear()"
   ]
  },
  {
   "cell_type": "code",
   "execution_count": null,
   "id": "552c2158",
   "metadata": {},
   "outputs": [],
   "source": [
    "l"
   ]
  },
  {
   "cell_type": "code",
   "execution_count": null,
   "id": "a87df4b7",
   "metadata": {},
   "outputs": [],
   "source": [
    "l1=[3,4,5,6,7,8,\"home\", \"laptop\",\"happy\"]"
   ]
  },
  {
   "cell_type": "code",
   "execution_count": null,
   "id": "1a34a656",
   "metadata": {},
   "outputs": [],
   "source": [
    "l1"
   ]
  },
  {
   "cell_type": "code",
   "execution_count": null,
   "id": "3b620493",
   "metadata": {},
   "outputs": [],
   "source": [
    "l2= l1"
   ]
  },
  {
   "cell_type": "code",
   "execution_count": null,
   "id": "729ab161",
   "metadata": {},
   "outputs": [],
   "source": [
    "l2"
   ]
  },
  {
   "cell_type": "code",
   "execution_count": null,
   "id": "a315d93b",
   "metadata": {},
   "outputs": [],
   "source": [
    "l1"
   ]
  },
  {
   "cell_type": "code",
   "execution_count": null,
   "id": "6bc01f82",
   "metadata": {},
   "outputs": [],
   "source": [
    "l3=l1.copy()"
   ]
  },
  {
   "cell_type": "code",
   "execution_count": null,
   "id": "63a53e5a",
   "metadata": {},
   "outputs": [],
   "source": [
    "l3"
   ]
  },
  {
   "cell_type": "code",
   "execution_count": null,
   "id": "d37c0f95",
   "metadata": {},
   "outputs": [],
   "source": [
    "l1"
   ]
  },
  {
   "cell_type": "code",
   "execution_count": null,
   "id": "4b633454",
   "metadata": {},
   "outputs": [],
   "source": [
    "l2"
   ]
  },
  {
   "cell_type": "code",
   "execution_count": null,
   "id": "72272600",
   "metadata": {},
   "outputs": [],
   "source": [
    "l3"
   ]
  },
  {
   "cell_type": "code",
   "execution_count": null,
   "id": "50b271e8",
   "metadata": {},
   "outputs": [],
   "source": [
    "l3.count(\"home\")"
   ]
  },
  {
   "cell_type": "code",
   "execution_count": null,
   "id": "e5c0a85a",
   "metadata": {},
   "outputs": [],
   "source": [
    "l3.append([2,3,4,5])"
   ]
  },
  {
   "cell_type": "code",
   "execution_count": null,
   "id": "7ea5a87f",
   "metadata": {},
   "outputs": [],
   "source": [
    "l3"
   ]
  },
  {
   "cell_type": "code",
   "execution_count": null,
   "id": "04eab74a",
   "metadata": {},
   "outputs": [],
   "source": [
    "l1.extend({2,5,6,7})"
   ]
  },
  {
   "cell_type": "code",
   "execution_count": null,
   "id": "351e46cf",
   "metadata": {},
   "outputs": [],
   "source": [
    "l1"
   ]
  },
  {
   "cell_type": "code",
   "execution_count": null,
   "id": "0b9b8907",
   "metadata": {},
   "outputs": [],
   "source": [
    "l1.extend(\"mubarak\")"
   ]
  },
  {
   "cell_type": "code",
   "execution_count": null,
   "id": "37bf6d0c",
   "metadata": {},
   "outputs": [],
   "source": [
    "l1"
   ]
  },
  {
   "cell_type": "code",
   "execution_count": null,
   "id": "8debf80c",
   "metadata": {},
   "outputs": [],
   "source": [
    "l1.index(\"home\")"
   ]
  },
  {
   "cell_type": "code",
   "execution_count": null,
   "id": "6d2a4635",
   "metadata": {},
   "outputs": [],
   "source": [
    "l1.pop()"
   ]
  },
  {
   "cell_type": "code",
   "execution_count": null,
   "id": "4d1882d1",
   "metadata": {},
   "outputs": [],
   "source": [
    "l1"
   ]
  },
  {
   "cell_type": "code",
   "execution_count": null,
   "id": "c63322cc",
   "metadata": {},
   "outputs": [],
   "source": [
    "l1.pop(0)"
   ]
  },
  {
   "cell_type": "code",
   "execution_count": null,
   "id": "8828a78a",
   "metadata": {},
   "outputs": [],
   "source": [
    "l1"
   ]
  },
  {
   "cell_type": "code",
   "execution_count": null,
   "id": "4a4fc87a",
   "metadata": {},
   "outputs": [],
   "source": [
    "l1.pop(3)"
   ]
  },
  {
   "cell_type": "code",
   "execution_count": null,
   "id": "92439ca0",
   "metadata": {},
   "outputs": [],
   "source": [
    "l1.remove('home')"
   ]
  },
  {
   "cell_type": "code",
   "execution_count": null,
   "id": "49607623",
   "metadata": {},
   "outputs": [],
   "source": [
    "l1"
   ]
  },
  {
   "cell_type": "code",
   "execution_count": null,
   "id": "385be5d7",
   "metadata": {},
   "outputs": [],
   "source": [
    "l1.insert(2,[7,4,5])"
   ]
  },
  {
   "cell_type": "code",
   "execution_count": null,
   "id": "b131d61e",
   "metadata": {},
   "outputs": [],
   "source": [
    "l1"
   ]
  },
  {
   "cell_type": "code",
   "execution_count": null,
   "id": "0908c9f8",
   "metadata": {},
   "outputs": [],
   "source": [
    "l1.reverse()"
   ]
  },
  {
   "cell_type": "code",
   "execution_count": null,
   "id": "04cf771d",
   "metadata": {},
   "outputs": [],
   "source": [
    "l1"
   ]
  },
  {
   "cell_type": "code",
   "execution_count": null,
   "id": "1110641c",
   "metadata": {},
   "outputs": [],
   "source": [
    "l1.sort()"
   ]
  },
  {
   "cell_type": "code",
   "execution_count": null,
   "id": "b163afd6",
   "metadata": {},
   "outputs": [],
   "source": [
    "l=[2,5,6,73,5,8,54,8]"
   ]
  },
  {
   "cell_type": "code",
   "execution_count": null,
   "id": "c9c84f6a",
   "metadata": {},
   "outputs": [],
   "source": [
    "l.sort()"
   ]
  },
  {
   "cell_type": "code",
   "execution_count": null,
   "id": "20d591db",
   "metadata": {},
   "outputs": [],
   "source": [
    "l"
   ]
  },
  {
   "cell_type": "code",
   "execution_count": null,
   "id": "00c0b3f3",
   "metadata": {},
   "outputs": [],
   "source": [
    "s2={(45+8j),4,6,1,0,5,\"laptop\",\"copy\", True}"
   ]
  },
  {
   "cell_type": "code",
   "execution_count": null,
   "id": "49f8982d",
   "metadata": {},
   "outputs": [],
   "source": [
    "s2"
   ]
  },
  {
   "cell_type": "code",
   "execution_count": null,
   "id": "e1f40f2f",
   "metadata": {},
   "outputs": [],
   "source": [
    "s2.add(675)"
   ]
  },
  {
   "cell_type": "code",
   "execution_count": null,
   "id": "9edeabb8",
   "metadata": {},
   "outputs": [],
   "source": [
    "s2"
   ]
  },
  {
   "cell_type": "code",
   "execution_count": null,
   "id": "dec9daef",
   "metadata": {},
   "outputs": [],
   "source": [
    "d1"
   ]
  },
  {
   "cell_type": "code",
   "execution_count": null,
   "id": "f107b76b",
   "metadata": {},
   "outputs": [],
   "source": [
    "d1.keys()"
   ]
  },
  {
   "cell_type": "code",
   "execution_count": null,
   "id": "1fd68381",
   "metadata": {},
   "outputs": [],
   "source": [
    "list(d1.keys())"
   ]
  },
  {
   "cell_type": "code",
   "execution_count": null,
   "id": "6b997b96",
   "metadata": {},
   "outputs": [],
   "source": [
    "d1.values()"
   ]
  },
  {
   "cell_type": "code",
   "execution_count": null,
   "id": "d1eecd77",
   "metadata": {},
   "outputs": [],
   "source": [
    "list(d1.values())"
   ]
  },
  {
   "cell_type": "code",
   "execution_count": null,
   "id": "eb68ae0a",
   "metadata": {},
   "outputs": [],
   "source": [
    "d1.pop(\"gumnam\")"
   ]
  },
  {
   "cell_type": "code",
   "execution_count": null,
   "id": "0638c02d",
   "metadata": {},
   "outputs": [],
   "source": [
    "d1"
   ]
  },
  {
   "cell_type": "code",
   "execution_count": null,
   "id": "badd5b67",
   "metadata": {},
   "outputs": [],
   "source": [
    "d1.popitem()"
   ]
  },
  {
   "cell_type": "code",
   "execution_count": null,
   "id": "83be1e59",
   "metadata": {},
   "outputs": [],
   "source": [
    "d1.update({\"hotel\":\"mistir sweets\"})"
   ]
  },
  {
   "cell_type": "code",
   "execution_count": null,
   "id": "986ad125",
   "metadata": {},
   "outputs": [],
   "source": [
    "d1"
   ]
  },
  {
   "cell_type": "code",
   "execution_count": null,
   "id": "220be342",
   "metadata": {},
   "outputs": [],
   "source": [
    "d1[\"oil\"]=\"coconut\""
   ]
  },
  {
   "cell_type": "code",
   "execution_count": null,
   "id": "092878fd",
   "metadata": {},
   "outputs": [],
   "source": [
    "d1"
   ]
  },
  {
   "cell_type": "code",
   "execution_count": null,
   "id": "491112a3",
   "metadata": {},
   "outputs": [],
   "source": [
    "s= \"The cat sat on the cat mat\""
   ]
  },
  {
   "cell_type": "code",
   "execution_count": null,
   "id": "2d54ebdc",
   "metadata": {},
   "outputs": [],
   "source": [
    "s"
   ]
  },
  {
   "cell_type": "code",
   "execution_count": null,
   "id": "d72e2348",
   "metadata": {},
   "outputs": [],
   "source": [
    "s.replace(\"cat\", \"dog\")"
   ]
  },
  {
   "cell_type": "code",
   "execution_count": null,
   "id": "eb573856",
   "metadata": {},
   "outputs": [],
   "source": [
    "s1=\" Hello World \""
   ]
  },
  {
   "cell_type": "code",
   "execution_count": null,
   "id": "af005209",
   "metadata": {},
   "outputs": [],
   "source": [
    "s1.split()"
   ]
  },
  {
   "cell_type": "code",
   "execution_count": null,
   "id": "ad68582d",
   "metadata": {},
   "outputs": [],
   "source": [
    "s1.strip()"
   ]
  },
  {
   "cell_type": "code",
   "execution_count": null,
   "id": "c42c387a",
   "metadata": {},
   "outputs": [],
   "source": [
    "s=\"apple,banana,cherry\""
   ]
  },
  {
   "cell_type": "code",
   "execution_count": null,
   "id": "56e4481e",
   "metadata": {},
   "outputs": [],
   "source": [
    "s.split()"
   ]
  },
  {
   "cell_type": "code",
   "execution_count": null,
   "id": "6323e1b6",
   "metadata": {},
   "outputs": [],
   "source": [
    "l=[\"apple\", \"cherry\"]"
   ]
  },
  {
   "cell_type": "code",
   "execution_count": null,
   "id": "de90aa57",
   "metadata": {},
   "outputs": [],
   "source": [
    "l.append(\"orang\")"
   ]
  },
  {
   "cell_type": "code",
   "execution_count": null,
   "id": "ff471d20",
   "metadata": {},
   "outputs": [],
   "source": [
    "l.insert(1,\"orange\")"
   ]
  },
  {
   "cell_type": "code",
   "execution_count": null,
   "id": "379912f5",
   "metadata": {},
   "outputs": [],
   "source": [
    "l"
   ]
  },
  {
   "cell_type": "code",
   "execution_count": null,
   "id": "f71f9e09",
   "metadata": {},
   "outputs": [],
   "source": [
    "l=[1,2]"
   ]
  },
  {
   "cell_type": "code",
   "execution_count": null,
   "id": "27b50474",
   "metadata": {},
   "outputs": [],
   "source": [
    "l"
   ]
  },
  {
   "cell_type": "code",
   "execution_count": null,
   "id": "4cb51d7d",
   "metadata": {},
   "outputs": [],
   "source": [
    "w=[3,4]"
   ]
  },
  {
   "cell_type": "code",
   "execution_count": null,
   "id": "f21afddf",
   "metadata": {},
   "outputs": [],
   "source": [
    "w"
   ]
  },
  {
   "cell_type": "code",
   "execution_count": null,
   "id": "d3a306f3",
   "metadata": {},
   "outputs": [],
   "source": [
    "l.extend(w)"
   ]
  },
  {
   "cell_type": "code",
   "execution_count": null,
   "id": "44c553e4",
   "metadata": {},
   "outputs": [],
   "source": [
    "l"
   ]
  },
  {
   "cell_type": "code",
   "execution_count": null,
   "id": "7ad631bb",
   "metadata": {},
   "outputs": [],
   "source": [
    "l3=[\"apple\", \"banana\", \"cherry\"]"
   ]
  },
  {
   "cell_type": "code",
   "execution_count": null,
   "id": "711aa9df",
   "metadata": {},
   "outputs": [],
   "source": [
    "l3"
   ]
  },
  {
   "cell_type": "code",
   "execution_count": null,
   "id": "005495d0",
   "metadata": {},
   "outputs": [],
   "source": [
    "l3.count(\"banana\")"
   ]
  },
  {
   "cell_type": "code",
   "execution_count": null,
   "id": "77dd59be",
   "metadata": {},
   "outputs": [],
   "source": [
    "l1={\"name\": \"Mia\", \"age\": 35}"
   ]
  },
  {
   "cell_type": "code",
   "execution_count": null,
   "id": "8f25dc6a",
   "metadata": {},
   "outputs": [],
   "source": [
    "l1"
   ]
  },
  {
   "cell_type": "code",
   "execution_count": null,
   "id": "cc2b5ae6",
   "metadata": {},
   "outputs": [],
   "source": [
    "l1.keys()"
   ]
  },
  {
   "cell_type": "code",
   "execution_count": null,
   "id": "4d1a6f09",
   "metadata": {},
   "outputs": [],
   "source": [
    "l4=[\"name\", \"age\"]"
   ]
  },
  {
   "cell_type": "code",
   "execution_count": null,
   "id": "f4ae1a61",
   "metadata": {},
   "outputs": [],
   "source": [
    "keys=[\"name\", \"age\"]"
   ]
  },
  {
   "cell_type": "code",
   "execution_count": null,
   "id": "4a3bfed3",
   "metadata": {},
   "outputs": [],
   "source": [
    "keys"
   ]
  },
  {
   "cell_type": "code",
   "execution_count": null,
   "id": "9f3038fe",
   "metadata": {},
   "outputs": [],
   "source": [
    "value=[\"John\", 30]"
   ]
  },
  {
   "cell_type": "code",
   "execution_count": null,
   "id": "0edafdcf",
   "metadata": {},
   "outputs": [],
   "source": [
    "value"
   ]
  },
  {
   "cell_type": "code",
   "execution_count": null,
   "id": "2deb2aea",
   "metadata": {},
   "outputs": [],
   "source": [
    "l2=dict(zip(keys,value))"
   ]
  },
  {
   "cell_type": "code",
   "execution_count": null,
   "id": "49f846a8",
   "metadata": {},
   "outputs": [],
   "source": [
    "l2"
   ]
  },
  {
   "cell_type": "code",
   "execution_count": null,
   "id": "b8bb498b",
   "metadata": {},
   "outputs": [],
   "source": [
    "t=(15, 25, 35)"
   ]
  },
  {
   "cell_type": "code",
   "execution_count": null,
   "id": "12c6d951",
   "metadata": {},
   "outputs": [],
   "source": [
    "type(t)"
   ]
  },
  {
   "cell_type": "code",
   "execution_count": null,
   "id": "21054b9d",
   "metadata": {},
   "outputs": [],
   "source": [
    "t.count(25)"
   ]
  },
  {
   "cell_type": "code",
   "execution_count": null,
   "id": "158884d2",
   "metadata": {},
   "outputs": [],
   "source": [
    "t1=(5, 1, 3, 2, 4)"
   ]
  },
  {
   "cell_type": "code",
   "execution_count": null,
   "id": "05413370",
   "metadata": {},
   "outputs": [],
   "source": [
    "sorted(t1)"
   ]
  },
  {
   "cell_type": "code",
   "execution_count": null,
   "id": "393df232",
   "metadata": {},
   "outputs": [],
   "source": [
    "t4=(1, 2)"
   ]
  },
  {
   "cell_type": "code",
   "execution_count": null,
   "id": "8f8cc0ce",
   "metadata": {},
   "outputs": [],
   "source": [
    "t4*3"
   ]
  },
  {
   "cell_type": "code",
   "execution_count": null,
   "id": "7e0287ec",
   "metadata": {},
   "outputs": [],
   "source": [
    "range(5)"
   ]
  },
  {
   "cell_type": "code",
   "execution_count": null,
   "id": "1bb49510",
   "metadata": {},
   "outputs": [],
   "source": [
    "list(range(1 , 10,2))"
   ]
  },
  {
   "cell_type": "code",
   "execution_count": null,
   "id": "5caf76c2",
   "metadata": {},
   "outputs": [],
   "source": [
    "for i in range(10):\n",
    "    print (i)"
   ]
  },
  {
   "cell_type": "code",
   "execution_count": null,
   "id": "fa935f04",
   "metadata": {},
   "outputs": [],
   "source": [
    "s =\"string\""
   ]
  },
  {
   "cell_type": "code",
   "execution_count": null,
   "id": "f9ee7220",
   "metadata": {},
   "outputs": [],
   "source": [
    "for i in s:\n",
    "    print(i)"
   ]
  },
  {
   "cell_type": "code",
   "execution_count": null,
   "id": "7c6a7b5f",
   "metadata": {},
   "outputs": [],
   "source": [
    "a=0\n",
    "b=1\n",
    "limit=10\n",
    "\n",
    "for i in range(10):\n",
    "    print (a)\n",
    "    a,b=b, a+b\n",
    "\n",
    "\n",
    "\n"
   ]
  },
  {
   "cell_type": "code",
   "execution_count": null,
   "id": "eac83dfe",
   "metadata": {},
   "outputs": [],
   "source": [
    "a=0\n",
    "b=1\n",
    "limit =10\n",
    "\n",
    "for i in range(10):\n",
    "    print (a)\n",
    "    a,b=b,a+b"
   ]
  },
  {
   "cell_type": "code",
   "execution_count": null,
   "id": "14146523",
   "metadata": {},
   "outputs": [],
   "source": [
    "for i in range(20):\n",
    "    print (i)"
   ]
  },
  {
   "cell_type": "code",
   "execution_count": null,
   "id": "8d1efc17",
   "metadata": {},
   "outputs": [],
   "source": [
    "i =0\n",
    "while i <=10:\n",
    "    print (i)\n",
    "    i=i+2 "
   ]
  },
  {
   "cell_type": "code",
   "execution_count": null,
   "id": "ea53d22d",
   "metadata": {},
   "outputs": [],
   "source": [
    "row =10\n",
    "for i in range(i,row+1):\n",
    "    print (\"o\"*i)"
   ]
  },
  {
   "cell_type": "code",
   "execution_count": null,
   "id": "cf04d670",
   "metadata": {},
   "outputs": [],
   "source": [
    "Colam =10\n",
    "for i in range (1,row+1):\n",
    "    print (\"om\"*i)"
   ]
  },
  {
   "cell_type": "code",
   "execution_count": null,
   "id": "4e9aa24c",
   "metadata": {},
   "outputs": [],
   "source": [
    "n=int(input(\"enter a number\"))\n",
    "largest_digit=0\n",
    "while n>0:\n",
    "     digit =n % 10\n",
    "     if digit >largest_digit:\n",
    "          largest_digit=digit\n",
    "     n=n//10\n",
    "print (\"the largest digit is :\", largest_digit)"
   ]
  },
  {
   "cell_type": "code",
   "execution_count": null,
   "id": "12f78275",
   "metadata": {},
   "outputs": [],
   "source": []
  },
  {
   "cell_type": "code",
   "execution_count": 7,
   "id": "b4f835fe",
   "metadata": {},
   "outputs": [
    {
     "name": "stdout",
     "output_type": "stream",
     "text": [
      "<function sum_args at 0x00000245A4477420>\n"
     ]
    }
   ],
   "source": [
    "num =[1,2,3,4,5]\n",
    "def sum_args(*args):\n",
    "    return (args)\n",
    "\n",
    "print (sum_args)"
   ]
  },
  {
   "cell_type": "code",
   "execution_count": 8,
   "id": "1a775e84",
   "metadata": {},
   "outputs": [
    {
     "name": "stdout",
     "output_type": "stream",
     "text": [
      "(1, 2, 3, 4)\n"
     ]
    }
   ],
   "source": [
    "def sum_args(*args):\n",
    "    return (args)\n",
    "\n",
    "print (sum_args(1,2,3,4))"
   ]
  },
  {
   "cell_type": "code",
   "execution_count": 9,
   "id": "369eeeec",
   "metadata": {},
   "outputs": [
    {
     "name": "stdout",
     "output_type": "stream",
     "text": [
      "10\n"
     ]
    }
   ],
   "source": [
    "def sum_args(*args):\n",
    "    return sum(args)\n",
    "print(sum_args(1, 2, 3, 4))"
   ]
  },
  {
   "cell_type": "code",
   "execution_count": null,
   "id": "db0033ba",
   "metadata": {},
   "outputs": [],
   "source": []
  }
 ],
 "metadata": {
  "kernelspec": {
   "display_name": ".venv",
   "language": "python",
   "name": "python3"
  },
  "language_info": {
   "codemirror_mode": {
    "name": "ipython",
    "version": 3
   },
   "file_extension": ".py",
   "mimetype": "text/x-python",
   "name": "python",
   "nbconvert_exporter": "python",
   "pygments_lexer": "ipython3",
   "version": "3.12.4"
  }
 },
 "nbformat": 4,
 "nbformat_minor": 5
}
