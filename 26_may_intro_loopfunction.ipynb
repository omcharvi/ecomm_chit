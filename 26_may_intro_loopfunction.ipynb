{
 "cells": [
  {
   "cell_type": "code",
   "execution_count": 2,
   "id": "136e8dfb",
   "metadata": {},
   "outputs": [
    {
     "name": "stdout",
     "output_type": "stream",
     "text": [
      "4\n",
      "4\n",
      "4\n",
      "6\n",
      "7\n",
      "2\n",
      "8\n",
      "9\n"
     ]
    }
   ],
   "source": [
    "l=[4,4,4,6,7,2,8,9]\n",
    "for i in l :\n",
    "    print (i)"
   ]
  },
  {
   "cell_type": "code",
   "execution_count": 3,
   "id": "8e9faf92",
   "metadata": {},
   "outputs": [
    {
     "data": {
      "text/plain": [
       "[4, 4, 4, 6, 7, 2, 8, 9]"
      ]
     },
     "execution_count": 3,
     "metadata": {},
     "output_type": "execute_result"
    }
   ],
   "source": [
    "l"
   ]
  },
  {
   "cell_type": "code",
   "execution_count": 4,
   "id": "af3c7933",
   "metadata": {},
   "outputs": [
    {
     "name": "stdout",
     "output_type": "stream",
     "text": [
      "5\n",
      "5\n",
      "5\n",
      "7\n",
      "8\n",
      "3\n",
      "9\n",
      "10\n"
     ]
    }
   ],
   "source": [
    "for i in l :\n",
    "    print (i+1)"
   ]
  },
  {
   "cell_type": "code",
   "execution_count": 5,
   "id": "9851323d",
   "metadata": {},
   "outputs": [
    {
     "name": "stdout",
     "output_type": "stream",
     "text": [
      "16\n",
      "16\n",
      "16\n",
      "36\n",
      "49\n",
      "4\n",
      "64\n",
      "81\n"
     ]
    }
   ],
   "source": [
    "for i in l:\n",
    "    print (i**2)"
   ]
  },
  {
   "cell_type": "code",
   "execution_count": 6,
   "id": "393d77a0",
   "metadata": {},
   "outputs": [
    {
     "data": {
      "text/plain": [
       "[4, 4, 4, 6, 7, 2, 8, 9]"
      ]
     },
     "execution_count": 6,
     "metadata": {},
     "output_type": "execute_result"
    }
   ],
   "source": [
    "l"
   ]
  },
  {
   "cell_type": "code",
   "execution_count": 7,
   "id": "c2d03cc9",
   "metadata": {},
   "outputs": [
    {
     "name": "stdout",
     "output_type": "stream",
     "text": [
      "c\n",
      "h\n",
      "i\n",
      "t\n",
      "r\n",
      "a\n",
      "n\n",
      "j\n",
      "a\n",
      "n\n"
     ]
    }
   ],
   "source": [
    "w=\"chitranjan\"\n",
    "for i in w :\n",
    "    print (i)"
   ]
  },
  {
   "cell_type": "code",
   "execution_count": 8,
   "id": "290b6ce1",
   "metadata": {},
   "outputs": [
    {
     "name": "stdout",
     "output_type": "stream",
     "text": [
      "0\n",
      "1\n",
      "3\n",
      "4\n",
      "5\n",
      "6\n",
      "7\n",
      "9\n"
     ]
    }
   ],
   "source": [
    "might ={3,6,4,5,5,6,7,9,1,4,6,3,3,6,0,}\n",
    "for i in might :\n",
    "    print (i) "
   ]
  },
  {
   "cell_type": "code",
   "execution_count": 14,
   "id": "787ddbec",
   "metadata": {},
   "outputs": [],
   "source": [
    "dit={\"name:dictionary\", \"mentor: chitranjan\", \"city:bng\"}"
   ]
  },
  {
   "cell_type": "code",
   "execution_count": 15,
   "id": "d0c58d40",
   "metadata": {},
   "outputs": [],
   "source": [
    "dit={\"name\":\"chitranjan\", \"city\":\"bng\", \"code\":\"raffel\"}"
   ]
  },
  {
   "cell_type": "code",
   "execution_count": 24,
   "id": "2cf799fe",
   "metadata": {},
   "outputs": [
    {
     "name": "stdout",
     "output_type": "stream",
     "text": [
      "name\n",
      "city\n",
      "code\n"
     ]
    }
   ],
   "source": [
    "for i in dit.keys():\n",
    "    print (i)"
   ]
  },
  {
   "cell_type": "code",
   "execution_count": 17,
   "id": "d17c90f1",
   "metadata": {},
   "outputs": [
    {
     "data": {
      "text/plain": [
       "dict_values(['chitranjan', 'bng', 'raffel'])"
      ]
     },
     "execution_count": 17,
     "metadata": {},
     "output_type": "execute_result"
    }
   ],
   "source": [
    "dit.values()"
   ]
  },
  {
   "cell_type": "code",
   "execution_count": 22,
   "id": "1da414a1",
   "metadata": {},
   "outputs": [
    {
     "name": "stdout",
     "output_type": "stream",
     "text": [
      "chitranjan\n",
      "bng\n",
      "raffel\n"
     ]
    }
   ],
   "source": [
    "for i in dit.values() :\n",
    "    print (i)"
   ]
  },
  {
   "cell_type": "code",
   "execution_count": 26,
   "id": "1e6e5f2e",
   "metadata": {},
   "outputs": [
    {
     "name": "stdout",
     "output_type": "stream",
     "text": [
      "('name', 'chitranjan')\n",
      "('city', 'bng')\n",
      "('code', 'raffel')\n"
     ]
    }
   ],
   "source": [
    "for i in dit.items():\n",
    "    print (i)"
   ]
  },
  {
   "cell_type": "code",
   "execution_count": 27,
   "id": "29e1b720",
   "metadata": {},
   "outputs": [
    {
     "name": "stdout",
     "output_type": "stream",
     "text": [
      "name chitranjan\n",
      "city bng\n",
      "code raffel\n"
     ]
    }
   ],
   "source": [
    "for i,j in dit.items():\n",
    "    print (i,j)"
   ]
  },
  {
   "cell_type": "code",
   "execution_count": 28,
   "id": "10ec545f",
   "metadata": {},
   "outputs": [],
   "source": [
    "l=['euron',4,55,6,33,4,4,5,67.78, True, \"omcharvi\", False, 6+8j]"
   ]
  },
  {
   "cell_type": "code",
   "execution_count": 32,
   "id": "e54f2717",
   "metadata": {},
   "outputs": [
    {
     "name": "stdout",
     "output_type": "stream",
     "text": [
      "euron\n",
      "omcharvi\n"
     ]
    }
   ],
   "source": [
    "for i in l :\n",
    "    if type(i)==str :\n",
    "        print (i)"
   ]
  },
  {
   "cell_type": "code",
   "execution_count": null,
   "id": "ae4e2519",
   "metadata": {},
   "outputs": [],
   "source": [
    "l=['euron',4,55,6,33,4,4,5,67.78, True, \"omcharvi\", False, 6+8j]"
   ]
  },
  {
   "cell_type": "code",
   "execution_count": 43,
   "id": "147f19bf",
   "metadata": {},
   "outputs": [
    {
     "data": {
      "text/plain": [
       "['euron', 4, 55, 6, 33, 4, 4, 5, 67.78, True, 'omcharvi', False, (6+8j)]"
      ]
     },
     "execution_count": 43,
     "metadata": {},
     "output_type": "execute_result"
    }
   ],
   "source": [
    "l"
   ]
  },
  {
   "cell_type": "code",
   "execution_count": 44,
   "id": "ce83b5dd",
   "metadata": {},
   "outputs": [],
   "source": [
    "l_str =[]\n",
    "l_int =[]\n",
    "l_float= []\n",
    "l_bool=[]\n",
    "l_extra = []\n",
    "for i in l:\n",
    "    if type (i)==str:\n",
    "        l_str.append(i)\n",
    "    elif type(i)== int:\n",
    "        l_int.append(i)\n",
    "    elif type(i)==float :\n",
    "        l_float.append(i)\n",
    "    elif type (i)==bool :\n",
    "        l_bool.append (i)\n",
    "    else:\n",
    "        l_extra.append (i)\n",
    "    \n",
    "        "
   ]
  },
  {
   "cell_type": "code",
   "execution_count": 46,
   "id": "b932976b",
   "metadata": {},
   "outputs": [
    {
     "data": {
      "text/plain": [
       "[]"
      ]
     },
     "execution_count": 46,
     "metadata": {},
     "output_type": "execute_result"
    }
   ],
   "source": [
    "l_str"
   ]
  },
  {
   "cell_type": "code",
   "execution_count": 47,
   "id": "2090d077",
   "metadata": {},
   "outputs": [],
   "source": [
    "list = [4,4,5,6,3,4,7,\"omcharavi\", True, False, 67.7j, \"dhani\"]"
   ]
  },
  {
   "cell_type": "code",
   "execution_count": 48,
   "id": "1d4cfcaf",
   "metadata": {},
   "outputs": [
    {
     "data": {
      "text/plain": [
       "[4, 4, 5, 6, 3, 4, 7, 'omcharavi', True, False, 67.7j, 'dhani']"
      ]
     },
     "execution_count": 48,
     "metadata": {},
     "output_type": "execute_result"
    }
   ],
   "source": [
    "list"
   ]
  },
  {
   "cell_type": "code",
   "execution_count": 49,
   "id": "7ccb12bf",
   "metadata": {},
   "outputs": [
    {
     "name": "stdout",
     "output_type": "stream",
     "text": [
      "4\n",
      "4\n",
      "5\n",
      "6\n",
      "3\n",
      "4\n",
      "7\n",
      "omcharavi\n",
      "True\n",
      "False\n",
      "67.7j\n",
      "dhani\n"
     ]
    }
   ],
   "source": [
    "for i in list :\n",
    "    print (i)"
   ]
  },
  {
   "cell_type": "code",
   "execution_count": 63,
   "id": "34ce7b35",
   "metadata": {},
   "outputs": [],
   "source": [
    "list_str=[]\n",
    "list_int=[]\n",
    "list_bool=[]\n",
    "list_float=[]\n",
    "list_extra=[]\n",
    "for i in list :\n",
    "    if type(i)==str:\n",
    "        list_str.append(i)\n",
    "    elif type (i)== int:\n",
    "        list_int.append (i)\n",
    "    elif type(i)==bool:\n",
    "        list_bool.append(i)\n",
    "    elif type(i)==float :\n",
    "        list_float.append (i)\n",
    "    else:\n",
    "        list_extra.append(i)\n"
   ]
  },
  {
   "cell_type": "code",
   "execution_count": 64,
   "id": "6e1cb298",
   "metadata": {},
   "outputs": [
    {
     "data": {
      "text/plain": [
       "[]"
      ]
     },
     "execution_count": 64,
     "metadata": {},
     "output_type": "execute_result"
    }
   ],
   "source": [
    "list_str"
   ]
  },
  {
   "cell_type": "code",
   "execution_count": 65,
   "id": "81d3b8ea",
   "metadata": {},
   "outputs": [
    {
     "data": {
      "text/plain": [
       "range(0, 5)"
      ]
     },
     "execution_count": 65,
     "metadata": {},
     "output_type": "execute_result"
    }
   ],
   "source": [
    "range (5)"
   ]
  },
  {
   "cell_type": "code",
   "execution_count": 69,
   "id": "0a8dff0c",
   "metadata": {},
   "outputs": [
    {
     "ename": "TypeError",
     "evalue": "'range' object is not callable",
     "output_type": "error",
     "traceback": [
      "\u001b[31m---------------------------------------------------------------------------\u001b[39m",
      "\u001b[31mTypeError\u001b[39m                                 Traceback (most recent call last)",
      "\u001b[36mCell\u001b[39m\u001b[36m \u001b[39m\u001b[32mIn[69]\u001b[39m\u001b[32m, line 1\u001b[39m\n\u001b[32m----> \u001b[39m\u001b[32m1\u001b[39m \u001b[38;5;28;43mlist\u001b[39;49m\u001b[43m(\u001b[49m\u001b[38;5;28;43mrange\u001b[39;49m\u001b[43m(\u001b[49m\u001b[32;43m5\u001b[39;49m\u001b[43m)\u001b[49m\u001b[43m)\u001b[49m\n",
      "\u001b[31mTypeError\u001b[39m: 'range' object is not callable"
     ]
    }
   ],
   "source": [
    "list(range(5))"
   ]
  },
  {
   "cell_type": "code",
   "execution_count": 70,
   "id": "108927f0",
   "metadata": {},
   "outputs": [
    {
     "data": {
      "text/plain": [
       "range(0, 5)"
      ]
     },
     "execution_count": 70,
     "metadata": {},
     "output_type": "execute_result"
    }
   ],
   "source": [
    "range(5)"
   ]
  },
  {
   "cell_type": "code",
   "execution_count": 72,
   "id": "dbb64919",
   "metadata": {},
   "outputs": [
    {
     "ename": "TypeError",
     "evalue": "'range' object is not callable",
     "output_type": "error",
     "traceback": [
      "\u001b[31m---------------------------------------------------------------------------\u001b[39m",
      "\u001b[31mTypeError\u001b[39m                                 Traceback (most recent call last)",
      "\u001b[36mCell\u001b[39m\u001b[36m \u001b[39m\u001b[32mIn[72]\u001b[39m\u001b[32m, line 1\u001b[39m\n\u001b[32m----> \u001b[39m\u001b[32m1\u001b[39m \u001b[38;5;28;43mlist\u001b[39;49m\u001b[43m(\u001b[49m\u001b[38;5;28;43mrange\u001b[39;49m\u001b[43m(\u001b[49m\u001b[32;43m1\u001b[39;49m\u001b[43m,\u001b[49m\u001b[32;43m5\u001b[39;49m\u001b[43m)\u001b[49m\u001b[43m)\u001b[49m\n",
      "\u001b[31mTypeError\u001b[39m: 'range' object is not callable"
     ]
    }
   ],
   "source": [
    "list(range(1,5))"
   ]
  },
  {
   "cell_type": "code",
   "execution_count": 73,
   "id": "527df2c0",
   "metadata": {},
   "outputs": [
    {
     "ename": "TypeError",
     "evalue": "'str' object cannot be interpreted as an integer",
     "output_type": "error",
     "traceback": [
      "\u001b[31m---------------------------------------------------------------------------\u001b[39m",
      "\u001b[31mTypeError\u001b[39m                                 Traceback (most recent call last)",
      "\u001b[36mCell\u001b[39m\u001b[36m \u001b[39m\u001b[32mIn[73]\u001b[39m\u001b[32m, line 2\u001b[39m\n\u001b[32m      1\u001b[39m row =\u001b[32m5\u001b[39m\n\u001b[32m----> \u001b[39m\u001b[32m2\u001b[39m \u001b[38;5;28;01mfor\u001b[39;00m i \u001b[38;5;129;01min\u001b[39;00m \u001b[38;5;28;43mrange\u001b[39;49m\u001b[43m \u001b[49m\u001b[43m(\u001b[49m\u001b[43mi\u001b[49m\u001b[43m,\u001b[49m\u001b[43mrow\u001b[49m\u001b[43m+\u001b[49m\u001b[32;43m1\u001b[39;49m\u001b[43m)\u001b[49m:\n\u001b[32m      3\u001b[39m     \u001b[38;5;28mprint\u001b[39m (\u001b[33m\"\u001b[39m\u001b[33m*\u001b[39m\u001b[33m\"\u001b[39m*i)\n",
      "\u001b[31mTypeError\u001b[39m: 'str' object cannot be interpreted as an integer"
     ]
    }
   ],
   "source": [
    "row =5\n",
    "for i in range (i,row+1):\n",
    "    print (\"*\"*i)"
   ]
  },
  {
   "cell_type": "code",
   "execution_count": null,
   "id": "65cb740e",
   "metadata": {},
   "outputs": [],
   "source": [
    "Write a program to find the sum of digits of a given number using a while loop."
   ]
  },
  {
   "cell_type": "code",
   "execution_count": 77,
   "id": "61970f0f",
   "metadata": {},
   "outputs": [
    {
     "name": "stdout",
     "output_type": "stream",
     "text": [
      "the total sum of digit is: 26\n"
     ]
    }
   ],
   "source": [
    "n=int(input(\"enter a namber\"))\n",
    "tot =0\n",
    "while (n>0):\n",
    "    dig=n%10\n",
    "    tot=tot+dig\n",
    "    n=n//10\n",
    "print (\"the total sum of digit is:\",tot)\n"
   ]
  },
  {
   "cell_type": "code",
   "execution_count": null,
   "id": "7c976c77",
   "metadata": {},
   "outputs": [],
   "source": [
    "Create a program that uses a while loop to reverse a number."
   ]
  },
  {
   "cell_type": "code",
   "execution_count": 87,
   "id": "02b1d6f8",
   "metadata": {},
   "outputs": [
    {
     "name": "stdout",
     "output_type": "stream",
     "text": [
      "0\n",
      "0\n",
      "0\n",
      "0\n",
      "0\n",
      "0\n",
      "0\n",
      "0\n"
     ]
    }
   ],
   "source": [
    "n= 12345678\n",
    "rev=0\n",
    "while n>0:\n",
    "    digit= n % 10 \n",
    "    dig=rev*10+digit\n",
    "    n//=10 \n",
    "    print(rev)"
   ]
  },
  {
   "cell_type": "code",
   "execution_count": null,
   "id": "e44ddb13",
   "metadata": {},
   "outputs": [],
   "source": []
  },
  {
   "cell_type": "code",
   "execution_count": 93,
   "id": "b3093895",
   "metadata": {},
   "outputs": [
    {
     "name": "stdout",
     "output_type": "stream",
     "text": [
      "4\n",
      "43\n",
      "432\n",
      "4321\n"
     ]
    }
   ],
   "source": [
    "n1=1234\n",
    "rev=0\n",
    "while n1>0:\n",
    "    digit =n1%10\n",
    "    rev=rev*10+digit\n",
    "    n1//=10\n",
    "    print(rev)"
   ]
  },
  {
   "cell_type": "code",
   "execution_count": null,
   "id": "fb7ccaac",
   "metadata": {},
   "outputs": [],
   "source": [
    "Write a while loop program to find the largest digit in a number."
   ]
  },
  {
   "cell_type": "code",
   "execution_count": 106,
   "id": "ccf76f70",
   "metadata": {},
   "outputs": [
    {
     "name": "stdout",
     "output_type": "stream",
     "text": [
      "the largest digit is : 9\n"
     ]
    }
   ],
   "source": [
    "n=int(input(\"enter a number\"))\n",
    "largest_digit=0\n",
    "while n>0:\n",
    "     digit =n % 10\n",
    "     if digit >largest_digit:\n",
    "          largest_digit=digit\n",
    "     n=n//10\n",
    "print (\"the largest digit is :\", largest_digit)"
   ]
  },
  {
   "cell_type": "code",
   "execution_count": null,
   "id": "11e49be7",
   "metadata": {},
   "outputs": [],
   "source": [
    "Use a while loop to print all even numbers from 1 to n."
   ]
  },
  {
   "cell_type": "code",
   "execution_count": 110,
   "id": "c876cf95",
   "metadata": {},
   "outputs": [
    {
     "name": "stdout",
     "output_type": "stream",
     "text": [
      "2\n"
     ]
    }
   ],
   "source": [
    "n= int(input(\"enter a numner\"))\n",
    "i=2\n",
    "while i <=2:\n",
    "    print (i)\n",
    "    i+=2"
   ]
  },
  {
   "cell_type": "code",
   "execution_count": 114,
   "id": "8d335439",
   "metadata": {},
   "outputs": [
    {
     "name": "stdout",
     "output_type": "stream",
     "text": [
      "Too high!\n",
      "Too high!\n",
      "Too high!\n",
      "Too high!\n",
      "Too high!\n"
     ]
    },
    {
     "ename": "ValueError",
     "evalue": "invalid literal for int() with base 10: ''",
     "output_type": "error",
     "traceback": [
      "\u001b[31m---------------------------------------------------------------------------\u001b[39m",
      "\u001b[31mValueError\u001b[39m                                Traceback (most recent call last)",
      "\u001b[36mCell\u001b[39m\u001b[36m \u001b[39m\u001b[32mIn[114]\u001b[39m\u001b[32m, line 5\u001b[39m\n\u001b[32m      3\u001b[39m guess = \u001b[32m0\u001b[39m   \n\u001b[32m      4\u001b[39m \u001b[38;5;28;01mwhile\u001b[39;00m guess != num: \n\u001b[32m----> \u001b[39m\u001b[32m5\u001b[39m     guess= \u001b[38;5;28;43mint\u001b[39;49m\u001b[43m(\u001b[49m\u001b[38;5;28;43minput\u001b[39;49m\u001b[43m(\u001b[49m\u001b[33;43m\"\u001b[39;49m\u001b[33;43menter a number:\u001b[39;49m\u001b[33;43m\"\u001b[39;49m\u001b[43m)\u001b[49m\u001b[43m)\u001b[49m\n\u001b[32m      6\u001b[39m     \u001b[38;5;28;01mif\u001b[39;00m guess < num:\n\u001b[32m      7\u001b[39m         \u001b[38;5;28mprint\u001b[39m (\u001b[33m\"\u001b[39m\u001b[33mToo low!\u001b[39m\u001b[33m\"\u001b[39m)\n",
      "\u001b[31mValueError\u001b[39m: invalid literal for int() with base 10: ''"
     ]
    }
   ],
   "source": [
    "import random\n",
    "num = random.randint (1,100)\n",
    "guess = 0   \n",
    "while guess != num: \n",
    "    guess= int(input(\"enter a number:\"))\n",
    "    if guess < num:\n",
    "        print (\"Too low!\")\n",
    "    elif guess > num:\n",
    "        print(\"Too high!\")\n",
    "    else:\n",
    "        print(f\"Correct! The number was {num}\")\n",
    "\n"
   ]
  },
  {
   "cell_type": "code",
   "execution_count": null,
   "id": "3f9c9483",
   "metadata": {},
   "outputs": [],
   "source": [
    "Write a program using a for loop to print the multiplication table of a given number."
   ]
  },
  {
   "cell_type": "code",
   "execution_count": 118,
   "id": "78f9b344",
   "metadata": {},
   "outputs": [
    {
     "name": "stdout",
     "output_type": "stream",
     "text": [
      "10 x 4= 40\n"
     ]
    }
   ],
   "source": [
    "table =10\n",
    "if i in range(1, 11):\n",
    "    print (f'{table} x {i}= {table*i}')"
   ]
  },
  {
   "cell_type": "code",
   "execution_count": null,
   "id": "cbe0ec73",
   "metadata": {},
   "outputs": [],
   "source": [
    "Create a program using a for loop to print all numbers divisible by 3 and 5 between 1 and n."
   ]
  },
  {
   "cell_type": "code",
   "execution_count": 123,
   "id": "700ecd53",
   "metadata": {},
   "outputs": [
    {
     "name": "stdout",
     "output_type": "stream",
     "text": [
      "15 30 "
     ]
    }
   ],
   "source": [
    "num=int(input(\"enter a number :\"))\n",
    "for i in range(1,num+1):\n",
    "    if i % 3==0 and i % 5==0 :\n",
    "        print (i, end =\" \")"
   ]
  },
  {
   "cell_type": "code",
   "execution_count": null,
   "id": "3d3c1692",
   "metadata": {},
   "outputs": [],
   "source": []
  }
 ],
 "metadata": {
  "kernelspec": {
   "display_name": ".venv",
   "language": "python",
   "name": "python3"
  },
  "language_info": {
   "codemirror_mode": {
    "name": "ipython",
    "version": 3
   },
   "file_extension": ".py",
   "mimetype": "text/x-python",
   "name": "python",
   "nbconvert_exporter": "python",
   "pygments_lexer": "ipython3",
   "version": "3.12.4"
  }
 },
 "nbformat": 4,
 "nbformat_minor": 5
}
