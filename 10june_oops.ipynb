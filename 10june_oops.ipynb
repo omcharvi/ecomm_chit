{
 "cells": [
  {
   "cell_type": "code",
   "execution_count": 1,
   "id": "40057077",
   "metadata": {},
   "outputs": [],
   "source": [
    "def euron_course(course,mentor,price):\n",
    "    print(course,mentor, price)"
   ]
  },
  {
   "cell_type": "code",
   "execution_count": 3,
   "id": "de430683",
   "metadata": {},
   "outputs": [],
   "source": [
    "class euron:\n",
    "    pass"
   ]
  },
  {
   "cell_type": "code",
   "execution_count": null,
   "id": "2a49cac6",
   "metadata": {},
   "outputs": [],
   "source": [
    "class euron_course:\n",
    "    \n",
    "    def __init__(self,course_name, course_mentor, course_price):\n",
    "        self.course_name= course_name\n",
    "        self.course_mentor = course_mentor\n",
    "        self.course_price = course_price\n",
    "e1 = euron_course(\"pyhthon\",\"chitranjan\", 2000)\n",
    "e1.course_price\n",
    "\n",
    "e2= euron_course(\"data anlaysis\",\"kavit\",40000)"
   ]
  },
  {
   "cell_type": "code",
   "execution_count": null,
   "id": "b35e4d88",
   "metadata": {},
   "outputs": [],
   "source": [
    "class euron_course:\n",
    "    \n",
    "    def __init__(self,course_name, course_mentor, course_price):\n",
    "        self.course_name= course_name\n",
    "        self.course_mentor = course_mentor\n",
    "        self.course_price = course_price\n",
    "\n",
    "\n"
   ]
  },
  {
   "cell_type": "code",
   "execution_count": 14,
   "id": "2be3268d",
   "metadata": {},
   "outputs": [],
   "source": [
    "Pro_course1= euron_course(\"python\", \"omcharvi\",3000)\n",
    "pro_course2=euron_course(\"java\", \"kavita\",4000)\n",
    "pro_course3= euron_course(\"big data\",\"kaushal\",5000)"
   ]
  },
  {
   "cell_type": "code",
   "execution_count": 16,
   "id": "f1b98811",
   "metadata": {},
   "outputs": [
    {
     "data": {
      "text/plain": [
       "'python'"
      ]
     },
     "execution_count": 16,
     "metadata": {},
     "output_type": "execute_result"
    }
   ],
   "source": [
    "Pro_course1.course_name"
   ]
  },
  {
   "cell_type": "code",
   "execution_count": null,
   "id": "1c62df32",
   "metadata": {},
   "outputs": [],
   "source": [
    "pro_course3= euron_course(\"big data\",\"kaushal\",5000)\n",
    "pro_course3"
   ]
  },
  {
   "cell_type": "code",
   "execution_count": 18,
   "id": "3f73826c",
   "metadata": {},
   "outputs": [],
   "source": [
    "def euron_course (course, mentor, price):\n",
    "    print (course, mentor, price)"
   ]
  },
  {
   "cell_type": "code",
   "execution_count": 21,
   "id": "ad0cd391",
   "metadata": {},
   "outputs": [],
   "source": [
    "class euron:\n",
    "    pass"
   ]
  },
  {
   "cell_type": "code",
   "execution_count": 28,
   "id": "db72556a",
   "metadata": {},
   "outputs": [],
   "source": [
    "class euron_course:\n",
    "    def __init__(self,course_name, course_mentor, course_price):\n",
    "        self.course_name= course_name\n",
    "        self.course_mentor= course_mentor\n",
    "        self.course_price = course_price\n",
    "\n",
    "e1 = euron_course(\"python\", \"chitranjan\", 2000)\n",
    "e1.course_price\n",
    "\n",
    "e2= euron_course= (\"data anaylysis\",\"omcharvi\", 9070)"
   ]
  },
  {
   "cell_type": "code",
   "execution_count": 32,
   "id": "e86e1ab5",
   "metadata": {},
   "outputs": [
    {
     "ename": "TypeError",
     "evalue": "'tuple' object is not callable",
     "output_type": "error",
     "traceback": [
      "\u001b[31m---------------------------------------------------------------------------\u001b[39m",
      "\u001b[31mTypeError\u001b[39m                                 Traceback (most recent call last)",
      "\u001b[36mCell\u001b[39m\u001b[36m \u001b[39m\u001b[32mIn[32]\u001b[39m\u001b[32m, line 1\u001b[39m\n\u001b[32m----> \u001b[39m\u001b[32m1\u001b[39m pro_course= \u001b[43meuron_course\u001b[49m\u001b[43m \u001b[49m\u001b[43m(\u001b[49m\u001b[33;43m\"\u001b[39;49m\u001b[33;43menglish\u001b[39;49m\u001b[33;43m\"\u001b[39;49m\u001b[43m,\u001b[49m\u001b[33;43m\"\u001b[39;49m\u001b[33;43momcharvi\u001b[39;49m\u001b[33;43m\"\u001b[39;49m\u001b[43m,\u001b[49m\u001b[32;43m6000\u001b[39;49m\u001b[43m)\u001b[49m\n\u001b[32m      2\u001b[39m pro_course = euron_course(\u001b[33m\"\u001b[39m\u001b[33mjava\u001b[39m\u001b[33m\"\u001b[39m, \u001b[33m\"\u001b[39m\u001b[33mkavita\u001b[39m\u001b[33m\"\u001b[39m, \u001b[32m9800\u001b[39m)\n\u001b[32m      3\u001b[39m pro_course = euron_course (\u001b[33m\"\u001b[39m\u001b[33mbig data\u001b[39m\u001b[33m\"\u001b[39m,\u001b[33m\"\u001b[39m\u001b[33mharshit\u001b[39m\u001b[33m\"\u001b[39m, \u001b[32m8000\u001b[39m)\n",
      "\u001b[31mTypeError\u001b[39m: 'tuple' object is not callable"
     ]
    }
   ],
   "source": [
    "pro_course= euron_course (\"english\",\"omcharvi\",6000)\n",
    "pro_course = euron_course(\"java\", \"kavita\", 9800)\n",
    "pro_course = euron_course (\"big data\",\"harshit\", 8000)"
   ]
  },
  {
   "cell_type": "code",
   "execution_count": null,
   "id": "f24c19de",
   "metadata": {},
   "outputs": [
    {
     "ename": "SyntaxError",
     "evalue": "invalid syntax (1602469946.py, line 8)",
     "output_type": "error",
     "traceback": [
      "  \u001b[36mCell\u001b[39m\u001b[36m \u001b[39m\u001b[32mIn[34]\u001b[39m\u001b[32m, line 8\u001b[39m\n\u001b[31m    \u001b[39m\u001b[31mclass euron_course:|\u001b[39m\n                       ^\n\u001b[31mSyntaxError\u001b[39m\u001b[31m:\u001b[39m invalid syntax\n"
     ]
    }
   ],
   "source": [
    "class euron :\n",
    "\n",
    "     def __init__(self, course_name, course_mentor, course_price):\n",
    "        self.course_name= course_name\n",
    "        self.course_mentor= course_mentor\n",
    "        self.course_price = course_price\n",
    "\n",
    "class euron_course(euron):\n",
    "    \n",
    "    |"
   ]
  },
  {
   "cell_type": "code",
   "execution_count": 2,
   "id": "6e9c0c66",
   "metadata": {},
   "outputs": [
    {
     "ename": "IndentationError",
     "evalue": "expected an indented block after function definition on line 1 (1357154289.py, line 2)",
     "output_type": "error",
     "traceback": [
      "  \u001b[36mCell\u001b[39m\u001b[36m \u001b[39m\u001b[32mIn[2]\u001b[39m\u001b[32m, line 2\u001b[39m\n\u001b[31m    \u001b[39m\u001b[31m@decorator_custome\u001b[39m\n    ^\n\u001b[31mIndentationError\u001b[39m\u001b[31m:\u001b[39m expected an indented block after function definition on line 1\n"
     ]
    }
   ],
   "source": [
    "\n",
    "def decorator_custome (func):\n",
    "@decorator_custome\n",
    "def add(a,b):\n",
    "    c=a+b\n",
    "    return c"
   ]
  },
  {
   "cell_type": "code",
   "execution_count": null,
   "id": "525d1991",
   "metadata": {},
   "outputs": [],
   "source": []
  },
  {
   "cell_type": "code",
   "execution_count": null,
   "id": "f8b8b81d",
   "metadata": {},
   "outputs": [],
   "source": []
  }
 ],
 "metadata": {
  "kernelspec": {
   "display_name": ".venv",
   "language": "python",
   "name": "python3"
  },
  "language_info": {
   "codemirror_mode": {
    "name": "ipython",
    "version": 3
   },
   "file_extension": ".py",
   "mimetype": "text/x-python",
   "name": "python",
   "nbconvert_exporter": "python",
   "pygments_lexer": "ipython3",
   "version": "3.12.4"
  }
 },
 "nbformat": 4,
 "nbformat_minor": 5
}
