{
 "cells": [
  {
   "cell_type": "code",
   "execution_count": 1,
   "id": "d9d9d198",
   "metadata": {},
   "outputs": [
    {
     "name": "stdout",
     "output_type": "stream",
     "text": [
      "my name is chitranjan\n"
     ]
    }
   ],
   "source": [
    "print (\"my name is chitranjan\")"
   ]
  },
  {
   "cell_type": "code",
   "execution_count": 3,
   "id": "7c641b04",
   "metadata": {},
   "outputs": [
    {
     "ename": "TypeError",
     "evalue": "type() takes 1 or 3 arguments",
     "output_type": "error",
     "traceback": [
      "\u001b[31m---------------------------------------------------------------------------\u001b[39m",
      "\u001b[31mTypeError\u001b[39m                                 Traceback (most recent call last)",
      "\u001b[36mCell\u001b[39m\u001b[36m \u001b[39m\u001b[32mIn[3]\u001b[39m\u001b[32m, line 1\u001b[39m\n\u001b[32m----> \u001b[39m\u001b[32m1\u001b[39m \u001b[38;5;28;43mtype\u001b[39;49m\u001b[43m(\u001b[49m\u001b[43m)\u001b[49m\n\u001b[32m      2\u001b[39m \u001b[38;5;28mlen\u001b[39m()\n",
      "\u001b[31mTypeError\u001b[39m: type() takes 1 or 3 arguments"
     ]
    }
   ],
   "source": [
    "type()\n",
    "len()"
   ]
  },
  {
   "cell_type": "code",
   "execution_count": 6,
   "id": "aa03cbb5",
   "metadata": {},
   "outputs": [],
   "source": [
    "def omcharvi():\n",
    "    pass"
   ]
  },
  {
   "cell_type": "code",
   "execution_count": 7,
   "id": "3cef3a60",
   "metadata": {},
   "outputs": [],
   "source": [
    "def omcharvi1():\n",
    "    print(\"print my name\")"
   ]
  },
  {
   "cell_type": "code",
   "execution_count": 9,
   "id": "64aae9c7",
   "metadata": {},
   "outputs": [
    {
     "name": "stdout",
     "output_type": "stream",
     "text": [
      "print my name\n"
     ]
    }
   ],
   "source": [
    "omcharvi1()"
   ]
  },
  {
   "cell_type": "code",
   "execution_count": 16,
   "id": "f90b5068",
   "metadata": {},
   "outputs": [],
   "source": [
    "def omcharvi2(a,b):\n",
    "    print(a,b)"
   ]
  },
  {
   "cell_type": "code",
   "execution_count": 17,
   "id": "c1a250f6",
   "metadata": {},
   "outputs": [],
   "source": [
    "def om1(a,b):\n",
    "    print(a,b)"
   ]
  },
  {
   "cell_type": "code",
   "execution_count": 21,
   "id": "77571e78",
   "metadata": {},
   "outputs": [
    {
     "name": "stdout",
     "output_type": "stream",
     "text": [
      "[2, 3, 4, 5] charvi\n"
     ]
    }
   ],
   "source": [
    "om1([2,3,4,5], \"charvi\",)"
   ]
  },
  {
   "cell_type": "code",
   "execution_count": 23,
   "id": "14edb6ae",
   "metadata": {},
   "outputs": [],
   "source": [
    "def om3(a,b,c,d,f):\n",
    "    print (a,b,c,d,f)"
   ]
  },
  {
   "cell_type": "code",
   "execution_count": 25,
   "id": "1010e022",
   "metadata": {},
   "outputs": [
    {
     "name": "stdout",
     "output_type": "stream",
     "text": [
      "5 6 4 3 4\n"
     ]
    }
   ],
   "source": [
    "om3(5,6,4,3,4)"
   ]
  },
  {
   "cell_type": "code",
   "execution_count": 26,
   "id": "7f75700c",
   "metadata": {},
   "outputs": [],
   "source": [
    "def test4 (a):\n",
    "    print(a)"
   ]
  },
  {
   "cell_type": "code",
   "execution_count": 36,
   "id": "d8a3d8b9",
   "metadata": {},
   "outputs": [
    {
     "name": "stdout",
     "output_type": "stream",
     "text": [
      "5\n"
     ]
    },
    {
     "ename": "TypeError",
     "evalue": "unsupported operand type(s) for +: 'NoneType' and 'int'",
     "output_type": "error",
     "traceback": [
      "\u001b[31m---------------------------------------------------------------------------\u001b[39m",
      "\u001b[31mTypeError\u001b[39m                                 Traceback (most recent call last)",
      "\u001b[36mCell\u001b[39m\u001b[36m \u001b[39m\u001b[32mIn[36]\u001b[39m\u001b[32m, line 1\u001b[39m\n\u001b[32m----> \u001b[39m\u001b[32m1\u001b[39m \u001b[43mtest4\u001b[49m\u001b[43m(\u001b[49m\u001b[32;43m5\u001b[39;49m\u001b[43m)\u001b[49m\u001b[43m \u001b[49m\u001b[43m+\u001b[49m\u001b[32;43m5\u001b[39;49m\n",
      "\u001b[31mTypeError\u001b[39m: unsupported operand type(s) for +: 'NoneType' and 'int'"
     ]
    }
   ],
   "source": [
    "test4(5) +5"
   ]
  },
  {
   "cell_type": "code",
   "execution_count": 31,
   "id": "6b637d12",
   "metadata": {},
   "outputs": [
    {
     "name": "stdout",
     "output_type": "stream",
     "text": [
      "chitranjan\n"
     ]
    },
    {
     "data": {
      "text/plain": [
       "NoneType"
      ]
     },
     "execution_count": 31,
     "metadata": {},
     "output_type": "execute_result"
    }
   ],
   "source": [
    "type(print(\"chitranjan\"))"
   ]
  },
  {
   "cell_type": "code",
   "execution_count": 37,
   "id": "b14d2684",
   "metadata": {},
   "outputs": [],
   "source": [
    "def test4(a,b):\n",
    "    return a+b"
   ]
  },
  {
   "cell_type": "code",
   "execution_count": 40,
   "id": "c2f773b9",
   "metadata": {},
   "outputs": [
    {
     "data": {
      "text/plain": [
       "int"
      ]
     },
     "execution_count": 40,
     "metadata": {},
     "output_type": "execute_result"
    }
   ],
   "source": [
    "type(test4(4,5))"
   ]
  },
  {
   "cell_type": "code",
   "execution_count": 41,
   "id": "795b43ba",
   "metadata": {},
   "outputs": [
    {
     "data": {
      "text/plain": [
       "str"
      ]
     },
     "execution_count": 41,
     "metadata": {},
     "output_type": "execute_result"
    }
   ],
   "source": [
    "type(test4(\"chitranjan om\",\"kumar\"))"
   ]
  },
  {
   "cell_type": "code",
   "execution_count": 52,
   "id": "a1f56457",
   "metadata": {},
   "outputs": [],
   "source": [
    "def test5(*args):\n",
    "    return sum(args)"
   ]
  },
  {
   "cell_type": "code",
   "execution_count": 46,
   "id": "330d7cc6",
   "metadata": {},
   "outputs": [
    {
     "data": {
      "text/plain": [
       "(3,)"
      ]
     },
     "execution_count": 46,
     "metadata": {},
     "output_type": "execute_result"
    }
   ],
   "source": [
    "test5(3)"
   ]
  },
  {
   "cell_type": "code",
   "execution_count": 47,
   "id": "a6795884",
   "metadata": {},
   "outputs": [
    {
     "data": {
      "text/plain": [
       "(5, 6, 6, 7, 8)"
      ]
     },
     "execution_count": 47,
     "metadata": {},
     "output_type": "execute_result"
    }
   ],
   "source": [
    "test5(5,6,6,7,8)"
   ]
  },
  {
   "cell_type": "code",
   "execution_count": 50,
   "id": "b02823e3",
   "metadata": {},
   "outputs": [],
   "source": [
    "def test6(*chit):\n",
    "    return sum (chit)"
   ]
  },
  {
   "cell_type": "code",
   "execution_count": 51,
   "id": "d449f174",
   "metadata": {},
   "outputs": [
    {
     "data": {
      "text/plain": [
       "(5, 6, 6, 7, 8)"
      ]
     },
     "execution_count": 51,
     "metadata": {},
     "output_type": "execute_result"
    }
   ],
   "source": [
    "test5(5,6,6,7,8)"
   ]
  },
  {
   "cell_type": "code",
   "execution_count": 54,
   "id": "9519c024",
   "metadata": {},
   "outputs": [],
   "source": [
    "def test7(*args):\n",
    "    return sum(args)"
   ]
  },
  {
   "cell_type": "code",
   "execution_count": 55,
   "id": "18ad1aba",
   "metadata": {},
   "outputs": [
    {
     "data": {
      "text/plain": [
       "64"
      ]
     },
     "execution_count": 55,
     "metadata": {},
     "output_type": "execute_result"
    }
   ],
   "source": [
    "test7(34,5,6,4,6,3,6)"
   ]
  },
  {
   "cell_type": "code",
   "execution_count": 56,
   "id": "d8fe2f0f",
   "metadata": {},
   "outputs": [],
   "source": [
    "def test8(**kwargs):\n",
    "    return kwargs"
   ]
  },
  {
   "cell_type": "code",
   "execution_count": 60,
   "id": "ead27258",
   "metadata": {},
   "outputs": [
    {
     "data": {
      "text/plain": [
       "{'name': 'chitranjan', 'company': 'pg'}"
      ]
     },
     "execution_count": 60,
     "metadata": {},
     "output_type": "execute_result"
    }
   ],
   "source": [
    "test8(name =\"chitranjan\", company= \"pg\")"
   ]
  },
  {
   "cell_type": "code",
   "execution_count": 63,
   "id": "03f0b7a2",
   "metadata": {},
   "outputs": [],
   "source": [
    "def test9():\n",
    "    return \"chitr\",[55,6,4,4,66],(5,3,6,8,2)"
   ]
  },
  {
   "cell_type": "code",
   "execution_count": 65,
   "id": "c89f540f",
   "metadata": {},
   "outputs": [
    {
     "data": {
      "text/plain": [
       "('chitr', [55, 6, 4, 4, 66], (5, 3, 6, 8, 2))"
      ]
     },
     "execution_count": 65,
     "metadata": {},
     "output_type": "execute_result"
    }
   ],
   "source": [
    "test9()"
   ]
  },
  {
   "cell_type": "code",
   "execution_count": 66,
   "id": "2c057067",
   "metadata": {},
   "outputs": [],
   "source": [
    "a,b,c = test9()"
   ]
  },
  {
   "cell_type": "code",
   "execution_count": 67,
   "id": "9bab6a51",
   "metadata": {},
   "outputs": [
    {
     "data": {
      "text/plain": [
       "[55, 6, 4, 4, 66]"
      ]
     },
     "execution_count": 67,
     "metadata": {},
     "output_type": "execute_result"
    }
   ],
   "source": [
    "b"
   ]
  },
  {
   "cell_type": "code",
   "execution_count": 68,
   "id": "4d3b5e77",
   "metadata": {},
   "outputs": [
    {
     "data": {
      "text/plain": [
       "(5, 3, 6, 8, 2)"
      ]
     },
     "execution_count": 68,
     "metadata": {},
     "output_type": "execute_result"
    }
   ],
   "source": [
    "c"
   ]
  },
  {
   "cell_type": "code",
   "execution_count": 69,
   "id": "631548db",
   "metadata": {},
   "outputs": [
    {
     "data": {
      "text/plain": [
       "'chitr'"
      ]
     },
     "execution_count": 69,
     "metadata": {},
     "output_type": "execute_result"
    }
   ],
   "source": [
    "a"
   ]
  },
  {
   "cell_type": "code",
   "execution_count": 71,
   "id": "79c2b4b2",
   "metadata": {},
   "outputs": [],
   "source": [
    "def test9():\n",
    "    \"\"\"this is my test9 fun created by chitrankumarin python in live class\"\"\"\n",
    "    return 54353"
   ]
  },
  {
   "cell_type": "code",
   "execution_count": null,
   "id": "363b16a1",
   "metadata": {},
   "outputs": [],
   "source": [
    "test9()"
   ]
  },
  {
   "cell_type": "code",
   "execution_count": 72,
   "id": "18500048",
   "metadata": {},
   "outputs": [],
   "source": [
    "def test10(a,b):\n",
    "    return a+b"
   ]
  },
  {
   "cell_type": "code",
   "execution_count": 76,
   "id": "1d2ac9f7",
   "metadata": {},
   "outputs": [],
   "source": [
    "a= lambda a,b:a+b"
   ]
  },
  {
   "cell_type": "code",
   "execution_count": 78,
   "id": "01a212d3",
   "metadata": {},
   "outputs": [
    {
     "data": {
      "text/plain": [
       "13"
      ]
     },
     "execution_count": 78,
     "metadata": {},
     "output_type": "execute_result"
    }
   ],
   "source": [
    "a(6,7)"
   ]
  },
  {
   "cell_type": "code",
   "execution_count": 79,
   "id": "0cffe31a",
   "metadata": {},
   "outputs": [],
   "source": [
    "l=[3,5,4,6,6,4,46,7]"
   ]
  },
  {
   "cell_type": "code",
   "execution_count": 84,
   "id": "da0293f5",
   "metadata": {},
   "outputs": [],
   "source": [
    "l1=[]\n",
    "for i in l:\n",
    "    l1.append(i**2)\n"
   ]
  },
  {
   "cell_type": "code",
   "execution_count": 82,
   "id": "643c1546",
   "metadata": {},
   "outputs": [
    {
     "data": {
      "text/plain": [
       "[9, 25, 16, 36, 36, 16, 2116, 49]"
      ]
     },
     "execution_count": 82,
     "metadata": {},
     "output_type": "execute_result"
    }
   ],
   "source": [
    "l1"
   ]
  },
  {
   "cell_type": "code",
   "execution_count": 88,
   "id": "56d72f1f",
   "metadata": {},
   "outputs": [
    {
     "data": {
      "text/plain": [
       "[9, 25, 16, 36, 36, 16, 2116, 49]"
      ]
     },
     "execution_count": 88,
     "metadata": {},
     "output_type": "execute_result"
    }
   ],
   "source": [
    "list(map(lambda x :x**2, l))"
   ]
  },
  {
   "cell_type": "code",
   "execution_count": 89,
   "id": "0b83205a",
   "metadata": {},
   "outputs": [],
   "source": [
    "def sq(x):\n",
    "    return x**2"
   ]
  },
  {
   "cell_type": "code",
   "execution_count": 91,
   "id": "d84846d8",
   "metadata": {},
   "outputs": [
    {
     "data": {
      "text/plain": [
       "[9, 25, 16, 36, 36, 16, 2116, 49]"
      ]
     },
     "execution_count": 91,
     "metadata": {},
     "output_type": "execute_result"
    }
   ],
   "source": [
    "list(map(sq ,l))"
   ]
  },
  {
   "cell_type": "code",
   "execution_count": 94,
   "id": "86e363e2",
   "metadata": {},
   "outputs": [],
   "source": [
    "l=[34,2,6,3,4,5,63,5,3,5]\n",
    "l1_odd =[]\n",
    "for i in l:\n",
    "    if i %2 !=0:\n",
    "        l1_odd.append(i)"
   ]
  },
  {
   "cell_type": "code",
   "execution_count": 95,
   "id": "a829cc99",
   "metadata": {},
   "outputs": [
    {
     "data": {
      "text/plain": [
       "[3, 5, 63, 5, 3, 5]"
      ]
     },
     "execution_count": 95,
     "metadata": {},
     "output_type": "execute_result"
    }
   ],
   "source": [
    "l1_odd"
   ]
  },
  {
   "cell_type": "code",
   "execution_count": 100,
   "id": "e1ef6faa",
   "metadata": {},
   "outputs": [
    {
     "data": {
      "text/plain": [
       "[3, 5, 63, 5, 3, 5]"
      ]
     },
     "execution_count": 100,
     "metadata": {},
     "output_type": "execute_result"
    }
   ],
   "source": [
    "list(filter(lambda x :x %2 !=0, l))"
   ]
  },
  {
   "cell_type": "code",
   "execution_count": 102,
   "id": "fa88f600",
   "metadata": {},
   "outputs": [],
   "source": [
    "def fil_odd(x):\n",
    "    if x %2 !=0:\n",
    "        return True \n"
   ]
  },
  {
   "cell_type": "code",
   "execution_count": 105,
   "id": "6c5ff4fd",
   "metadata": {},
   "outputs": [],
   "source": [
    "from functools import reduce"
   ]
  },
  {
   "cell_type": "code",
   "execution_count": 107,
   "id": "e96ca7e3",
   "metadata": {},
   "outputs": [],
   "source": [
    "l=[4,5,6,5,6]"
   ]
  },
  {
   "cell_type": "code",
   "execution_count": 108,
   "id": "283b5dd2",
   "metadata": {},
   "outputs": [
    {
     "data": {
      "text/plain": [
       "26"
      ]
     },
     "execution_count": 108,
     "metadata": {},
     "output_type": "execute_result"
    }
   ],
   "source": [
    "sum(l)"
   ]
  },
  {
   "cell_type": "code",
   "execution_count": 110,
   "id": "530870f9",
   "metadata": {},
   "outputs": [
    {
     "data": {
      "text/plain": [
       "26"
      ]
     },
     "execution_count": 110,
     "metadata": {},
     "output_type": "execute_result"
    }
   ],
   "source": [
    "reduce(lambda x,y :x+y, l)"
   ]
  },
  {
   "cell_type": "code",
   "execution_count": 112,
   "id": "c99f6d0e",
   "metadata": {},
   "outputs": [],
   "source": [
    "def fact(n):\n",
    "    if n ==0 or n==1 :\n",
    "        return 1\n",
    "    return n*fact(n-1)"
   ]
  },
  {
   "cell_type": "code",
   "execution_count": 113,
   "id": "7be32547",
   "metadata": {},
   "outputs": [
    {
     "data": {
      "text/plain": [
       "120"
      ]
     },
     "execution_count": 113,
     "metadata": {},
     "output_type": "execute_result"
    }
   ],
   "source": [
    "fact(5)"
   ]
  },
  {
   "cell_type": "code",
   "execution_count": 114,
   "id": "090d7954",
   "metadata": {},
   "outputs": [
    {
     "ename": "SyntaxError",
     "evalue": "invalid decimal literal (4254667338.py, line 1)",
     "output_type": "error",
     "traceback": [
      "  \u001b[36mCell\u001b[39m\u001b[36m \u001b[39m\u001b[32mIn[114]\u001b[39m\u001b[32m, line 1\u001b[39m\n\u001b[31m    \u001b[39m\u001b[31ms=\"fjoeij\"26_may_intro_loopfunction.ipynb\u001b[39m\n                ^\n\u001b[31mSyntaxError\u001b[39m\u001b[31m:\u001b[39m invalid decimal literal\n"
     ]
    }
   ],
   "source": [
    "s=\"fjoeij\"26_may_intro_loopfunction.ipynb"
   ]
  },
  {
   "cell_type": "code",
   "execution_count": 115,
   "id": "b6a0d12a",
   "metadata": {},
   "outputs": [],
   "source": [
    "s=\"hello ji\""
   ]
  },
  {
   "cell_type": "code",
   "execution_count": 116,
   "id": "6f624aa7",
   "metadata": {},
   "outputs": [
    {
     "data": {
      "text/plain": [
       "'ij olleh'"
      ]
     },
     "execution_count": 116,
     "metadata": {},
     "output_type": "execute_result"
    }
   ],
   "source": [
    "s[: :-1]"
   ]
  },
  {
   "cell_type": "code",
   "execution_count": 117,
   "id": "e98d86e0",
   "metadata": {},
   "outputs": [],
   "source": [
    "def string_rev(s):\n",
    "    if len(s)==0:\n",
    "        return \"\"\n",
    "    return s[-1]+string_rev(s[:-1])"
   ]
  },
  {
   "cell_type": "code",
   "execution_count": 119,
   "id": "2ca58def",
   "metadata": {},
   "outputs": [
    {
     "data": {
      "text/plain": [
       "'doohrehtom'"
      ]
     },
     "execution_count": 119,
     "metadata": {},
     "output_type": "execute_result"
    }
   ],
   "source": [
    "string_rev(\"motherhood\")"
   ]
  },
  {
   "cell_type": "code",
   "execution_count": null,
   "id": "a883ae2f",
   "metadata": {},
   "outputs": [],
   "source": []
  }
 ],
 "metadata": {
  "kernelspec": {
   "display_name": ".venv",
   "language": "python",
   "name": "python3"
  },
  "language_info": {
   "codemirror_mode": {
    "name": "ipython",
    "version": 3
   },
   "file_extension": ".py",
   "mimetype": "text/x-python",
   "name": "python",
   "nbconvert_exporter": "python",
   "pygments_lexer": "ipython3",
   "version": "3.12.4"
  }
 },
 "nbformat": 4,
 "nbformat_minor": 5
}
