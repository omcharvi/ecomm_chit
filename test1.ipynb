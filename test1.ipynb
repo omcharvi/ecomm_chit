{
 "cells": [
  {
   "cell_type": "code",
   "execution_count": 444,
   "id": "f8ba347a",
   "metadata": {},
   "outputs": [
    {
     "data": {
      "text/plain": [
       "2"
      ]
     },
     "execution_count": 444,
     "metadata": {},
     "output_type": "execute_result"
    }
   ],
   "source": [
    "1+1"
   ]
  },
  {
   "cell_type": "code",
   "execution_count": 445,
   "id": "9d26819d",
   "metadata": {},
   "outputs": [],
   "source": [
    "a=\"sudh\""
   ]
  },
  {
   "cell_type": "code",
   "execution_count": 446,
   "id": "f5c5a009",
   "metadata": {},
   "outputs": [
    {
     "data": {
      "text/plain": [
       "'sudh'"
      ]
     },
     "execution_count": 446,
     "metadata": {},
     "output_type": "execute_result"
    }
   ],
   "source": [
    "a"
   ]
  },
  {
   "cell_type": "code",
   "execution_count": 447,
   "id": "f3da8e42",
   "metadata": {},
   "outputs": [
    {
     "data": {
      "text/plain": [
       "str"
      ]
     },
     "execution_count": 447,
     "metadata": {},
     "output_type": "execute_result"
    }
   ],
   "source": [
    "type(a)"
   ]
  },
  {
   "cell_type": "code",
   "execution_count": 448,
   "id": "18232554",
   "metadata": {},
   "outputs": [],
   "source": [
    "b=\"5\""
   ]
  },
  {
   "cell_type": "code",
   "execution_count": 449,
   "id": "7bad5432",
   "metadata": {},
   "outputs": [
    {
     "data": {
      "text/plain": [
       "str"
      ]
     },
     "execution_count": 449,
     "metadata": {},
     "output_type": "execute_result"
    }
   ],
   "source": [
    "type(b)"
   ]
  },
  {
   "cell_type": "code",
   "execution_count": 450,
   "id": "5bfdb377",
   "metadata": {},
   "outputs": [],
   "source": [
    "b=5"
   ]
  },
  {
   "cell_type": "code",
   "execution_count": 451,
   "id": "8f6bb5bd",
   "metadata": {},
   "outputs": [
    {
     "data": {
      "text/plain": [
       "int"
      ]
     },
     "execution_count": 451,
     "metadata": {},
     "output_type": "execute_result"
    }
   ],
   "source": [
    "type(b)"
   ]
  },
  {
   "cell_type": "code",
   "execution_count": 452,
   "id": "4e309c2c",
   "metadata": {},
   "outputs": [],
   "source": [
    "c=45.67"
   ]
  },
  {
   "cell_type": "code",
   "execution_count": 453,
   "id": "f9284cff",
   "metadata": {},
   "outputs": [
    {
     "data": {
      "text/plain": [
       "float"
      ]
     },
     "execution_count": 453,
     "metadata": {},
     "output_type": "execute_result"
    }
   ],
   "source": [
    "type(c)"
   ]
  },
  {
   "cell_type": "code",
   "execution_count": 454,
   "id": "e7cdd343",
   "metadata": {},
   "outputs": [],
   "source": [
    "e=\"\"\"nhfnsdcoef\"\"\""
   ]
  },
  {
   "cell_type": "code",
   "execution_count": 455,
   "id": "d9918358",
   "metadata": {},
   "outputs": [
    {
     "data": {
      "text/plain": [
       "str"
      ]
     },
     "execution_count": 455,
     "metadata": {},
     "output_type": "execute_result"
    }
   ],
   "source": [
    "type(e)"
   ]
  },
  {
   "cell_type": "code",
   "execution_count": 456,
   "id": "8b32e8f8",
   "metadata": {},
   "outputs": [],
   "source": [
    "e=''''lskhdfnosn'''"
   ]
  },
  {
   "cell_type": "code",
   "execution_count": 457,
   "id": "dc71cc6f",
   "metadata": {},
   "outputs": [
    {
     "data": {
      "text/plain": [
       "str"
      ]
     },
     "execution_count": 457,
     "metadata": {},
     "output_type": "execute_result"
    }
   ],
   "source": [
    "type(e)"
   ]
  },
  {
   "cell_type": "code",
   "execution_count": 458,
   "id": "edc7d112",
   "metadata": {},
   "outputs": [],
   "source": [
    "s=True"
   ]
  },
  {
   "cell_type": "code",
   "execution_count": 459,
   "id": "b4507321",
   "metadata": {},
   "outputs": [
    {
     "data": {
      "text/plain": [
       "bool"
      ]
     },
     "execution_count": 459,
     "metadata": {},
     "output_type": "execute_result"
    }
   ],
   "source": [
    "type(s)"
   ]
  },
  {
   "cell_type": "code",
   "execution_count": 460,
   "id": "ff93154d",
   "metadata": {},
   "outputs": [],
   "source": [
    "g=False"
   ]
  },
  {
   "cell_type": "code",
   "execution_count": 461,
   "id": "9b138de1",
   "metadata": {},
   "outputs": [
    {
     "data": {
      "text/plain": [
       "bool"
      ]
     },
     "execution_count": 461,
     "metadata": {},
     "output_type": "execute_result"
    }
   ],
   "source": [
    "type(g)"
   ]
  },
  {
   "cell_type": "code",
   "execution_count": 462,
   "id": "87092cd6",
   "metadata": {},
   "outputs": [
    {
     "data": {
      "text/plain": [
       "1"
      ]
     },
     "execution_count": 462,
     "metadata": {},
     "output_type": "execute_result"
    }
   ],
   "source": [
    "True*True"
   ]
  },
  {
   "cell_type": "code",
   "execution_count": 463,
   "id": "8710b34e",
   "metadata": {},
   "outputs": [],
   "source": [
    "b=4+8j"
   ]
  },
  {
   "cell_type": "code",
   "execution_count": 464,
   "id": "b590afec",
   "metadata": {},
   "outputs": [],
   "source": [
    "b=5+7j"
   ]
  },
  {
   "cell_type": "code",
   "execution_count": 465,
   "id": "47871a98",
   "metadata": {},
   "outputs": [],
   "source": [
    "b=4+8j"
   ]
  },
  {
   "cell_type": "code",
   "execution_count": 466,
   "id": "b3d84cc7",
   "metadata": {},
   "outputs": [
    {
     "data": {
      "text/plain": [
       "complex"
      ]
     },
     "execution_count": 466,
     "metadata": {},
     "output_type": "execute_result"
    }
   ],
   "source": [
    "type(b)"
   ]
  },
  {
   "cell_type": "code",
   "execution_count": 467,
   "id": "7057e6b1",
   "metadata": {},
   "outputs": [
    {
     "data": {
      "text/plain": [
       "(4+8j)"
      ]
     },
     "execution_count": 467,
     "metadata": {},
     "output_type": "execute_result"
    }
   ],
   "source": [
    "b"
   ]
  },
  {
   "cell_type": "code",
   "execution_count": 468,
   "id": "24c7c424",
   "metadata": {},
   "outputs": [
    {
     "data": {
      "text/plain": [
       "4.0"
      ]
     },
     "execution_count": 468,
     "metadata": {},
     "output_type": "execute_result"
    }
   ],
   "source": [
    "b.real"
   ]
  },
  {
   "cell_type": "code",
   "execution_count": 469,
   "id": "696edc0f",
   "metadata": {},
   "outputs": [
    {
     "data": {
      "text/plain": [
       "8.0"
      ]
     },
     "execution_count": 469,
     "metadata": {},
     "output_type": "execute_result"
    }
   ],
   "source": [
    "b.imag"
   ]
  },
  {
   "cell_type": "code",
   "execution_count": 470,
   "id": "d562f624",
   "metadata": {},
   "outputs": [],
   "source": [
    "c=[]"
   ]
  },
  {
   "cell_type": "code",
   "execution_count": 471,
   "id": "3a4d84b5",
   "metadata": {},
   "outputs": [],
   "source": [
    "c=[]"
   ]
  },
  {
   "cell_type": "code",
   "execution_count": 472,
   "id": "f99395d9",
   "metadata": {},
   "outputs": [
    {
     "data": {
      "text/plain": [
       "list"
      ]
     },
     "execution_count": 472,
     "metadata": {},
     "output_type": "execute_result"
    }
   ],
   "source": [
    "type(c)"
   ]
  },
  {
   "cell_type": "code",
   "execution_count": 473,
   "id": "05e68b83",
   "metadata": {},
   "outputs": [],
   "source": [
    "c=[1,2,3,4,5,6,7,8,9,0]"
   ]
  },
  {
   "cell_type": "code",
   "execution_count": 474,
   "id": "adf11d52",
   "metadata": {},
   "outputs": [
    {
     "data": {
      "text/plain": [
       "list"
      ]
     },
     "execution_count": 474,
     "metadata": {},
     "output_type": "execute_result"
    }
   ],
   "source": [
    "type(c)"
   ]
  },
  {
   "cell_type": "code",
   "execution_count": 475,
   "id": "b0657f01",
   "metadata": {},
   "outputs": [],
   "source": [
    "m=[675,89,2,78.56,8+7j]"
   ]
  },
  {
   "cell_type": "code",
   "execution_count": 476,
   "id": "2a7862ac",
   "metadata": {},
   "outputs": [
    {
     "data": {
      "text/plain": [
       "list"
      ]
     },
     "execution_count": 476,
     "metadata": {},
     "output_type": "execute_result"
    }
   ],
   "source": [
    "type(m)"
   ]
  },
  {
   "cell_type": "code",
   "execution_count": 477,
   "id": "7edc8a12",
   "metadata": {},
   "outputs": [],
   "source": [
    "n=()"
   ]
  },
  {
   "cell_type": "code",
   "execution_count": 480,
   "id": "2409548e",
   "metadata": {},
   "outputs": [
    {
     "data": {
      "text/plain": [
       "tuple"
      ]
     },
     "execution_count": 480,
     "metadata": {},
     "output_type": "execute_result"
    }
   ],
   "source": [
    "type(n)"
   ]
  },
  {
   "cell_type": "code",
   "execution_count": 481,
   "id": "9f05d94c",
   "metadata": {},
   "outputs": [],
   "source": [
    "n=(2,3,4,5,6,77)"
   ]
  },
  {
   "cell_type": "code",
   "execution_count": 482,
   "id": "656b514d",
   "metadata": {},
   "outputs": [
    {
     "data": {
      "text/plain": [
       "tuple"
      ]
     },
     "execution_count": 482,
     "metadata": {},
     "output_type": "execute_result"
    }
   ],
   "source": [
    "type(n)"
   ]
  },
  {
   "cell_type": "code",
   "execution_count": 484,
   "id": "3e121774",
   "metadata": {},
   "outputs": [],
   "source": [
    "b1=(23,45,345,67.69)"
   ]
  },
  {
   "cell_type": "code",
   "execution_count": 485,
   "id": "ccfdb878",
   "metadata": {},
   "outputs": [
    {
     "data": {
      "text/plain": [
       "tuple"
      ]
     },
     "execution_count": 485,
     "metadata": {},
     "output_type": "execute_result"
    }
   ],
   "source": [
    "type(b1)"
   ]
  },
  {
   "cell_type": "code",
   "execution_count": 486,
   "id": "d1854562",
   "metadata": {},
   "outputs": [],
   "source": [
    "d={}"
   ]
  },
  {
   "cell_type": "code",
   "execution_count": 487,
   "id": "065a420c",
   "metadata": {},
   "outputs": [
    {
     "data": {
      "text/plain": [
       "dict"
      ]
     },
     "execution_count": 487,
     "metadata": {},
     "output_type": "execute_result"
    }
   ],
   "source": [
    "type(d)"
   ]
  },
  {
   "cell_type": "code",
   "execution_count": 488,
   "id": "ef3aa47c",
   "metadata": {},
   "outputs": [],
   "source": [
    "d1={3,4,5,6,7}"
   ]
  },
  {
   "cell_type": "code",
   "execution_count": 489,
   "id": "983a2319",
   "metadata": {},
   "outputs": [
    {
     "data": {
      "text/plain": [
       "set"
      ]
     },
     "execution_count": 489,
     "metadata": {},
     "output_type": "execute_result"
    }
   ],
   "source": [
    "type(d1)"
   ]
  },
  {
   "cell_type": "code",
   "execution_count": null,
   "id": "2f2d2c8d",
   "metadata": {},
   "outputs": [],
   "source": [
    "s = \"sudhanshu\"\n",
    "l = [4,5,6,7,88,98,9,0,0,0]\n",
    "Access the first, middle, and last element of a list using indexing.\n",
    "Reverse a list using slicing.\n",
    "Write a program to extract every alternate element from a list.\n",
    "Replace the 2nd and 4th elements of a list with new values.\n",
    "Slice a list to create a sublist containing only the last 3 elements.\n",
    "Write a program to remove the element at the 5th index of a list using slicing and concatenation.\n",
    "Create a new list that contains only the elements at odd indices of an existing list.\n",
    "Split a list into two halves using slicing.\n",
    "Concatenate two lists using slicing and addition.\n",
    "Replace a specific range of indices in a list with a new sublist."
   ]
  },
  {
   "cell_type": "code",
   "execution_count": 1,
   "id": "74345b13",
   "metadata": {},
   "outputs": [
    {
     "ename": "NameError",
     "evalue": "name 'l' is not defined",
     "output_type": "error",
     "traceback": [
      "\u001b[31m---------------------------------------------------------------------------\u001b[39m",
      "\u001b[31mNameError\u001b[39m                                 Traceback (most recent call last)",
      "\u001b[36mCell\u001b[39m\u001b[36m \u001b[39m\u001b[32mIn[1]\u001b[39m\u001b[32m, line 1\u001b[39m\n\u001b[32m----> \u001b[39m\u001b[32m1\u001b[39m \u001b[43ml\u001b[49m\n",
      "\u001b[31mNameError\u001b[39m: name 'l' is not defined"
     ]
    }
   ],
   "source": [
    "l"
   ]
  },
  {
   "cell_type": "code",
   "execution_count": 2,
   "id": "f0b18fbb",
   "metadata": {},
   "outputs": [],
   "source": [
    "l = [4,5,6,7,88,98,9,0,0,0]"
   ]
  },
  {
   "cell_type": "code",
   "execution_count": 3,
   "id": "5ec4ed0f",
   "metadata": {},
   "outputs": [
    {
     "data": {
      "text/plain": [
       "[4, 5, 6, 7, 88, 98, 9, 0, 0, 0]"
      ]
     },
     "execution_count": 3,
     "metadata": {},
     "output_type": "execute_result"
    }
   ],
   "source": [
    "l"
   ]
  },
  {
   "cell_type": "code",
   "execution_count": 5,
   "id": "d3de3c02",
   "metadata": {},
   "outputs": [
    {
     "data": {
      "text/plain": [
       "4"
      ]
     },
     "execution_count": 5,
     "metadata": {},
     "output_type": "execute_result"
    }
   ],
   "source": [
    "l[0]"
   ]
  },
  {
   "cell_type": "code",
   "execution_count": 6,
   "id": "9d8bbeb3",
   "metadata": {},
   "outputs": [
    {
     "data": {
      "text/plain": [
       "98"
      ]
     },
     "execution_count": 6,
     "metadata": {},
     "output_type": "execute_result"
    }
   ],
   "source": [
    "l[5]"
   ]
  },
  {
   "cell_type": "code",
   "execution_count": 7,
   "id": "01f9a59e",
   "metadata": {},
   "outputs": [
    {
     "data": {
      "text/plain": [
       "0"
      ]
     },
     "execution_count": 7,
     "metadata": {},
     "output_type": "execute_result"
    }
   ],
   "source": [
    "l[9]"
   ]
  },
  {
   "cell_type": "code",
   "execution_count": 8,
   "id": "c08e1970",
   "metadata": {},
   "outputs": [
    {
     "data": {
      "text/plain": [
       "[4, 5, 6, 7, 88, 98, 9, 0, 0, 0]"
      ]
     },
     "execution_count": 8,
     "metadata": {},
     "output_type": "execute_result"
    }
   ],
   "source": [
    "l"
   ]
  },
  {
   "cell_type": "code",
   "execution_count": 9,
   "id": "d11b620c",
   "metadata": {},
   "outputs": [
    {
     "data": {
      "text/plain": [
       "[0, 0, 0, 9, 98, 88, 7, 6, 5, 4]"
      ]
     },
     "execution_count": 9,
     "metadata": {},
     "output_type": "execute_result"
    }
   ],
   "source": [
    "l[: : -1]"
   ]
  },
  {
   "cell_type": "code",
   "execution_count": 10,
   "id": "357d5167",
   "metadata": {},
   "outputs": [
    {
     "data": {
      "text/plain": [
       "[4, 5, 6, 7, 88, 98, 9, 0, 0, 0]"
      ]
     },
     "execution_count": 10,
     "metadata": {},
     "output_type": "execute_result"
    }
   ],
   "source": [
    "l"
   ]
  },
  {
   "cell_type": "code",
   "execution_count": 15,
   "id": "b7168a5e",
   "metadata": {},
   "outputs": [
    {
     "data": {
      "text/plain": [
       "[4, 5, 6, 7, 88, 98, 9, 0, 0, 0]"
      ]
     },
     "execution_count": 15,
     "metadata": {},
     "output_type": "execute_result"
    }
   ],
   "source": [
    "l[0: ]"
   ]
  },
  {
   "cell_type": "code",
   "execution_count": 17,
   "id": "42f06ca3",
   "metadata": {},
   "outputs": [
    {
     "data": {
      "text/plain": [
       "[4, 6, 88, 9, 0]"
      ]
     },
     "execution_count": 17,
     "metadata": {},
     "output_type": "execute_result"
    }
   ],
   "source": [
    "l[0:9] [: :2]"
   ]
  },
  {
   "cell_type": "code",
   "execution_count": 18,
   "id": "79bdfdeb",
   "metadata": {},
   "outputs": [
    {
     "data": {
      "text/plain": [
       "[4, 5, 6, 7, 88, 98, 9, 0, 0, 0]"
      ]
     },
     "execution_count": 18,
     "metadata": {},
     "output_type": "execute_result"
    }
   ],
   "source": [
    "l"
   ]
  },
  {
   "cell_type": "code",
   "execution_count": 20,
   "id": "7793485b",
   "metadata": {},
   "outputs": [],
   "source": [
    "l[1]=\"love\""
   ]
  },
  {
   "cell_type": "code",
   "execution_count": 21,
   "id": "4f77df16",
   "metadata": {},
   "outputs": [
    {
     "data": {
      "text/plain": [
       "[4, 'love', 6, 7, 88, 98, 9, 0, 0, 0]"
      ]
     },
     "execution_count": 21,
     "metadata": {},
     "output_type": "execute_result"
    }
   ],
   "source": [
    "l"
   ]
  },
  {
   "cell_type": "code",
   "execution_count": 22,
   "id": "3e20285c",
   "metadata": {},
   "outputs": [],
   "source": [
    "l[3]=\"om\""
   ]
  },
  {
   "cell_type": "code",
   "execution_count": 23,
   "id": "04837ebd",
   "metadata": {},
   "outputs": [
    {
     "data": {
      "text/plain": [
       "[4, 'love', 6, 'om', 88, 98, 9, 0, 0, 0]"
      ]
     },
     "execution_count": 23,
     "metadata": {},
     "output_type": "execute_result"
    }
   ],
   "source": [
    "l"
   ]
  },
  {
   "cell_type": "code",
   "execution_count": 25,
   "id": "0309b00c",
   "metadata": {},
   "outputs": [
    {
     "data": {
      "text/plain": [
       "[0, 0, 0]"
      ]
     },
     "execution_count": 25,
     "metadata": {},
     "output_type": "execute_result"
    }
   ],
   "source": [
    "l[7: ]"
   ]
  },
  {
   "cell_type": "code",
   "execution_count": 27,
   "id": "ca065aa9",
   "metadata": {},
   "outputs": [],
   "source": [
    "l=[4, 5, 6, 7, 88, 98, 9, 0, 0, 0]"
   ]
  },
  {
   "cell_type": "code",
   "execution_count": 28,
   "id": "d5ad3711",
   "metadata": {},
   "outputs": [
    {
     "data": {
      "text/plain": [
       "[4, 5, 6, 7, 88]"
      ]
     },
     "execution_count": 28,
     "metadata": {},
     "output_type": "execute_result"
    }
   ],
   "source": [
    "l[0:5]"
   ]
  },
  {
   "cell_type": "code",
   "execution_count": 29,
   "id": "20fc90ec",
   "metadata": {},
   "outputs": [
    {
     "data": {
      "text/plain": [
       "[9, 0, 0, 0]"
      ]
     },
     "execution_count": 29,
     "metadata": {},
     "output_type": "execute_result"
    }
   ],
   "source": [
    "l[6: ]"
   ]
  },
  {
   "cell_type": "code",
   "execution_count": 30,
   "id": "bb0e660d",
   "metadata": {},
   "outputs": [
    {
     "data": {
      "text/plain": [
       "[]"
      ]
     },
     "execution_count": 30,
     "metadata": {},
     "output_type": "execute_result"
    }
   ],
   "source": [
    "l[0:5][6: ]"
   ]
  },
  {
   "cell_type": "code",
   "execution_count": 31,
   "id": "ae7f75e4",
   "metadata": {},
   "outputs": [
    {
     "data": {
      "text/plain": [
       "[4, 5, 6, 7, 88, 98, 9, 0, 0, 0]"
      ]
     },
     "execution_count": 31,
     "metadata": {},
     "output_type": "execute_result"
    }
   ],
   "source": [
    "l"
   ]
  },
  {
   "cell_type": "code",
   "execution_count": 36,
   "id": "5483b132",
   "metadata": {},
   "outputs": [
    {
     "data": {
      "text/plain": [
       "[4, 5, 6, 7, 88, 9, 0, 0, 0]"
      ]
     },
     "execution_count": 36,
     "metadata": {},
     "output_type": "execute_result"
    }
   ],
   "source": [
    "l[: 5]+l[6: ]"
   ]
  },
  {
   "cell_type": "code",
   "execution_count": 37,
   "id": "f49e4514",
   "metadata": {},
   "outputs": [],
   "source": [
    "l=[4, 5, 6, 7, 88, 98, 9, 0, 0, 0]"
   ]
  },
  {
   "cell_type": "code",
   "execution_count": 38,
   "id": "e67c8e68",
   "metadata": {},
   "outputs": [
    {
     "data": {
      "text/plain": [
       "[4, 6, 88, 9, 0]"
      ]
     },
     "execution_count": 38,
     "metadata": {},
     "output_type": "execute_result"
    }
   ],
   "source": [
    "l[: :2]"
   ]
  },
  {
   "cell_type": "code",
   "execution_count": 39,
   "id": "ad2f97ab",
   "metadata": {},
   "outputs": [
    {
     "data": {
      "text/plain": [
       "[4, 5, 6, 7, 88, 98, 9, 0, 0, 0]"
      ]
     },
     "execution_count": 39,
     "metadata": {},
     "output_type": "execute_result"
    }
   ],
   "source": [
    "l"
   ]
  },
  {
   "cell_type": "code",
   "execution_count": 42,
   "id": "a5b728b4",
   "metadata": {},
   "outputs": [
    {
     "data": {
      "text/plain": [
       "([4, 5, 6, 7, 88], [9, 0, 0, 0])"
      ]
     },
     "execution_count": 42,
     "metadata": {},
     "output_type": "execute_result"
    }
   ],
   "source": [
    "l[0:5], l[6: ]"
   ]
  },
  {
   "cell_type": "code",
   "execution_count": 43,
   "id": "4008157b",
   "metadata": {},
   "outputs": [
    {
     "data": {
      "text/plain": [
       "[4, 5, 6, 7, 88, 98, 9, 0, 0, 0]"
      ]
     },
     "execution_count": 43,
     "metadata": {},
     "output_type": "execute_result"
    }
   ],
   "source": [
    "l"
   ]
  },
  {
   "cell_type": "code",
   "execution_count": 46,
   "id": "22eb1956",
   "metadata": {},
   "outputs": [
    {
     "data": {
      "text/plain": [
       "[4, 5, 6, 7, 88]"
      ]
     },
     "execution_count": 46,
     "metadata": {},
     "output_type": "execute_result"
    }
   ],
   "source": [
    "l[0:5]\n"
   ]
  },
  {
   "cell_type": "code",
   "execution_count": 47,
   "id": "1244417a",
   "metadata": {},
   "outputs": [
    {
     "data": {
      "text/plain": [
       "[9, 0, 0, 0]"
      ]
     },
     "execution_count": 47,
     "metadata": {},
     "output_type": "execute_result"
    }
   ],
   "source": [
    "l[6: ]"
   ]
  },
  {
   "cell_type": "code",
   "execution_count": 48,
   "id": "4ad90a86",
   "metadata": {},
   "outputs": [
    {
     "data": {
      "text/plain": [
       "[4, 5, 6, 7, 88, 9, 0, 0, 0]"
      ]
     },
     "execution_count": 48,
     "metadata": {},
     "output_type": "execute_result"
    }
   ],
   "source": [
    "l[0:5]+l[6: ]"
   ]
  },
  {
   "cell_type": "code",
   "execution_count": 49,
   "id": "e84c8c81",
   "metadata": {},
   "outputs": [
    {
     "data": {
      "text/plain": [
       "[4, 5, 6, 7, 88, 98, 9, 0, 0, 0]"
      ]
     },
     "execution_count": 49,
     "metadata": {},
     "output_type": "execute_result"
    }
   ],
   "source": [
    "l"
   ]
  },
  {
   "cell_type": "code",
   "execution_count": 50,
   "id": "f2376b84",
   "metadata": {},
   "outputs": [
    {
     "data": {
      "text/plain": [
       "[6, 7, 88]"
      ]
     },
     "execution_count": 50,
     "metadata": {},
     "output_type": "execute_result"
    }
   ],
   "source": [
    "l[2:5]"
   ]
  },
  {
   "cell_type": "code",
   "execution_count": 51,
   "id": "e41fbb85",
   "metadata": {},
   "outputs": [],
   "source": [
    "l2=[78,65,900]"
   ]
  },
  {
   "cell_type": "code",
   "execution_count": 59,
   "id": "9cdc6dc1",
   "metadata": {},
   "outputs": [],
   "source": [
    "l[2:5]=l2"
   ]
  },
  {
   "cell_type": "code",
   "execution_count": 60,
   "id": "ceebe143",
   "metadata": {},
   "outputs": [
    {
     "data": {
      "text/plain": [
       "[78, 65, 78, 65, 900, 7, 88, 98, 9, 0, 0, 0]"
      ]
     },
     "execution_count": 60,
     "metadata": {},
     "output_type": "execute_result"
    }
   ],
   "source": [
    "l"
   ]
  },
  {
   "cell_type": "code",
   "execution_count": 62,
   "id": "1a77c1c2",
   "metadata": {},
   "outputs": [],
   "source": [
    "l=[4, 5, 6, 7, 88, 98, 9, 0, 0, 0]"
   ]
  },
  {
   "cell_type": "code",
   "execution_count": 63,
   "id": "9e8b2c2b",
   "metadata": {},
   "outputs": [
    {
     "data": {
      "text/plain": [
       "[4, 5, 6, 7, 88, 98, 9, 0, 0, 0]"
      ]
     },
     "execution_count": 63,
     "metadata": {},
     "output_type": "execute_result"
    }
   ],
   "source": [
    "l"
   ]
  },
  {
   "cell_type": "code",
   "execution_count": 65,
   "id": "77bb93f6",
   "metadata": {},
   "outputs": [
    {
     "data": {
      "text/plain": [
       "[6, 7, 88]"
      ]
     },
     "execution_count": 65,
     "metadata": {},
     "output_type": "execute_result"
    }
   ],
   "source": [
    "l[2:5]"
   ]
  },
  {
   "cell_type": "code",
   "execution_count": 67,
   "id": "9094f655",
   "metadata": {},
   "outputs": [],
   "source": [
    "l2=[34,34,34]"
   ]
  },
  {
   "cell_type": "code",
   "execution_count": 68,
   "id": "79edf2ba",
   "metadata": {},
   "outputs": [
    {
     "data": {
      "text/plain": [
       "[34, 34, 34]"
      ]
     },
     "execution_count": 68,
     "metadata": {},
     "output_type": "execute_result"
    }
   ],
   "source": [
    "l2"
   ]
  },
  {
   "cell_type": "code",
   "execution_count": 70,
   "id": "d75e2213",
   "metadata": {},
   "outputs": [],
   "source": [
    "l[2:5]=l2"
   ]
  },
  {
   "cell_type": "code",
   "execution_count": 71,
   "id": "e6ea1fc6",
   "metadata": {},
   "outputs": [
    {
     "data": {
      "text/plain": [
       "[4, 5, 34, 34, 34, 98, 9, 0, 0, 0]"
      ]
     },
     "execution_count": 71,
     "metadata": {},
     "output_type": "execute_result"
    }
   ],
   "source": [
    "l"
   ]
  },
  {
   "cell_type": "code",
   "execution_count": 10,
   "id": "221df0db",
   "metadata": {},
   "outputs": [
    {
     "name": "stdout",
     "output_type": "stream",
     "text": [
      "positive\n"
     ]
    }
   ],
   "source": [
    "num = int(input(\"enter the number\"))\n",
    "if num > 0:\n",
    "    print (\"positive\")\n",
    "elif num < 0:\n",
    "    print(\"negative\")\n",
    "else :\n",
    "    print(\"equal\")"
   ]
  },
  {
   "cell_type": "code",
   "execution_count": 14,
   "id": "38e9885c",
   "metadata": {},
   "outputs": [
    {
     "name": "stdout",
     "output_type": "stream",
     "text": [
      "2024 enter number is leap year\n"
     ]
    }
   ],
   "source": [
    "num = int(input(\"wite the number\"))\n",
    "if num % 4 == 0:\n",
    "    print(num, \"enter number is leap year\")\n",
    "else :\n",
    "    print (num,\"not leap year\")"
   ]
  },
  {
   "cell_type": "code",
   "execution_count": 17,
   "id": "b6fcee46",
   "metadata": {},
   "outputs": [
    {
     "name": "stdout",
     "output_type": "stream",
     "text": [
      "6 this is even number\n"
     ]
    }
   ],
   "source": [
    "num=int(input(\"put number\"))\n",
    "if num % 2== 0:\n",
    "    print(num, \"this is even number\")\n",
    "else :\n",
    "    print(num, \"this is odd number\")"
   ]
  },
  {
   "cell_type": "code",
   "execution_count": 27,
   "id": "5b50c810",
   "metadata": {},
   "outputs": [
    {
     "ename": "NameError",
     "evalue": "name 'Print' is not defined",
     "output_type": "error",
     "traceback": [
      "\u001b[31m---------------------------------------------------------------------------\u001b[39m",
      "\u001b[31mNameError\u001b[39m                                 Traceback (most recent call last)",
      "\u001b[36mCell\u001b[39m\u001b[36m \u001b[39m\u001b[32mIn[27]\u001b[39m\u001b[32m, line 14\u001b[39m\n\u001b[32m     12\u001b[39m     \u001b[38;5;28mprint\u001b[39m(\u001b[33m\"\u001b[39m\u001b[33mthis is vowel\u001b[39m\u001b[33m\"\u001b[39m)\n\u001b[32m     13\u001b[39m \u001b[38;5;28;01melse\u001b[39;00m:\n\u001b[32m---> \u001b[39m\u001b[32m14\u001b[39m     \u001b[43mPrint\u001b[49m (vowel, \u001b[33m\"\u001b[39m\u001b[33m this is contant\u001b[39m\u001b[33m\"\u001b[39m)\n",
      "\u001b[31mNameError\u001b[39m: name 'Print' is not defined"
     ]
    }
   ],
   "source": [
    "vowel =input(\"write character\")\n",
    "\n",
    "if vowel == \"a\":\n",
    "    print(\"this is vowel\")\n",
    "elif vowel == \"e\":\n",
    "    print('this is vowel')\n",
    "elif vowel == \"i\":\n",
    "    print(\"this is vowel\")\n",
    "elif vowel == \"o\" :\n",
    "    print(\"this is vowel\")\n",
    "elif vowel == \"u\" :\n",
    "    print(\"this is vowel\")\n",
    "else:\n",
    "    Print (vowel, \" this is contant\")"
   ]
  },
  {
   "cell_type": "code",
   "execution_count": 34,
   "id": "a4a0c488",
   "metadata": {},
   "outputs": [
    {
     "name": "stdout",
     "output_type": "stream",
     "text": [
      "this is vowel\n"
     ]
    }
   ],
   "source": [
    "ch=input(\"inter charater\")\n",
    "if (ch=='A' or ch=='a'or ch=='E' or ch=='e' or ch=='I' or ch=='i' or ch=='O' or ch=='o' or ch=='U' or ch=='u' ):\n",
    "   print(\"this is vowel\")\n",
    "else:\n",
    "   print (ch, \"this is contant\")"
   ]
  },
  {
   "cell_type": "code",
   "execution_count": null,
   "id": "f050e94b",
   "metadata": {},
   "outputs": [],
   "source": []
  },
  {
   "cell_type": "code",
   "execution_count": null,
   "id": "89dafbf3",
   "metadata": {},
   "outputs": [
    {
     "ename": "NameError",
     "evalue": "name 'Print' is not defined",
     "output_type": "error",
     "traceback": [
      "\u001b[31m---------------------------------------------------------------------------\u001b[39m",
      "\u001b[31mNameError\u001b[39m                                 Traceback (most recent call last)",
      "\u001b[36mCell\u001b[39m\u001b[36m \u001b[39m\u001b[32mIn[60]\u001b[39m\u001b[32m, line 3\u001b[39m\n\u001b[32m      1\u001b[39m age=\u001b[38;5;28mint\u001b[39m(\u001b[38;5;28minput\u001b[39m(\u001b[33m\"\u001b[39m\u001b[33menter your age : \u001b[39m\u001b[33m\"\u001b[39m))\n\u001b[32m      2\u001b[39m \u001b[38;5;28;01mif\u001b[39;00m age >=\u001b[32m18\u001b[39m:\n\u001b[32m----> \u001b[39m\u001b[32m3\u001b[39m     \u001b[43mPrint\u001b[49m(\u001b[33m\"\u001b[39m\u001b[33meligible for vote!\u001b[39m\u001b[33m\"\u001b[39m)\n\u001b[32m      4\u001b[39m \u001b[38;5;28;01melse\u001b[39;00m:\n\u001b[32m      5\u001b[39m     \u001b[38;5;28mprint\u001b[39m(\u001b[33m\"\u001b[39m\u001b[33myou are not eligible for vote!\u001b[39m\u001b[33m\"\u001b[39m)\n",
      "\u001b[31mNameError\u001b[39m: name 'Print' is not defined"
     ]
    }
   ],
   "source": [
    "age=int(input(\"enter your age : \"))\n",
    "if age >=18:\n",
    "    Print (\"eligible for vote!\")\n",
    "else:\n",
    "    print (\"you are not eligible for vote!\")\n"
   ]
  },
  {
   "cell_type": "code",
   "execution_count": 69,
   "id": "2afa655d",
   "metadata": {},
   "outputs": [
    {
     "name": "stdout",
     "output_type": "stream",
     "text": [
      "you are not eligible for vote\n"
     ]
    }
   ],
   "source": [
    "age=int(input(\"enter you age\"))\n",
    "if age >=18:\n",
    "    print(\"you are eligible for vote\")\n",
    "else:\n",
    "    print (\"you are not eligible for vote\")"
   ]
  },
  {
   "cell_type": "code",
   "execution_count": 70,
   "id": "7c3e8e80",
   "metadata": {},
   "outputs": [
    {
     "name": "stdout",
     "output_type": "stream",
     "text": [
      "the largest number is 68.0\n"
     ]
    }
   ],
   "source": [
    "num1=float(input(\"enter the first number\"))\n",
    "num2=float(input('enter the second number'))\n",
    "num3=float(input(\"enter the third number\"))\n",
    "if (num1>=num2 and num1>=num3):\n",
    "   largest = num1\n",
    "elif(num2>=num1 and num2>=num3):\n",
    "    largest = num2\n",
    "else:\n",
    "    largest =num3\n",
    "    print(\"the largest number is\", largest)"
   ]
  },
  {
   "cell_type": "code",
   "execution_count": 89,
   "id": "05421c7b",
   "metadata": {},
   "outputs": [
    {
     "name": "stdout",
     "output_type": "stream",
     "text": [
      "it is not dividable\n"
     ]
    }
   ],
   "source": [
    "num=int(input(\"enter number\"))\n",
    "if (num % 5==0 and num % 11==0):\n",
    "    print (\"it is dividable\")\n",
    "else:\n",
    "    print (\"it is not dividable\")"
   ]
  },
  {
   "cell_type": "code",
   "execution_count": 93,
   "id": "65fe8ec8",
   "metadata": {},
   "outputs": [
    {
     "name": "stdout",
     "output_type": "stream",
     "text": [
      "20 this is not dividable\n"
     ]
    }
   ],
   "source": [
    "num=int(input('enter positive number'))\n",
    "if num % 5==0 and num % 11==0:\n",
    "    print(num, \"this is dividable\")\n",
    "else:\n",
    "    print (num, \"this is not dividable\")"
   ]
  },
  {
   "cell_type": "code",
   "execution_count": 109,
   "id": "a0137052",
   "metadata": {},
   "outputs": [
    {
     "name": "stdout",
     "output_type": "stream",
     "text": [
      "45 obese\n"
     ]
    }
   ],
   "source": [
    "num=int(input(\"enter a number\"))\n",
    "if num <=40:\n",
    "    print(num, \"underweight\")\n",
    "elif num ==41-55:\n",
    "    print(\"normal weight\")\n",
    "elif num ==56-80:\n",
    "    print(\"overwight\")\n",
    "else:\n",
    "    print(num, \"obese\")\n",
    "\n"
   ]
  },
  {
   "cell_type": "code",
   "execution_count": 115,
   "id": "e9baff37",
   "metadata": {},
   "outputs": [
    {
     "name": "stdout",
     "output_type": "stream",
     "text": [
      "normal weight\n"
     ]
    }
   ],
   "source": [
    "weight=int(input())\n",
    "height=float(input())\n",
    "x=weight/float(height*height)\n",
    "if weight<18.5:\n",
    "    Print(\"underweight\")\n",
    "elif x>=18.5 and x<25:\n",
    "    print(\"normal weight\")\n",
    "elif x>=25 and x<30:\n",
    "    print(\"overweight\")\n",
    "elif x>=30:\n",
    "    Print(\"obesity\")\n"
   ]
  },
  {
   "cell_type": "code",
   "execution_count": 118,
   "id": "e95d1e54",
   "metadata": {},
   "outputs": [
    {
     "name": "stdout",
     "output_type": "stream",
     "text": [
      "scalene\n"
     ]
    }
   ],
   "source": [
    "x=int(input())\n",
    "y=int(input())\n",
    "z=int(input())\n",
    "if x==y and y==z:\n",
    "    print(\"equilateral\")\n",
    "elif x==y or y==z or z==x:\n",
    "    print(\"isoseles\")\n",
    "else:\n",
    "    print(\"scalene\")\n"
   ]
  },
  {
   "cell_type": "code",
   "execution_count": 67,
   "id": "aea32b81",
   "metadata": {},
   "outputs": [
    {
     "name": "stdout",
     "output_type": "stream",
     "text": [
      "this is lowercase\n"
     ]
    }
   ],
   "source": [
    "charater = input(\"enter a charater\")\n",
    "if 'a' <= (\"charater\") <='z':\n",
    "    print(\"this is lowercase\")\n",
    "elif 'A' <=charater<='Z':\n",
    "    print(\"this is uppercase\")\n",
    "elif '0'<= charater<= '9':\n",
    "    print(\"this is digit\")\n",
    "else:\n",
    "    print(\"this is not uppercase, lowecse or digit\")"
   ]
  },
  {
   "cell_type": "code",
   "execution_count": 12,
   "id": "3370cac3",
   "metadata": {},
   "outputs": [
    {
     "name": "stdout",
     "output_type": "stream",
     "text": [
      "Uppercase alphabet\n"
     ]
    }
   ],
   "source": [
    "character = input(\"Enter a character: \")\n",
    "\n",
    "if 'A' <= character <= 'Z':\n",
    "    print(\"Uppercase alphabet\")\n",
    "elif 'a' <= character <= 'z':\n",
    "    print(\"Lowercase alphabet\")\n",
    "elif '0' <= character <= '9':\n",
    "    print(\"Digit\")\n",
    "else:\n",
    "    print(\"Not an uppercase character, lowercase character, or digit\")"
   ]
  },
  {
   "cell_type": "code",
   "execution_count": 15,
   "id": "f201b62f",
   "metadata": {},
   "outputs": [
    {
     "ename": "ValueError",
     "evalue": "invalid literal for int() with base 10: 'zhia'",
     "output_type": "error",
     "traceback": [
      "\u001b[31m---------------------------------------------------------------------------\u001b[39m",
      "\u001b[31mValueError\u001b[39m                                Traceback (most recent call last)",
      "\u001b[36mCell\u001b[39m\u001b[36m \u001b[39m\u001b[32mIn[15]\u001b[39m\u001b[32m, line 1\u001b[39m\n\u001b[32m----> \u001b[39m\u001b[32m1\u001b[39m num= \u001b[38;5;28;43mint\u001b[39;49m\u001b[43m(\u001b[49m\u001b[38;5;28;43minput\u001b[39;49m\u001b[43m(\u001b[49m\u001b[33;43m\"\u001b[39;49m\u001b[33;43menter number\u001b[39;49m\u001b[33;43m\"\u001b[39;49m\u001b[43m)\u001b[49m\u001b[43m)\u001b[49m\n\u001b[32m      2\u001b[39m \u001b[38;5;28;01mif\u001b[39;00m num > \u001b[32m0\u001b[39m :\n\u001b[32m      3\u001b[39m     \u001b[38;5;28mprint\u001b[39m (\u001b[33m\"\u001b[39m\u001b[33mpositive\u001b[39m\u001b[33m\"\u001b[39m)\n",
      "\u001b[31mValueError\u001b[39m: invalid literal for int() with base 10: 'zhia'"
     ]
    }
   ],
   "source": [
    "num= int(input(\"enter number\"))\n",
    "if num > 0 :\n",
    "    print (\"positive\")\n",
    "elif num < 0 :\n",
    "    print (\"negative\")\n",
    "else:\n",
    "    print (\"zero\")"
   ]
  },
  {
   "cell_type": "code",
   "execution_count": 21,
   "id": "05cb63bb",
   "metadata": {},
   "outputs": [
    {
     "name": "stdout",
     "output_type": "stream",
     "text": [
      "2023 this is not leap year\n"
     ]
    }
   ],
   "source": [
    "num = int(input(\"enter a number\"))\n",
    "if num % 4 ==0 :\n",
    "    print (num,\"leap year\")\n",
    "else :\n",
    "    print(num,\"this is not leap year\")"
   ]
  },
  {
   "cell_type": "code",
   "execution_count": 23,
   "id": "f2b54f8a",
   "metadata": {},
   "outputs": [
    {
     "name": "stdout",
     "output_type": "stream",
     "text": [
      "even number\n"
     ]
    }
   ],
   "source": [
    "num = int(input(\"enter a number\"))\n",
    "if num % 2 ==0 :\n",
    "    print (\"even number\")\n",
    "else :\n",
    "    print(\"odd numner\")"
   ]
  },
  {
   "cell_type": "code",
   "execution_count": 29,
   "id": "02499225",
   "metadata": {},
   "outputs": [
    {
     "name": "stdout",
     "output_type": "stream",
     "text": [
      "y this is constant\n"
     ]
    }
   ],
   "source": [
    "x=input(\"write a charater\")\n",
    "if x == 'a' or x=='e' or x=='i' or x=='o' or x=='u':\n",
    "    print (\"this is vowel\")\n",
    "else:\n",
    "    print(x,\"this is constant\")"
   ]
  },
  {
   "cell_type": "code",
   "execution_count": 36,
   "id": "a6141283",
   "metadata": {},
   "outputs": [
    {
     "ename": "NameError",
     "evalue": "name 'Print' is not defined",
     "output_type": "error",
     "traceback": [
      "\u001b[31m---------------------------------------------------------------------------\u001b[39m",
      "\u001b[31mNameError\u001b[39m                                 Traceback (most recent call last)",
      "\u001b[36mCell\u001b[39m\u001b[36m \u001b[39m\u001b[32mIn[36]\u001b[39m\u001b[32m, line 3\u001b[39m\n\u001b[32m      1\u001b[39m num = \u001b[38;5;28mint\u001b[39m(\u001b[38;5;28minput\u001b[39m(\u001b[33m\"\u001b[39m\u001b[33mwrite a number\u001b[39m\u001b[33m\"\u001b[39m))\n\u001b[32m      2\u001b[39m \u001b[38;5;28;01mif\u001b[39;00m num >= \u001b[32m18\u001b[39m :\n\u001b[32m----> \u001b[39m\u001b[32m3\u001b[39m     \u001b[43mPrint\u001b[49m (num, \u001b[33m\"\u001b[39m\u001b[33myou are eligible for vote\u001b[39m\u001b[33m\"\u001b[39m)\n\u001b[32m      4\u001b[39m \u001b[38;5;28;01melse\u001b[39;00m :\n\u001b[32m      5\u001b[39m     \u001b[38;5;28mprint\u001b[39m (num, \u001b[33m\"\u001b[39m\u001b[33myou are not eligible for vote\u001b[39m\u001b[33m\"\u001b[39m)\n",
      "\u001b[31mNameError\u001b[39m: name 'Print' is not defined"
     ]
    }
   ],
   "source": [
    "num = int(input(\"write a number\"))\n",
    "if num >= 18 :\n",
    "    Print (num, \"you are eligible for vote\")\n",
    "else :\n",
    "    print (num, \"you are not eligible for vote\")"
   ]
  },
  {
   "cell_type": "code",
   "execution_count": 40,
   "id": "30ab8f12",
   "metadata": {},
   "outputs": [
    {
     "name": "stdout",
     "output_type": "stream",
     "text": [
      "14 you are not eligable \n"
     ]
    }
   ],
   "source": [
    "num =int(input(\"enter a number\"))\n",
    "if num >= 18 :\n",
    "    print (num, \"you are eligable\")\n",
    "else :\n",
    "    print (num, \"you are not eligable \")\n",
    "\n",
    "\n"
   ]
  },
  {
   "cell_type": "code",
   "execution_count": 43,
   "id": "4d984fc7",
   "metadata": {},
   "outputs": [
    {
     "name": "stdout",
     "output_type": "stream",
     "text": [
      "67\n"
     ]
    }
   ],
   "source": [
    "x1=int(input(\"enter number\"))\n",
    "x2=int(input(\"enter number\"))\n",
    "x3=int(input(\"enter number\"))\n",
    "if x1>=x2 and x1>=x3 :\n",
    "    Print (x1)\n",
    "elif x2>= x1 and x2>=x3:\n",
    "    print (x2)\n",
    "else:\n",
    "    print(x3)"
   ]
  },
  {
   "cell_type": "code",
   "execution_count": 46,
   "id": "7dabf0c5",
   "metadata": {},
   "outputs": [
    {
     "ename": "NameError",
     "evalue": "name 'Print' is not defined",
     "output_type": "error",
     "traceback": [
      "\u001b[31m---------------------------------------------------------------------------\u001b[39m",
      "\u001b[31mNameError\u001b[39m                                 Traceback (most recent call last)",
      "\u001b[36mCell\u001b[39m\u001b[36m \u001b[39m\u001b[32mIn[46]\u001b[39m\u001b[32m, line 5\u001b[39m\n\u001b[32m      3\u001b[39m     \u001b[38;5;28mprint\u001b[39m (\u001b[33m\"\u001b[39m\u001b[33mnumber is dividable\u001b[39m\u001b[33m\"\u001b[39m)\n\u001b[32m      4\u001b[39m \u001b[38;5;28;01melse\u001b[39;00m: \n\u001b[32m----> \u001b[39m\u001b[32m5\u001b[39m     \u001b[43mPrint\u001b[49m(\u001b[33m\"\u001b[39m\u001b[33mnumner is not dividable\u001b[39m\u001b[33m\"\u001b[39m)\n",
      "\u001b[31mNameError\u001b[39m: name 'Print' is not defined"
     ]
    }
   ],
   "source": [
    "num =int(input(\"enter number\"))\n",
    "if num % 5 and 11 ==0 :\n",
    "    print (\"number is dividable\")\n",
    "else: \n",
    "    Print(\"numner is not dividable\")"
   ]
  },
  {
   "cell_type": "code",
   "execution_count": 47,
   "id": "3986131a",
   "metadata": {},
   "outputs": [],
   "source": [
    "num = int"
   ]
  },
  {
   "cell_type": "code",
   "execution_count": 55,
   "id": "bb144272",
   "metadata": {},
   "outputs": [
    {
     "name": "stdout",
     "output_type": "stream",
     "text": [
      "13 not dividable\n"
     ]
    }
   ],
   "source": [
    "num= int(input(\"enter a number\"))\n",
    "if num % 5 ==0 or num % 11 ==0 :\n",
    "    print(\"dividable\")\n",
    "else:\n",
    "    print(num,\"not dividable\")"
   ]
  },
  {
   "cell_type": "code",
   "execution_count": 65,
   "id": "a1c7d601",
   "metadata": {},
   "outputs": [
    {
     "ename": "SyntaxError",
     "evalue": "invalid syntax (2541202482.py, line 6)",
     "output_type": "error",
     "traceback": [
      "  \u001b[36mCell\u001b[39m\u001b[36m \u001b[39m\u001b[32mIn[65]\u001b[39m\u001b[32m, line 6\u001b[39m\n\u001b[31m    \u001b[39m\u001b[31melif 18.5 bmi < 25:\u001b[39m\n              ^\n\u001b[31mSyntaxError\u001b[39m\u001b[31m:\u001b[39m invalid syntax\n"
     ]
    }
   ],
   "source": [
    "weight=int(input(\"enter a number\"))\n",
    "height=float(input(\"enter a number\"))\n",
    "bmi= weight/(height*height)\n",
    "if bmi <= 18.5 :\n",
    "    print(\"unerweight\")\n",
    "elif 18.5 bmi < 25:\n",
    "    print (\"normal\")\n",
    "elif >=25 and <30:\n",
    "    print (\"overweight\")\n",
    "else:\n",
    "    Print (\"obese\")\n",
    " "
   ]
  },
  {
   "cell_type": "code",
   "execution_count": 66,
   "id": "7db47d7b",
   "metadata": {},
   "outputs": [
    {
     "name": "stdout",
     "output_type": "stream",
     "text": [
      "BMI Calculator\n",
      "Your BMI is: 16.40\n",
      "Category: Underweight\n"
     ]
    }
   ],
   "source": [
    "def calculate_bmi(weight, height):\n",
    "    \"\"\"Calculate BMI using the formula: BMI = weight (kg) / height (m)^2\"\"\"\n",
    "    return weight / (height ** 2)\n",
    "\n",
    "def categorize_bmi(bmi):\n",
    "    \"\"\"Categorize BMI based on WHO standards\"\"\"\n",
    "    if bmi < 18.5:\n",
    "        return \"Underweight\"\n",
    "    elif 18.5 <= bmi < 24.9:\n",
    "        return \"Normal weight\"\n",
    "    elif 25 <= bmi < 29.9:\n",
    "        return \"Overweight\"\n",
    "    else:\n",
    "        return \"Obese\"\n",
    "\n",
    "def main():\n",
    "    print(\"BMI Calculator\")\n",
    "    weight = float(input(\"Enter your weight in kilograms: \"))\n",
    "    height = float(input(\"Enter your height in meters: \"))\n",
    "    \n",
    "    bmi = calculate_bmi(weight, height)\n",
    "    category = categorize_bmi(bmi)\n",
    "    \n",
    "    print(f\"Your BMI is: {bmi:.2f}\")\n",
    "    print(f\"Category: {category}\")\n",
    "\n",
    "if __name__ == \"__main__\":\n",
    "    main()\n"
   ]
  },
  {
   "cell_type": "code",
   "execution_count": 68,
   "id": "04ff7abc",
   "metadata": {},
   "outputs": [
    {
     "ename": "SyntaxError",
     "evalue": "invalid syntax (1018335694.py, line 2)",
     "output_type": "error",
     "traceback": [
      "  \u001b[36mCell\u001b[39m\u001b[36m \u001b[39m\u001b[32mIn[68]\u001b[39m\u001b[32m, line 2\u001b[39m\n\u001b[31m    \u001b[39m\u001b[31mif  'a'=(cha) = 'z':\u001b[39m\n           ^\n\u001b[31mSyntaxError\u001b[39m\u001b[31m:\u001b[39m invalid syntax\n"
     ]
    }
   ],
   "source": [
    "cha=input(\"enter charater\")\n",
    "if  'a'=(cha) = 'z':\n"
   ]
  },
  {
   "cell_type": "code",
   "execution_count": 76,
   "id": "e7bba141",
   "metadata": {},
   "outputs": [
    {
     "name": "stdout",
     "output_type": "stream",
     "text": [
      "Uppercase\n"
     ]
    }
   ],
   "source": [
    "charater= input(\"enter a charater\")\n",
    "if \"a\" <= character <= 'z':\n",
    "    print(\"lowecase\")\n",
    "elif 'A'<= character <= \"Z\":\n",
    "    print(\"Uppercase\")\n",
    "elif '0' <=character <= '9':\n",
    "    print('digit')\n",
    "else:\n",
    "    print (\"it is not upper lower digit\")"
   ]
  },
  {
   "cell_type": "code",
   "execution_count": 84,
   "id": "dbfe7618",
   "metadata": {},
   "outputs": [
    {
     "name": "stdout",
     "output_type": "stream",
     "text": [
      "it is not u l and digit\n"
     ]
    }
   ],
   "source": [
    "character=input(\"enter a character\")\n",
    "if \"A\"<= character <= 'Z':\n",
    "    print(\"uppercase\")\n",
    "elif 'a'<= character <= 'z':\n",
    "    print(\"lowercase\")\n",
    "elif '0'<= character <= '9':\n",
    "    print(\"digit\")\n",
    "else:\n",
    "    print(\"it is not u l and digit\")"
   ]
  },
  {
   "cell_type": "code",
   "execution_count": 94,
   "id": "c428bfea",
   "metadata": {},
   "outputs": [
    {
     "name": "stdout",
     "output_type": "stream",
     "text": [
      "1st grade\n"
     ]
    }
   ],
   "source": [
    "marks=int(input(\"enter number\"))\n",
    "if marks <=420 :\n",
    "    print(\"1st grade\")\n",
    "elif marks >= 419 :\n",
    "    print (\"2nd grade\")"
   ]
  },
  {
   "cell_type": "code",
   "execution_count": 97,
   "id": "7dba9aa2",
   "metadata": {},
   "outputs": [
    {
     "ename": "IndentationError",
     "evalue": "expected an indented block after function definition on line 1 (3756467325.py, line 2)",
     "output_type": "error",
     "traceback": [
      "  \u001b[36mCell\u001b[39m\u001b[36m \u001b[39m\u001b[32mIn[97]\u001b[39m\u001b[32m, line 2\u001b[39m\n\u001b[31m    \u001b[39m\u001b[31mif 90 <= marks <= 100 :\u001b[39m\n    ^\n\u001b[31mIndentationError\u001b[39m\u001b[31m:\u001b[39m expected an indented block after function definition on line 1\n"
     ]
    }
   ],
   "source": [
    "def calculate_grde (marks):\n",
    "if 90 <= marks <= 100 :\n",
    "    print (\"A\")\n",
    "else 80 <= marks <= 90 :\n",
    "    print (\"B\")\n"
   ]
  },
  {
   "cell_type": "code",
   "execution_count": 108,
   "id": "8095b61d",
   "metadata": {},
   "outputs": [
    {
     "name": "stdout",
     "output_type": "stream",
     "text": [
      "B Grade\n"
     ]
    }
   ],
   "source": [
    "marks =int(input(\"enter number\"))\n",
    "if 90 <= marks <=100 :\n",
    "    print (\"A Grade\")\n",
    "elif 80 <= marks <=90 :\n",
    "    print (\"B Grade\")\n",
    "elif 70 <= marks <=80 :\n",
    "    print(\"C Grade\")\n",
    "elif 60 <= marks <=70 :\n",
    "    print (\"D Grade\")\n",
    "elif 50 <= marks <=60 :\n",
    "    print (\"E Grade\")\n",
    "elif 40 <= marks <= 50:\n",
    "    print (\"F Grade\")\n",
    "else :\n",
    "    print (\"G Grade\")"
   ]
  },
  {
   "cell_type": "code",
   "execution_count": 112,
   "id": "6b4cff4c",
   "metadata": {},
   "outputs": [
    {
     "name": "stdout",
     "output_type": "stream",
     "text": [
      "Go\n"
     ]
    }
   ],
   "source": [
    "light=input (\"enter a word\")\n",
    "if light == \"red\" :\n",
    "    print (\"stop\")\n",
    "elif light == \"yellow\" :\n",
    "    print(\"Get ready\")\n",
    "elif light == \"green\" :\n",
    "    print (\"Go\")\n",
    "else:\n",
    "    print (\"weight for light and instructions\")"
   ]
  },
  {
   "cell_type": "code",
   "execution_count": null,
   "id": "d1956b86",
   "metadata": {},
   "outputs": [],
   "source": [
    "unit = int(input(\"enter number\"))\n",
    "bill = unit* float(input(\"enter number\"))\n",
    "if unit <= 100:\n",
    "    bill = unit *3.50\n",
    "elif unit <=200 :\n",
    "    bill = unit* 3.50 +(unit - 100)* 4.50\n",
    "elif unit <= 300 :\n",
    "    bill= unit * 3.50 +100 *4.50 +(unit -200)*6.00 \n",
    "else :\n",
    "    bill= 100* 3.30 +100*4.50+100*6.00 -(unit +300)* 7.00\n",
    "    "
   ]
  },
  {
   "cell_type": "code",
   "execution_count": 25,
   "id": "3ed08501",
   "metadata": {},
   "outputs": [
    {
     "name": "stdout",
     "output_type": "stream",
     "text": [
      "5250.0\n"
     ]
    }
   ],
   "source": [
    "def calulate_bill(units) :\n",
    "    pass\n",
    "unit = int(input(\"Enter the number of units consumed\"))\n",
    "bill= unit*float(unit)\n",
    "if unit <=100 :\n",
    "    bill =unit *3.50\n",
    "elif unit <=200 :\n",
    "    bill = unit*3.50+(unit -100)*4.50\n",
    "elif unit <=300 :\n",
    "    bill = unit *3.50+ 100*4.50+(unit -200)* 6.00\n",
    "else :\n",
    "    bill = unit *3.50+ 100*4.50+100*6.00+(unit -300)* 7.00\n",
    "    print (bill)"
   ]
  },
  {
   "cell_type": "code",
   "execution_count": 27,
   "id": "a733de07",
   "metadata": {},
   "outputs": [
    {
     "name": "stdout",
     "output_type": "stream",
     "text": [
      "1st letter is vowel: Amar\n"
     ]
    }
   ],
   "source": [
    "sen= input(\"enter a charather\")\n",
    "vowel = \"aeiousAEIOU\"\n",
    "if sen [0] in vowel :\n",
    "    print (\"1st letter is vowel:\", sen)\n",
    "else :\n",
    "    print (\"1st letter is constant:\", sen)\n",
    " \n"
   ]
  },
  {
   "cell_type": "code",
   "execution_count": 38,
   "id": "70bb6eef",
   "metadata": {},
   "outputs": [
    {
     "name": "stdout",
     "output_type": "stream",
     "text": [
      "15000.0\n"
     ]
    }
   ],
   "source": [
    "inc= int (input(\"enter a number\"))\n",
    "\n",
    "if inc <=100000 :\n",
    "    print (inc*00.5)\n",
    "elif inc <=200000:\n",
    "    print (inc*0.10)\n"
   ]
  },
  {
   "cell_type": "code",
   "execution_count": 42,
   "id": "74e3e6c8",
   "metadata": {},
   "outputs": [
    {
     "name": "stdout",
     "output_type": "stream",
     "text": [
      "composite numner\n"
     ]
    }
   ],
   "source": [
    "prime = int(input(\"enter a number\"))\n",
    "if prime % 2==0 :\n",
    "    print (\"composite numner\")\n",
    "else :\n",
    "    print(\"prime number\")"
   ]
  },
  {
   "cell_type": "code",
   "execution_count": 45,
   "id": "5078cac7",
   "metadata": {},
   "outputs": [
    {
     "name": "stdout",
     "output_type": "stream",
     "text": [
      "no\n"
     ]
    }
   ],
   "source": [
    "phe= input(\"enter a string\")\n",
    "if phe == phe [: : -1]:\n",
    "    print (\"yes\")\n",
    "else :\n",
    "    print(\"no\")"
   ]
  },
  {
   "cell_type": "markdown",
   "id": "377c3bab",
   "metadata": {},
   "source": []
  },
  {
   "cell_type": "code",
   "execution_count": null,
   "id": "b66d99d1",
   "metadata": {},
   "outputs": [
    {
     "ename": "NameError",
     "evalue": "name 'choice' is not defined",
     "output_type": "error",
     "traceback": [
      "\u001b[31m---------------------------------------------------------------------------\u001b[39m",
      "\u001b[31mNameError\u001b[39m                                 Traceback (most recent call last)",
      "\u001b[36mCell\u001b[39m\u001b[36m \u001b[39m\u001b[32mIn[9]\u001b[39m\u001b[32m, line 16\u001b[39m\n\u001b[32m     14\u001b[39m         \u001b[38;5;28;01mpass\u001b[39;00m\n\u001b[32m     15\u001b[39m         choice = \u001b[38;5;28mint\u001b[39m(\u001b[38;5;28minput\u001b[39m(\u001b[33m\"\u001b[39m\u001b[38;5;130;01m\\n\u001b[39;00m\u001b[33m enter the number of the them you want to order(1-5):\u001b[39m\u001b[33m\"\u001b[39m))\n\u001b[32m---> \u001b[39m\u001b[32m16\u001b[39m \u001b[38;5;28;01mif\u001b[39;00m \u001b[43mchoice\u001b[49m ==\u001b[32m1\u001b[39m :\n\u001b[32m     17\u001b[39m     total_cost +=\u001b[32m150\u001b[39m \n\u001b[32m     18\u001b[39m     Print(\u001b[33m\"\u001b[39m\u001b[33m Tea added in you order\u001b[39m\u001b[33m\"\u001b[39m)\n",
      "\u001b[31mNameError\u001b[39m: name 'choice' is not defined"
     ]
    }
   ],
   "source": [
    "def disply_menu():\n",
    "    \"Displays the coffee shop menu with item numbers, names, and prices\"\n",
    "    print (\"\\n---Coffee shop menu\")\n",
    "    print (\"1. Tea-150\")\n",
    "    print (\"2. Coffee-250\")\n",
    "    print (\"3. Tea with snacks-350\")\n",
    "    print (\"4.Coffee with poha- 450\")\n",
    "    print (\"5. exit\")\n",
    "\n",
    "def take_order ():\n",
    "    \"slect item and toal cost\"\n",
    "    total_cost =0\n",
    "    while True:\n",
    "        pass\n",
    "        choice = int(input(\"\\n enter the number of the them you want to order(1-5):\"))\n",
    "if choice ==1 :\n",
    "    total_cost +=150 \n",
    "    Print(\" Tea added in you order\")\n",
    "                     \n"
   ]
  },
  {
   "cell_type": "code",
   "execution_count": null,
   "id": "dab36cb6",
   "metadata": {},
   "outputs": [],
   "source": []
  }
 ],
 "metadata": {
  "kernelspec": {
   "display_name": ".venv",
   "language": "python",
   "name": "python3"
  },
  "language_info": {
   "codemirror_mode": {
    "name": "ipython",
    "version": 3
   },
   "file_extension": ".py",
   "mimetype": "text/x-python",
   "name": "python",
   "nbconvert_exporter": "python",
   "pygments_lexer": "ipython3",
   "version": "3.12.4"
  }
 },
 "nbformat": 4,
 "nbformat_minor": 5
}
