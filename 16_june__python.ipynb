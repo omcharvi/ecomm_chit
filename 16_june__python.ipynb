{
 "cells": [
  {
   "cell_type": "code",
   "execution_count": 7,
   "id": "8312a07d",
   "metadata": {},
   "outputs": [],
   "source": [
    "def add (a,b):\n",
    "    print (\"the input is {a} and {b}\")\n",
    "    c=a+b\n",
    "    print (\"the sum is \", c)\n",
    "    return c"
   ]
  },
  {
   "cell_type": "code",
   "execution_count": 6,
   "id": "d0f9e7ab",
   "metadata": {},
   "outputs": [],
   "source": [
    "def mul (a, b):\n",
    "    print (\"the iput is {a} and {b}\")\n",
    "    c=a+b\n",
    "    print (\"the product is \", c)\n",
    "    return c"
   ]
  },
  {
   "cell_type": "code",
   "execution_count": null,
   "id": "f0a7279e",
   "metadata": {},
   "outputs": [],
   "source": [
    "def div(a,bin):\n",
    "    print (\"the iput is {a} and {b}\")\n",
    "    c=a+b\n",
    "    print (\"the remainder is \", c)\n",
    "    return c"
   ]
  },
  {
   "cell_type": "code",
   "execution_count": null,
   "id": "8a9fcd31",
   "metadata": {},
   "outputs": [],
   "source": [
    "def mod (a,bin):\n",
    "    print (\"the iput is {a} and {b}\")\n",
    "    c=a+b\n",
    "    print (\"the remainder is \", c)\n",
    "    return c"
   ]
  },
  {
   "cell_type": "code",
   "execution_count": 5,
   "id": "e0d76ff5",
   "metadata": {},
   "outputs": [],
   "source": [
    "def rem (a,bin):\n",
    "    print (\"the iput is {a} and {b}\")\n",
    "    c=a+b\n",
    "    print (\"the remainder is \", c)\n",
    "    return c"
   ]
  },
  {
   "cell_type": "code",
   "execution_count": 11,
   "id": "6b2ede6a",
   "metadata": {},
   "outputs": [
    {
     "ename": "NameError",
     "evalue": "name 'decorator_custome' is not defined",
     "output_type": "error",
     "traceback": [
      "\u001b[31m---------------------------------------------------------------------------\u001b[39m",
      "\u001b[31mNameError\u001b[39m                                 Traceback (most recent call last)",
      "\u001b[36mCell\u001b[39m\u001b[36m \u001b[39m\u001b[32mIn[11]\u001b[39m\u001b[32m, line 1\u001b[39m\n\u001b[32m----> \u001b[39m\u001b[32m1\u001b[39m \u001b[38;5;129m@decorator_custome\u001b[39m\n\u001b[32m      2\u001b[39m \u001b[38;5;28;01mdef\u001b[39;00m\u001b[38;5;250m \u001b[39m\u001b[34msub\u001b[39m(a,b):\n\u001b[32m      3\u001b[39m     c= a-b\n\u001b[32m      4\u001b[39m     \u001b[38;5;28;01mreturn\u001b[39;00m c\n",
      "\u001b[31mNameError\u001b[39m: name 'decorator_custome' is not defined"
     ]
    }
   ],
   "source": [
    "@decorator_custome\n",
    "def sub(a,b):\n",
    "    c= a-b\n",
    "    return c"
   ]
  },
  {
   "cell_type": "code",
   "execution_count": null,
   "id": "d26152d4",
   "metadata": {},
   "outputs": [
    {
     "ename": "SyntaxError",
     "evalue": "expected '(' (460185187.py, line 1)",
     "output_type": "error",
     "traceback": [
      "  \u001b[36mCell\u001b[39m\u001b[36m \u001b[39m\u001b[32mIn[9]\u001b[39m\u001b[32m, line 1\u001b[39m\n\u001b[31m    \u001b[39m\u001b[31mdef decorator_\u001b[39m\n                  ^\n\u001b[31mSyntaxError\u001b[39m\u001b[31m:\u001b[39m expected '('\n"
     ]
    }
   ],
   "source": [
    "def decorator_funciton(func):\n",
    "    def impl (a,b):\n",
    "        print "
   ]
  },
  {
   "cell_type": "code",
   "execution_count": 14,
   "id": "cad42e0c",
   "metadata": {},
   "outputs": [
    {
     "ename": "NameError",
     "evalue": "name 'decorator_custome' is not defined",
     "output_type": "error",
     "traceback": [
      "\u001b[31m---------------------------------------------------------------------------\u001b[39m",
      "\u001b[31mNameError\u001b[39m                                 Traceback (most recent call last)",
      "\u001b[36mCell\u001b[39m\u001b[36m \u001b[39m\u001b[32mIn[14]\u001b[39m\u001b[32m, line 1\u001b[39m\n\u001b[32m----> \u001b[39m\u001b[32m1\u001b[39m \u001b[38;5;129m@decorator_custome\u001b[39m\n\u001b[32m      2\u001b[39m \u001b[38;5;28;01mdef\u001b[39;00m\u001b[38;5;250m \u001b[39m\u001b[34madd\u001b[39m(a,b):\n\u001b[32m      3\u001b[39m     c=a+b\n\u001b[32m      4\u001b[39m     \u001b[38;5;28;01mreturn\u001b[39;00m c\n",
      "\u001b[31mNameError\u001b[39m: name 'decorator_custome' is not defined"
     ]
    }
   ],
   "source": [
    "@decorator_custome\n",
    "def add(a,b):\n",
    "    c=a+b\n",
    "    return c"
   ]
  },
  {
   "cell_type": "code",
   "execution_count": 26,
   "id": "19d42252",
   "metadata": {},
   "outputs": [],
   "source": [
    "def decorator_custome(func):\n",
    "    def impl(a,b):\n",
    "        print(f\"the function {func.__name__} is called with {a}and {b}\")\n",
    "        result = func(a,b)\n",
    "        print (f\"the result of {func.__name__}is {result}\")\n",
    "        return result\n",
    "    return impl\n"
   ]
  },
  {
   "cell_type": "code",
   "execution_count": 27,
   "id": "1d46a8de",
   "metadata": {},
   "outputs": [],
   "source": [
    "@decorator_custome\n",
    "def sub (a,b):\n",
    "    c= a-b\n",
    "    return c"
   ]
  },
  {
   "cell_type": "code",
   "execution_count": 28,
   "id": "2aedf174",
   "metadata": {},
   "outputs": [
    {
     "name": "stdout",
     "output_type": "stream",
     "text": [
      "the function sub is called with 7and 4\n",
      "the result of subis 3\n"
     ]
    },
    {
     "data": {
      "text/plain": [
       "3"
      ]
     },
     "execution_count": 28,
     "metadata": {},
     "output_type": "execute_result"
    }
   ],
   "source": [
    "sub(7,4)"
   ]
  },
  {
   "cell_type": "code",
   "execution_count": 30,
   "id": "63bad713",
   "metadata": {},
   "outputs": [],
   "source": [
    "@decorator_custome\n",
    "def add (a,b):\n",
    "    c =a+b\n",
    "    return c"
   ]
  },
  {
   "cell_type": "code",
   "execution_count": 31,
   "id": "6647bf27",
   "metadata": {},
   "outputs": [
    {
     "name": "stdout",
     "output_type": "stream",
     "text": [
      "the function add is called with 6and 8\n",
      "the result of addis 14\n"
     ]
    },
    {
     "data": {
      "text/plain": [
       "14"
      ]
     },
     "execution_count": 31,
     "metadata": {},
     "output_type": "execute_result"
    }
   ],
   "source": [
    "add (6,8)"
   ]
  },
  {
   "cell_type": "code",
   "execution_count": 32,
   "id": "835772ae",
   "metadata": {},
   "outputs": [],
   "source": [
    "@decorator_custome\n",
    "def mul (a,b):\n",
    "    c = a*b\n",
    "    return c"
   ]
  },
  {
   "cell_type": "code",
   "execution_count": 33,
   "id": "4d24915d",
   "metadata": {},
   "outputs": [
    {
     "name": "stdout",
     "output_type": "stream",
     "text": [
      "the function mul is called with 7and 6\n",
      "the result of mulis 42\n"
     ]
    },
    {
     "data": {
      "text/plain": [
       "42"
      ]
     },
     "execution_count": 33,
     "metadata": {},
     "output_type": "execute_result"
    }
   ],
   "source": [
    "mul (7,6)"
   ]
  },
  {
   "cell_type": "code",
   "execution_count": 34,
   "id": "54f861f9",
   "metadata": {},
   "outputs": [],
   "source": [
    "@decorator_custome\n",
    "def div (a,b):\n",
    "    c= a/b\n",
    "    return c"
   ]
  },
  {
   "cell_type": "code",
   "execution_count": 36,
   "id": "f6164ca1",
   "metadata": {},
   "outputs": [
    {
     "name": "stdout",
     "output_type": "stream",
     "text": [
      "the function div is called with 8and 3\n",
      "the result of divis 2.6666666666666665\n"
     ]
    },
    {
     "data": {
      "text/plain": [
       "2.6666666666666665"
      ]
     },
     "execution_count": 36,
     "metadata": {},
     "output_type": "execute_result"
    }
   ],
   "source": [
    "div (8,3)"
   ]
  },
  {
   "cell_type": "code",
   "execution_count": 37,
   "id": "27bad681",
   "metadata": {},
   "outputs": [
    {
     "ename": "SyntaxError",
     "evalue": "invalid syntax (2649208407.py, line 1)",
     "output_type": "error",
     "traceback": [
      "  \u001b[36mCell\u001b[39m\u001b[36m \u001b[39m\u001b[32mIn[37]\u001b[39m\u001b[32m, line 1\u001b[39m\n\u001b[31m    \u001b[39m\u001b[31mdef loop_list(1):\u001b[39m\n                  ^\n\u001b[31mSyntaxError\u001b[39m\u001b[31m:\u001b[39m invalid syntax\n"
     ]
    }
   ],
   "source": [
    "def loop_list(1):\n",
    "    for i in 1:\n",
    "        return (i)"
   ]
  },
  {
   "cell_type": "code",
   "execution_count": 38,
   "id": "8e8c91ff",
   "metadata": {},
   "outputs": [],
   "source": [
    "data = \"omcharvi.one, hinien.one@gmail.com, name@gmail.com, sdsi,jwflk, deeapak@gmail.com\""
   ]
  },
  {
   "cell_type": "code",
   "execution_count": 39,
   "id": "6a3b92ff",
   "metadata": {},
   "outputs": [
    {
     "data": {
      "text/plain": [
       "'omcharvi.one, hinien.one@gmail.com, name@gmail.com, sdsi,jwflk, deeapak@gmail.com'"
      ]
     },
     "execution_count": 39,
     "metadata": {},
     "output_type": "execute_result"
    }
   ],
   "source": [
    "data"
   ]
  },
  {
   "cell_type": "code",
   "execution_count": 40,
   "id": "1d1e56bf",
   "metadata": {},
   "outputs": [],
   "source": [
    "import re"
   ]
  },
  {
   "cell_type": "code",
   "execution_count": 46,
   "id": "189948e9",
   "metadata": {},
   "outputs": [
    {
     "ename": "SyntaxError",
     "evalue": "unterminated string literal (detected at line 2) (3469001366.py, line 2)",
     "output_type": "error",
     "traceback": [
      "  \u001b[36mCell\u001b[39m\u001b[36m \u001b[39m\u001b[32mIn[46]\u001b[39m\u001b[32m, line 2\u001b[39m\n\u001b[31m    \u001b[39m\u001b[31mre.finaall=r\"(?:[a-zA-Z0-9._%+-]+@[a-zA-Z0-9.-]+\\.[a-zA-Z]{2,}|[a-zA-Z0-9]+)\u001b[39m\n               ^\n\u001b[31mSyntaxError\u001b[39m\u001b[31m:\u001b[39m unterminated string literal (detected at line 2)\n"
     ]
    }
   ],
   "source": [
    "import re\n",
    "re.finaall=r\"(?:[a-zA-Z0-9._%+-]+@[a-zA-Z0-9.-]+\\.[a-zA-Z]{2,}|[a-zA-Z0-9]+)"
   ]
  },
  {
   "cell_type": "code",
   "execution_count": 47,
   "id": "23a8357a",
   "metadata": {},
   "outputs": [
    {
     "data": {
      "text/plain": [
       "['omcharvi',\n",
       " 'one',\n",
       " 'hinien.one@gmail.com',\n",
       " 'name@gmail.com',\n",
       " 'sdsi',\n",
       " 'jwflk',\n",
       " 'deeapak@gmail.com']"
      ]
     },
     "execution_count": 47,
     "metadata": {},
     "output_type": "execute_result"
    }
   ],
   "source": [
    "import re\n",
    "re. findall (r\"(?:[a-zA-Z0-9._%+-]+@[a-zA-Z0-9.-]+\\.[a-zA-Z]{2,}|[a-zA-Z0-9]+)\", data)"
   ]
  },
  {
   "cell_type": "code",
   "execution_count": null,
   "id": "a1b67bb2",
   "metadata": {},
   "outputs": [],
   "source": [
    "data = \"+926836832\", +1 9798698, \n"
   ]
  },
  {
   "cell_type": "code",
   "execution_count": 49,
   "id": "6f8bb593",
   "metadata": {},
   "outputs": [
    {
     "data": {
      "text/plain": [
       "<re.Match object; span=(8, 10), match='is'>"
      ]
     },
     "execution_count": 49,
     "metadata": {},
     "output_type": "execute_result"
    }
   ],
   "source": [
    "data= \"my name is chitranjan\"\n",
    "re.search(r\"is\", data)"
   ]
  },
  {
   "cell_type": "code",
   "execution_count": 50,
   "id": "4c966d8a",
   "metadata": {},
   "outputs": [],
   "source": [
    "data= \"chitranjan, kausha, om , charvi, sonalika, kavita, euron\""
   ]
  },
  {
   "cell_type": "code",
   "execution_count": 51,
   "id": "254632ba",
   "metadata": {},
   "outputs": [
    {
     "data": {
      "text/plain": [
       "['chitranjan', ' kausha', ' om ', ' charvi', ' sonalika', ' kavita', ' euron']"
      ]
     },
     "execution_count": 51,
     "metadata": {},
     "output_type": "execute_result"
    }
   ],
   "source": [
    "re.split(r\",\",data)"
   ]
  },
  {
   "cell_type": "code",
   "execution_count": null,
   "id": "f89e7183",
   "metadata": {},
   "outputs": [],
   "source": []
  }
 ],
 "metadata": {
  "kernelspec": {
   "display_name": ".venv",
   "language": "python",
   "name": "python3"
  },
  "language_info": {
   "codemirror_mode": {
    "name": "ipython",
    "version": 3
   },
   "file_extension": ".py",
   "mimetype": "text/x-python",
   "name": "python",
   "nbconvert_exporter": "python",
   "pygments_lexer": "ipython3",
   "version": "3.12.4"
  }
 },
 "nbformat": 4,
 "nbformat_minor": 5
}
